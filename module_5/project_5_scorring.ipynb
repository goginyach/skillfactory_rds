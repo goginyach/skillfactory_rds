{
 "cells": [
  {
   "cell_type": "code",
   "execution_count": 350,
   "id": "primary-group",
   "metadata": {
    "_cell_guid": "b1076dfc-b9ad-4769-8c92-a6c4dae69d19",
    "_uuid": "8f2839f25d086af736a60e9eeb907d3b93b6e0e5",
    "execution": {
     "iopub.execute_input": "2021-06-30T16:26:49.853111Z",
     "iopub.status.busy": "2021-06-30T16:26:49.852575Z",
     "iopub.status.idle": "2021-06-30T16:26:51.077060Z",
     "shell.execute_reply": "2021-06-30T16:26:51.076137Z",
     "shell.execute_reply.started": "2021-06-30T16:21:40.512112Z"
    },
    "papermill": {
     "duration": 1.326303,
     "end_time": "2021-06-30T16:26:51.077212",
     "exception": false,
     "start_time": "2021-06-30T16:26:49.750909",
     "status": "completed"
    },
    "tags": []
   },
   "outputs": [],
   "source": [
    "# Импортируем все необходимые для работы библиотеки и инструменты\n",
    "\n",
    "import pandas as pd\n",
    "import numpy as np\n",
    "import matplotlib.pyplot as plt\n",
    "import seaborn as sns\n",
    "import datetime as dt\n",
    "import os\n",
    "\n",
    "from pandas import Series\n",
    "\n",
    "from sklearn import metrics \n",
    "from sklearn.feature_selection import f_classif, mutual_info_classif\n",
    "\n",
    "from sklearn.preprocessing import LabelEncoder, OneHotEncoder, StandardScaler\n",
    "from sklearn.model_selection import train_test_split, GridSearchCV\n",
    "\n",
    "from sklearn.linear_model import LogisticRegression\n",
    "from sklearn.ensemble import RandomForestRegressor \n",
    "from sklearn.metrics import confusion_matrix, auc, roc_auc_score, roc_curve, accuracy_score, precision_score, recall_score, f1_score \n",
    "\n",
    "%matplotlib inline"
   ]
  },
  {
   "cell_type": "code",
   "execution_count": 351,
   "id": "laughing-logging",
   "metadata": {
    "_cell_guid": "79c7e3d0-c299-4dcb-8224-4455121ee9b0",
    "_uuid": "d629ff2d2480ee46fbb7e2d37f6b5fab8052498a",
    "execution": {
     "iopub.execute_input": "2021-06-30T16:26:51.263787Z",
     "iopub.status.busy": "2021-06-30T16:26:51.263089Z",
     "iopub.status.idle": "2021-06-30T16:26:51.265391Z",
     "shell.execute_reply": "2021-06-30T16:26:51.264848Z",
     "shell.execute_reply.started": "2021-06-30T16:21:40.527239Z"
    },
    "papermill": {
     "duration": 0.098174,
     "end_time": "2021-06-30T16:26:51.265504",
     "exception": false,
     "start_time": "2021-06-30T16:26:51.167330",
     "status": "completed"
    },
    "tags": []
   },
   "outputs": [],
   "source": [
    "# обязательно фиксируем random seed, для воспроизводимости эксперимента\n",
    "random_seed = 42\n",
    "pd.set_option('display.max_columns', None)"
   ]
  },
  {
   "cell_type": "code",
   "execution_count": 352,
   "id": "center-company",
   "metadata": {
    "execution": {
     "iopub.execute_input": "2021-06-30T16:26:51.469409Z",
     "iopub.status.busy": "2021-06-30T16:26:51.468794Z",
     "iopub.status.idle": "2021-06-30T16:26:51.476848Z",
     "shell.execute_reply": "2021-06-30T16:26:51.477402Z",
     "shell.execute_reply.started": "2021-06-30T16:21:40.545761Z"
    },
    "papermill": {
     "duration": 0.115203,
     "end_time": "2021-06-30T16:26:51.477595",
     "exception": false,
     "start_time": "2021-06-30T16:26:51.362392",
     "status": "completed"
    },
    "tags": []
   },
   "outputs": [],
   "source": [
    "# опишем функцию для поиска выбросов\n",
    "def outlier_detect(data, column):\n",
    "    Q1 = np.percentile(column, 25)\n",
    "    Q3 = np.percentile(column, 75)\n",
    "    IQR = Q3 - Q1\n",
    "    lower_range = Q1 - (1.5 * IQR)\n",
    "    upper_range = Q3 + (1.5 * IQR)\n",
    "    lower_number = len(data[column<lower_range])\n",
    "    upper_number = len(data[column>upper_range])\n",
    "    print('Lower Range:', lower_range,\n",
    "          'Upper Range:', upper_range,\n",
    "          'Lower Outliers:', lower_number,\n",
    "          'Upper Outliers:', upper_number, \n",
    "          sep='\\n')"
   ]
  },
  {
   "cell_type": "code",
   "execution_count": 353,
   "id": "eleven-hybrid",
   "metadata": {
    "execution": {
     "iopub.execute_input": "2021-06-30T16:26:51.698982Z",
     "iopub.status.busy": "2021-06-30T16:26:51.698052Z",
     "iopub.status.idle": "2021-06-30T16:26:51.705053Z",
     "shell.execute_reply": "2021-06-30T16:26:51.706024Z",
     "shell.execute_reply.started": "2021-06-30T16:21:40.560915Z"
    },
    "papermill": {
     "duration": 0.120658,
     "end_time": "2021-06-30T16:26:51.706277",
     "exception": false,
     "start_time": "2021-06-30T16:26:51.585619",
     "status": "completed"
    },
    "tags": []
   },
   "outputs": [],
   "source": [
    "# опишем функцию для визуализации матрицы ошибок\n",
    "def show_confusion_matrix(y_true, y_pred):\n",
    "    color_text = plt.get_cmap('PuBu')(0.95)\n",
    "    class_names = ['Default', 'Non-Default']\n",
    "    cm = confusion_matrix(y_true, y_pred)\n",
    "    cm[0,0], cm[1,1] = cm[1,1], cm[0,0]\n",
    "    df = pd.DataFrame(cm, index=class_names, columns=class_names)\n",
    "    \n",
    "    fig, ax = plt.subplots(figsize=(6, 6))\n",
    "    ax.set(xticks=np.arange(cm.shape[1]), yticks=np.arange(cm.shape[0]), title=\"Confusion Matrix\")\n",
    "    ax.title.set_fontsize(15)\n",
    "    sns.heatmap(df, square=True, annot=True, fmt=\"d\", linewidths=1, cmap=\"PuBu\")\n",
    "    plt.setp(ax.get_yticklabels(), rotation=0, ha=\"right\", rotation_mode=\"anchor\", fontsize=12)\n",
    "    plt.setp(ax.get_xticklabels(), rotation=0, ha=\"center\", rotation_mode=\"anchor\", fontsize=12)\n",
    "    ax.set_ylabel('Predicted Values', fontsize=14, color = color_text)\n",
    "    ax.set_xlabel('Real Values', fontsize=14, color = color_text)\n",
    "    b, t = plt.ylim()\n",
    "    plt.ylim(b+0.5, t-0.5)\n",
    "    fig.tight_layout()\n",
    "    plt.show()"
   ]
  },
  {
   "cell_type": "code",
   "execution_count": 354,
   "id": "searching-coalition",
   "metadata": {
    "execution": {
     "iopub.execute_input": "2021-06-30T16:26:51.911343Z",
     "iopub.status.busy": "2021-06-30T16:26:51.910705Z",
     "iopub.status.idle": "2021-06-30T16:26:51.919718Z",
     "shell.execute_reply": "2021-06-30T16:26:51.920158Z",
     "shell.execute_reply.started": "2021-06-30T16:21:40.575297Z"
    },
    "papermill": {
     "duration": 0.110614,
     "end_time": "2021-06-30T16:26:51.920329",
     "exception": false,
     "start_time": "2021-06-30T16:26:51.809715",
     "status": "completed"
    },
    "tags": []
   },
   "outputs": [],
   "source": [
    "# опишем функцию для визуализации метрик для логистической регрессии\n",
    "def all_metrics(y_true, y_pred, y_pred_prob):\n",
    "    dict_metric = {}\n",
    "    P = np.sum(y_true==1)\n",
    "    N = np.sum(y_true==0)\n",
    "    TP = np.sum((y_true==1)&(y_pred==1))\n",
    "    TN = np.sum((y_true==0)&(y_pred==0))\n",
    "    FP = np.sum((y_true==0)&(y_pred==1))\n",
    "    FN = np.sum((y_true==1)&(y_pred==0))\n",
    "    \n",
    "    dict_metric['Positive, P'] = [P,'default']\n",
    "    dict_metric['Negative, N'] = [N,'non-default']\n",
    "    dict_metric['True Positive, TP'] = [TP,'correctly identified default']\n",
    "    dict_metric['True Negative, TN'] = [TN,'correctly identified non-default']\n",
    "    dict_metric['False Positive, FP'] = [FP,'incorrectly identified default']\n",
    "    dict_metric['False Negative, FN'] = [FN,'incorrectly identified non-default']\n",
    "    dict_metric['Accuracy'] = [accuracy_score(y_true, y_pred),'Accuracy=(TP+TN)/(P+N)']\n",
    "    dict_metric['Precision'] = [precision_score(y_true, y_pred),'Precision = TP/(TP+FP)'] \n",
    "    dict_metric['Recall'] = [recall_score(y_true, y_pred),'Recall = TP/P']\n",
    "    dict_metric['F1-score'] = [f1_score(y_true, y_pred),'Harmonical mean of Precision и Recall']\n",
    "    dict_metric['ROC_AUC'] = [roc_auc_score(y_true, y_pred_prob),'ROC AUC Score']    \n",
    "\n",
    "    temp_df = pd.DataFrame.from_dict(dict_metric, orient='index', columns=['Value', 'Description'])\n",
    "    display(temp_df)   "
   ]
  },
  {
   "cell_type": "code",
   "execution_count": 355,
   "id": "refined-necessity",
   "metadata": {
    "execution": {
     "iopub.execute_input": "2021-06-30T16:26:52.122019Z",
     "iopub.status.busy": "2021-06-30T16:26:52.121467Z",
     "iopub.status.idle": "2021-06-30T16:26:52.421801Z",
     "shell.execute_reply": "2021-06-30T16:26:52.421246Z",
     "shell.execute_reply.started": "2021-06-30T16:21:40.591889Z"
    },
    "papermill": {
     "duration": 0.401695,
     "end_time": "2021-06-30T16:26:52.421946",
     "exception": false,
     "start_time": "2021-06-30T16:26:52.020251",
     "status": "completed"
    },
    "tags": []
   },
   "outputs": [
    {
     "name": "stdout",
     "output_type": "stream",
     "text": [
      "<class 'pandas.core.frame.DataFrame'>\n",
      "RangeIndex: 73799 entries, 0 to 73798\n",
      "Data columns (total 19 columns):\n",
      " #   Column            Non-Null Count  Dtype  \n",
      "---  ------            --------------  -----  \n",
      " 0   client_id         73799 non-null  int64  \n",
      " 1   app_date          73799 non-null  object \n",
      " 2   education         73492 non-null  object \n",
      " 3   sex               73799 non-null  object \n",
      " 4   age               73799 non-null  int64  \n",
      " 5   car               73799 non-null  object \n",
      " 6   car_type          73799 non-null  object \n",
      " 7   decline_app_cnt   73799 non-null  int64  \n",
      " 8   good_work         73799 non-null  int64  \n",
      " 9   score_bki         73799 non-null  float64\n",
      " 10  bki_request_cnt   73799 non-null  int64  \n",
      " 11  region_rating     73799 non-null  int64  \n",
      " 12  home_address      73799 non-null  int64  \n",
      " 13  work_address      73799 non-null  int64  \n",
      " 14  income            73799 non-null  int64  \n",
      " 15  sna               73799 non-null  int64  \n",
      " 16  first_time        73799 non-null  int64  \n",
      " 17  foreign_passport  73799 non-null  object \n",
      " 18  default           73799 non-null  int64  \n",
      "dtypes: float64(1), int64(12), object(6)\n",
      "memory usage: 10.7+ MB\n"
     ]
    },
    {
     "data": {
      "text/html": [
       "<div>\n",
       "<style scoped>\n",
       "    .dataframe tbody tr th:only-of-type {\n",
       "        vertical-align: middle;\n",
       "    }\n",
       "\n",
       "    .dataframe tbody tr th {\n",
       "        vertical-align: top;\n",
       "    }\n",
       "\n",
       "    .dataframe thead th {\n",
       "        text-align: right;\n",
       "    }\n",
       "</style>\n",
       "<table border=\"1\" class=\"dataframe\">\n",
       "  <thead>\n",
       "    <tr style=\"text-align: right;\">\n",
       "      <th></th>\n",
       "      <th>client_id</th>\n",
       "      <th>app_date</th>\n",
       "      <th>education</th>\n",
       "      <th>sex</th>\n",
       "      <th>age</th>\n",
       "      <th>car</th>\n",
       "      <th>car_type</th>\n",
       "      <th>decline_app_cnt</th>\n",
       "      <th>good_work</th>\n",
       "      <th>score_bki</th>\n",
       "      <th>bki_request_cnt</th>\n",
       "      <th>region_rating</th>\n",
       "      <th>home_address</th>\n",
       "      <th>work_address</th>\n",
       "      <th>income</th>\n",
       "      <th>sna</th>\n",
       "      <th>first_time</th>\n",
       "      <th>foreign_passport</th>\n",
       "      <th>default</th>\n",
       "    </tr>\n",
       "  </thead>\n",
       "  <tbody>\n",
       "    <tr>\n",
       "      <th>0</th>\n",
       "      <td>25905</td>\n",
       "      <td>01FEB2014</td>\n",
       "      <td>SCH</td>\n",
       "      <td>M</td>\n",
       "      <td>62</td>\n",
       "      <td>Y</td>\n",
       "      <td>Y</td>\n",
       "      <td>0</td>\n",
       "      <td>0</td>\n",
       "      <td>-2.008753</td>\n",
       "      <td>1</td>\n",
       "      <td>50</td>\n",
       "      <td>1</td>\n",
       "      <td>2</td>\n",
       "      <td>18000</td>\n",
       "      <td>4</td>\n",
       "      <td>1</td>\n",
       "      <td>N</td>\n",
       "      <td>0</td>\n",
       "    </tr>\n",
       "    <tr>\n",
       "      <th>1</th>\n",
       "      <td>63161</td>\n",
       "      <td>12MAR2014</td>\n",
       "      <td>SCH</td>\n",
       "      <td>F</td>\n",
       "      <td>59</td>\n",
       "      <td>N</td>\n",
       "      <td>N</td>\n",
       "      <td>0</td>\n",
       "      <td>0</td>\n",
       "      <td>-1.532276</td>\n",
       "      <td>3</td>\n",
       "      <td>50</td>\n",
       "      <td>2</td>\n",
       "      <td>3</td>\n",
       "      <td>19000</td>\n",
       "      <td>4</td>\n",
       "      <td>1</td>\n",
       "      <td>N</td>\n",
       "      <td>0</td>\n",
       "    </tr>\n",
       "    <tr>\n",
       "      <th>2</th>\n",
       "      <td>25887</td>\n",
       "      <td>01FEB2014</td>\n",
       "      <td>SCH</td>\n",
       "      <td>M</td>\n",
       "      <td>25</td>\n",
       "      <td>Y</td>\n",
       "      <td>N</td>\n",
       "      <td>2</td>\n",
       "      <td>0</td>\n",
       "      <td>-1.408142</td>\n",
       "      <td>1</td>\n",
       "      <td>80</td>\n",
       "      <td>1</td>\n",
       "      <td>2</td>\n",
       "      <td>30000</td>\n",
       "      <td>1</td>\n",
       "      <td>4</td>\n",
       "      <td>Y</td>\n",
       "      <td>0</td>\n",
       "    </tr>\n",
       "    <tr>\n",
       "      <th>3</th>\n",
       "      <td>16222</td>\n",
       "      <td>23JAN2014</td>\n",
       "      <td>SCH</td>\n",
       "      <td>F</td>\n",
       "      <td>53</td>\n",
       "      <td>N</td>\n",
       "      <td>N</td>\n",
       "      <td>0</td>\n",
       "      <td>0</td>\n",
       "      <td>-2.057471</td>\n",
       "      <td>2</td>\n",
       "      <td>50</td>\n",
       "      <td>2</td>\n",
       "      <td>3</td>\n",
       "      <td>10000</td>\n",
       "      <td>1</td>\n",
       "      <td>3</td>\n",
       "      <td>N</td>\n",
       "      <td>0</td>\n",
       "    </tr>\n",
       "    <tr>\n",
       "      <th>4</th>\n",
       "      <td>101655</td>\n",
       "      <td>18APR2014</td>\n",
       "      <td>GRD</td>\n",
       "      <td>M</td>\n",
       "      <td>48</td>\n",
       "      <td>N</td>\n",
       "      <td>N</td>\n",
       "      <td>0</td>\n",
       "      <td>1</td>\n",
       "      <td>-1.244723</td>\n",
       "      <td>1</td>\n",
       "      <td>60</td>\n",
       "      <td>2</td>\n",
       "      <td>3</td>\n",
       "      <td>30000</td>\n",
       "      <td>1</td>\n",
       "      <td>4</td>\n",
       "      <td>Y</td>\n",
       "      <td>0</td>\n",
       "    </tr>\n",
       "  </tbody>\n",
       "</table>\n",
       "</div>"
      ],
      "text/plain": [
       "   client_id   app_date education sex  age car car_type  decline_app_cnt  \\\n",
       "0      25905  01FEB2014       SCH   M   62   Y        Y                0   \n",
       "1      63161  12MAR2014       SCH   F   59   N        N                0   \n",
       "2      25887  01FEB2014       SCH   M   25   Y        N                2   \n",
       "3      16222  23JAN2014       SCH   F   53   N        N                0   \n",
       "4     101655  18APR2014       GRD   M   48   N        N                0   \n",
       "\n",
       "   good_work  score_bki  bki_request_cnt  region_rating  home_address  \\\n",
       "0          0  -2.008753                1             50             1   \n",
       "1          0  -1.532276                3             50             2   \n",
       "2          0  -1.408142                1             80             1   \n",
       "3          0  -2.057471                2             50             2   \n",
       "4          1  -1.244723                1             60             2   \n",
       "\n",
       "   work_address  income  sna  first_time foreign_passport  default  \n",
       "0             2   18000    4           1                N        0  \n",
       "1             3   19000    4           1                N        0  \n",
       "2             2   30000    1           4                Y        0  \n",
       "3             3   10000    1           3                N        0  \n",
       "4             3   30000    1           4                Y        0  "
      ]
     },
     "metadata": {},
     "output_type": "display_data"
    },
    {
     "name": "stdout",
     "output_type": "stream",
     "text": [
      "<class 'pandas.core.frame.DataFrame'>\n",
      "RangeIndex: 36349 entries, 0 to 36348\n",
      "Data columns (total 18 columns):\n",
      " #   Column            Non-Null Count  Dtype  \n",
      "---  ------            --------------  -----  \n",
      " 0   client_id         36349 non-null  int64  \n",
      " 1   app_date          36349 non-null  object \n",
      " 2   education         36178 non-null  object \n",
      " 3   sex               36349 non-null  object \n",
      " 4   age               36349 non-null  int64  \n",
      " 5   car               36349 non-null  object \n",
      " 6   car_type          36349 non-null  object \n",
      " 7   decline_app_cnt   36349 non-null  int64  \n",
      " 8   good_work         36349 non-null  int64  \n",
      " 9   score_bki         36349 non-null  float64\n",
      " 10  bki_request_cnt   36349 non-null  int64  \n",
      " 11  region_rating     36349 non-null  int64  \n",
      " 12  home_address      36349 non-null  int64  \n",
      " 13  work_address      36349 non-null  int64  \n",
      " 14  income            36349 non-null  int64  \n",
      " 15  sna               36349 non-null  int64  \n",
      " 16  first_time        36349 non-null  int64  \n",
      " 17  foreign_passport  36349 non-null  object \n",
      "dtypes: float64(1), int64(11), object(6)\n",
      "memory usage: 5.0+ MB\n"
     ]
    },
    {
     "data": {
      "text/html": [
       "<div>\n",
       "<style scoped>\n",
       "    .dataframe tbody tr th:only-of-type {\n",
       "        vertical-align: middle;\n",
       "    }\n",
       "\n",
       "    .dataframe tbody tr th {\n",
       "        vertical-align: top;\n",
       "    }\n",
       "\n",
       "    .dataframe thead th {\n",
       "        text-align: right;\n",
       "    }\n",
       "</style>\n",
       "<table border=\"1\" class=\"dataframe\">\n",
       "  <thead>\n",
       "    <tr style=\"text-align: right;\">\n",
       "      <th></th>\n",
       "      <th>client_id</th>\n",
       "      <th>app_date</th>\n",
       "      <th>education</th>\n",
       "      <th>sex</th>\n",
       "      <th>age</th>\n",
       "      <th>car</th>\n",
       "      <th>car_type</th>\n",
       "      <th>decline_app_cnt</th>\n",
       "      <th>good_work</th>\n",
       "      <th>score_bki</th>\n",
       "      <th>bki_request_cnt</th>\n",
       "      <th>region_rating</th>\n",
       "      <th>home_address</th>\n",
       "      <th>work_address</th>\n",
       "      <th>income</th>\n",
       "      <th>sna</th>\n",
       "      <th>first_time</th>\n",
       "      <th>foreign_passport</th>\n",
       "    </tr>\n",
       "  </thead>\n",
       "  <tbody>\n",
       "    <tr>\n",
       "      <th>0</th>\n",
       "      <td>74835</td>\n",
       "      <td>22MAR2014</td>\n",
       "      <td>GRD</td>\n",
       "      <td>M</td>\n",
       "      <td>29</td>\n",
       "      <td>Y</td>\n",
       "      <td>Y</td>\n",
       "      <td>0</td>\n",
       "      <td>0</td>\n",
       "      <td>-2.271884</td>\n",
       "      <td>3</td>\n",
       "      <td>50</td>\n",
       "      <td>1</td>\n",
       "      <td>2</td>\n",
       "      <td>50000</td>\n",
       "      <td>1</td>\n",
       "      <td>4</td>\n",
       "      <td>N</td>\n",
       "    </tr>\n",
       "    <tr>\n",
       "      <th>1</th>\n",
       "      <td>17527</td>\n",
       "      <td>24JAN2014</td>\n",
       "      <td>SCH</td>\n",
       "      <td>F</td>\n",
       "      <td>39</td>\n",
       "      <td>N</td>\n",
       "      <td>N</td>\n",
       "      <td>5</td>\n",
       "      <td>0</td>\n",
       "      <td>-1.504999</td>\n",
       "      <td>2</td>\n",
       "      <td>50</td>\n",
       "      <td>1</td>\n",
       "      <td>2</td>\n",
       "      <td>5000</td>\n",
       "      <td>4</td>\n",
       "      <td>3</td>\n",
       "      <td>N</td>\n",
       "    </tr>\n",
       "    <tr>\n",
       "      <th>2</th>\n",
       "      <td>75683</td>\n",
       "      <td>23MAR2014</td>\n",
       "      <td>UGR</td>\n",
       "      <td>M</td>\n",
       "      <td>50</td>\n",
       "      <td>Y</td>\n",
       "      <td>Y</td>\n",
       "      <td>0</td>\n",
       "      <td>0</td>\n",
       "      <td>-1.691339</td>\n",
       "      <td>1</td>\n",
       "      <td>50</td>\n",
       "      <td>1</td>\n",
       "      <td>2</td>\n",
       "      <td>30000</td>\n",
       "      <td>1</td>\n",
       "      <td>3</td>\n",
       "      <td>Y</td>\n",
       "    </tr>\n",
       "    <tr>\n",
       "      <th>3</th>\n",
       "      <td>26883</td>\n",
       "      <td>03FEB2014</td>\n",
       "      <td>SCH</td>\n",
       "      <td>M</td>\n",
       "      <td>56</td>\n",
       "      <td>N</td>\n",
       "      <td>N</td>\n",
       "      <td>0</td>\n",
       "      <td>0</td>\n",
       "      <td>-2.374182</td>\n",
       "      <td>1</td>\n",
       "      <td>40</td>\n",
       "      <td>1</td>\n",
       "      <td>2</td>\n",
       "      <td>17000</td>\n",
       "      <td>1</td>\n",
       "      <td>3</td>\n",
       "      <td>N</td>\n",
       "    </tr>\n",
       "    <tr>\n",
       "      <th>4</th>\n",
       "      <td>28862</td>\n",
       "      <td>04FEB2014</td>\n",
       "      <td>GRD</td>\n",
       "      <td>F</td>\n",
       "      <td>38</td>\n",
       "      <td>N</td>\n",
       "      <td>N</td>\n",
       "      <td>0</td>\n",
       "      <td>0</td>\n",
       "      <td>-2.487502</td>\n",
       "      <td>0</td>\n",
       "      <td>80</td>\n",
       "      <td>2</td>\n",
       "      <td>3</td>\n",
       "      <td>120000</td>\n",
       "      <td>1</td>\n",
       "      <td>3</td>\n",
       "      <td>N</td>\n",
       "    </tr>\n",
       "  </tbody>\n",
       "</table>\n",
       "</div>"
      ],
      "text/plain": [
       "   client_id   app_date education sex  age car car_type  decline_app_cnt  \\\n",
       "0      74835  22MAR2014       GRD   M   29   Y        Y                0   \n",
       "1      17527  24JAN2014       SCH   F   39   N        N                5   \n",
       "2      75683  23MAR2014       UGR   M   50   Y        Y                0   \n",
       "3      26883  03FEB2014       SCH   M   56   N        N                0   \n",
       "4      28862  04FEB2014       GRD   F   38   N        N                0   \n",
       "\n",
       "   good_work  score_bki  bki_request_cnt  region_rating  home_address  \\\n",
       "0          0  -2.271884                3             50             1   \n",
       "1          0  -1.504999                2             50             1   \n",
       "2          0  -1.691339                1             50             1   \n",
       "3          0  -2.374182                1             40             1   \n",
       "4          0  -2.487502                0             80             2   \n",
       "\n",
       "   work_address  income  sna  first_time foreign_passport  \n",
       "0             2   50000    1           4                N  \n",
       "1             2    5000    4           3                N  \n",
       "2             2   30000    1           3                Y  \n",
       "3             2   17000    1           3                N  \n",
       "4             3  120000    1           3                N  "
      ]
     },
     "metadata": {},
     "output_type": "display_data"
    }
   ],
   "source": [
    "# импортируем наши датасеты\n",
    "data_train = pd.read_csv('train.csv')\n",
    "data_test = pd.read_csv('test.csv')\n",
    "sample_submission = pd.read_csv('sample_submission.csv')\n",
    "\n",
    "# и сразу посмотрим что представляют из себя данные в них\n",
    "data_train.info()\n",
    "display(data_train.head())\n",
    "data_test.info()\n",
    "display(data_test.head())"
   ]
  },
  {
   "cell_type": "code",
   "execution_count": 356,
   "id": "hybrid-kingston",
   "metadata": {
    "execution": {
     "iopub.execute_input": "2021-06-30T16:26:53.141910Z",
     "iopub.status.busy": "2021-06-30T16:26:53.141101Z",
     "iopub.status.idle": "2021-06-30T16:26:53.200331Z",
     "shell.execute_reply": "2021-06-30T16:26:53.199790Z",
     "shell.execute_reply.started": "2021-06-30T16:21:40.990198Z"
    },
    "papermill": {
     "duration": 0.158158,
     "end_time": "2021-06-30T16:26:53.200462",
     "exception": false,
     "start_time": "2021-06-30T16:26:53.042304",
     "status": "completed"
    },
    "tags": []
   },
   "outputs": [],
   "source": [
    "# объединм датасеты\n",
    "data_train['sample'] = 1\n",
    "data_test['sample'] = 0\n",
    "data = data_train.append(data_test, sort=False).reset_index(drop=True)"
   ]
  },
  {
   "cell_type": "markdown",
   "id": "polished-virtue",
   "metadata": {
    "papermill": {
     "duration": 0.108872,
     "end_time": "2021-06-30T16:26:53.404904",
     "exception": false,
     "start_time": "2021-06-30T16:26:53.296032",
     "status": "completed"
    },
    "tags": []
   },
   "source": [
    "### Предподготвка данных"
   ]
  },
  {
   "cell_type": "code",
   "execution_count": 357,
   "id": "prostate-assault",
   "metadata": {
    "execution": {
     "iopub.execute_input": "2021-06-30T16:26:53.663903Z",
     "iopub.status.busy": "2021-06-30T16:26:53.643096Z",
     "iopub.status.idle": "2021-06-30T16:26:53.706228Z",
     "shell.execute_reply": "2021-06-30T16:26:53.706788Z",
     "shell.execute_reply.started": "2021-06-30T16:21:41.046996Z"
    },
    "papermill": {
     "duration": 0.193642,
     "end_time": "2021-06-30T16:26:53.706958",
     "exception": false,
     "start_time": "2021-06-30T16:26:53.513316",
     "status": "completed"
    },
    "tags": []
   },
   "outputs": [
    {
     "name": "stdout",
     "output_type": "stream",
     "text": [
      "<class 'pandas.core.frame.DataFrame'>\n",
      "RangeIndex: 110148 entries, 0 to 110147\n",
      "Data columns (total 20 columns):\n",
      " #   Column            Non-Null Count   Dtype  \n",
      "---  ------            --------------   -----  \n",
      " 0   client_id         110148 non-null  int64  \n",
      " 1   app_date          110148 non-null  object \n",
      " 2   education         109670 non-null  object \n",
      " 3   sex               110148 non-null  object \n",
      " 4   age               110148 non-null  int64  \n",
      " 5   car               110148 non-null  object \n",
      " 6   car_type          110148 non-null  object \n",
      " 7   decline_app_cnt   110148 non-null  int64  \n",
      " 8   good_work         110148 non-null  int64  \n",
      " 9   score_bki         110148 non-null  float64\n",
      " 10  bki_request_cnt   110148 non-null  int64  \n",
      " 11  region_rating     110148 non-null  int64  \n",
      " 12  home_address      110148 non-null  int64  \n",
      " 13  work_address      110148 non-null  int64  \n",
      " 14  income            110148 non-null  int64  \n",
      " 15  sna               110148 non-null  int64  \n",
      " 16  first_time        110148 non-null  int64  \n",
      " 17  foreign_passport  110148 non-null  object \n",
      " 18  default           73799 non-null   float64\n",
      " 19  sample            110148 non-null  int64  \n",
      "dtypes: float64(2), int64(12), object(6)\n",
      "memory usage: 16.8+ MB\n"
     ]
    },
    {
     "data": {
      "text/html": [
       "<div>\n",
       "<style scoped>\n",
       "    .dataframe tbody tr th:only-of-type {\n",
       "        vertical-align: middle;\n",
       "    }\n",
       "\n",
       "    .dataframe tbody tr th {\n",
       "        vertical-align: top;\n",
       "    }\n",
       "\n",
       "    .dataframe thead th {\n",
       "        text-align: right;\n",
       "    }\n",
       "</style>\n",
       "<table border=\"1\" class=\"dataframe\">\n",
       "  <thead>\n",
       "    <tr style=\"text-align: right;\">\n",
       "      <th></th>\n",
       "      <th>client_id</th>\n",
       "      <th>app_date</th>\n",
       "      <th>education</th>\n",
       "      <th>sex</th>\n",
       "      <th>age</th>\n",
       "      <th>car</th>\n",
       "      <th>car_type</th>\n",
       "      <th>decline_app_cnt</th>\n",
       "      <th>good_work</th>\n",
       "      <th>score_bki</th>\n",
       "      <th>bki_request_cnt</th>\n",
       "      <th>region_rating</th>\n",
       "      <th>home_address</th>\n",
       "      <th>work_address</th>\n",
       "      <th>income</th>\n",
       "      <th>sna</th>\n",
       "      <th>first_time</th>\n",
       "      <th>foreign_passport</th>\n",
       "      <th>default</th>\n",
       "      <th>sample</th>\n",
       "    </tr>\n",
       "  </thead>\n",
       "  <tbody>\n",
       "    <tr>\n",
       "      <th>0</th>\n",
       "      <td>25905</td>\n",
       "      <td>01FEB2014</td>\n",
       "      <td>SCH</td>\n",
       "      <td>M</td>\n",
       "      <td>62</td>\n",
       "      <td>Y</td>\n",
       "      <td>Y</td>\n",
       "      <td>0</td>\n",
       "      <td>0</td>\n",
       "      <td>-2.008753</td>\n",
       "      <td>1</td>\n",
       "      <td>50</td>\n",
       "      <td>1</td>\n",
       "      <td>2</td>\n",
       "      <td>18000</td>\n",
       "      <td>4</td>\n",
       "      <td>1</td>\n",
       "      <td>N</td>\n",
       "      <td>0.0</td>\n",
       "      <td>1</td>\n",
       "    </tr>\n",
       "    <tr>\n",
       "      <th>1</th>\n",
       "      <td>63161</td>\n",
       "      <td>12MAR2014</td>\n",
       "      <td>SCH</td>\n",
       "      <td>F</td>\n",
       "      <td>59</td>\n",
       "      <td>N</td>\n",
       "      <td>N</td>\n",
       "      <td>0</td>\n",
       "      <td>0</td>\n",
       "      <td>-1.532276</td>\n",
       "      <td>3</td>\n",
       "      <td>50</td>\n",
       "      <td>2</td>\n",
       "      <td>3</td>\n",
       "      <td>19000</td>\n",
       "      <td>4</td>\n",
       "      <td>1</td>\n",
       "      <td>N</td>\n",
       "      <td>0.0</td>\n",
       "      <td>1</td>\n",
       "    </tr>\n",
       "    <tr>\n",
       "      <th>2</th>\n",
       "      <td>25887</td>\n",
       "      <td>01FEB2014</td>\n",
       "      <td>SCH</td>\n",
       "      <td>M</td>\n",
       "      <td>25</td>\n",
       "      <td>Y</td>\n",
       "      <td>N</td>\n",
       "      <td>2</td>\n",
       "      <td>0</td>\n",
       "      <td>-1.408142</td>\n",
       "      <td>1</td>\n",
       "      <td>80</td>\n",
       "      <td>1</td>\n",
       "      <td>2</td>\n",
       "      <td>30000</td>\n",
       "      <td>1</td>\n",
       "      <td>4</td>\n",
       "      <td>Y</td>\n",
       "      <td>0.0</td>\n",
       "      <td>1</td>\n",
       "    </tr>\n",
       "    <tr>\n",
       "      <th>3</th>\n",
       "      <td>16222</td>\n",
       "      <td>23JAN2014</td>\n",
       "      <td>SCH</td>\n",
       "      <td>F</td>\n",
       "      <td>53</td>\n",
       "      <td>N</td>\n",
       "      <td>N</td>\n",
       "      <td>0</td>\n",
       "      <td>0</td>\n",
       "      <td>-2.057471</td>\n",
       "      <td>2</td>\n",
       "      <td>50</td>\n",
       "      <td>2</td>\n",
       "      <td>3</td>\n",
       "      <td>10000</td>\n",
       "      <td>1</td>\n",
       "      <td>3</td>\n",
       "      <td>N</td>\n",
       "      <td>0.0</td>\n",
       "      <td>1</td>\n",
       "    </tr>\n",
       "    <tr>\n",
       "      <th>4</th>\n",
       "      <td>101655</td>\n",
       "      <td>18APR2014</td>\n",
       "      <td>GRD</td>\n",
       "      <td>M</td>\n",
       "      <td>48</td>\n",
       "      <td>N</td>\n",
       "      <td>N</td>\n",
       "      <td>0</td>\n",
       "      <td>1</td>\n",
       "      <td>-1.244723</td>\n",
       "      <td>1</td>\n",
       "      <td>60</td>\n",
       "      <td>2</td>\n",
       "      <td>3</td>\n",
       "      <td>30000</td>\n",
       "      <td>1</td>\n",
       "      <td>4</td>\n",
       "      <td>Y</td>\n",
       "      <td>0.0</td>\n",
       "      <td>1</td>\n",
       "    </tr>\n",
       "  </tbody>\n",
       "</table>\n",
       "</div>"
      ],
      "text/plain": [
       "   client_id   app_date education sex  age car car_type  decline_app_cnt  \\\n",
       "0      25905  01FEB2014       SCH   M   62   Y        Y                0   \n",
       "1      63161  12MAR2014       SCH   F   59   N        N                0   \n",
       "2      25887  01FEB2014       SCH   M   25   Y        N                2   \n",
       "3      16222  23JAN2014       SCH   F   53   N        N                0   \n",
       "4     101655  18APR2014       GRD   M   48   N        N                0   \n",
       "\n",
       "   good_work  score_bki  bki_request_cnt  region_rating  home_address  \\\n",
       "0          0  -2.008753                1             50             1   \n",
       "1          0  -1.532276                3             50             2   \n",
       "2          0  -1.408142                1             80             1   \n",
       "3          0  -2.057471                2             50             2   \n",
       "4          1  -1.244723                1             60             2   \n",
       "\n",
       "   work_address  income  sna  first_time foreign_passport  default  sample  \n",
       "0             2   18000    4           1                N      0.0       1  \n",
       "1             3   19000    4           1                N      0.0       1  \n",
       "2             2   30000    1           4                Y      0.0       1  \n",
       "3             3   10000    1           3                N      0.0       1  \n",
       "4             3   30000    1           4                Y      0.0       1  "
      ]
     },
     "execution_count": 357,
     "metadata": {},
     "output_type": "execute_result"
    }
   ],
   "source": [
    "# посмотрим на данные\n",
    "data.info()\n",
    "data.head()"
   ]
  },
  {
   "cell_type": "code",
   "execution_count": 358,
   "id": "dutch-lobby",
   "metadata": {
    "execution": {
     "iopub.execute_input": "2021-06-30T16:26:53.955268Z",
     "iopub.status.busy": "2021-06-30T16:26:53.935277Z",
     "iopub.status.idle": "2021-06-30T16:26:53.976579Z",
     "shell.execute_reply": "2021-06-30T16:26:53.976095Z",
     "shell.execute_reply.started": "2021-06-30T16:21:41.142935Z"
    },
    "papermill": {
     "duration": 0.172499,
     "end_time": "2021-06-30T16:26:53.976704",
     "exception": false,
     "start_time": "2021-06-30T16:26:53.804205",
     "status": "completed"
    },
    "tags": []
   },
   "outputs": [
    {
     "data": {
      "text/plain": [
       "client_id               0\n",
       "app_date                0\n",
       "education             478\n",
       "sex                     0\n",
       "age                     0\n",
       "car                     0\n",
       "car_type                0\n",
       "decline_app_cnt         0\n",
       "good_work               0\n",
       "score_bki               0\n",
       "bki_request_cnt         0\n",
       "region_rating           0\n",
       "home_address            0\n",
       "work_address            0\n",
       "income                  0\n",
       "sna                     0\n",
       "first_time              0\n",
       "foreign_passport        0\n",
       "default             36349\n",
       "sample                  0\n",
       "dtype: int64"
      ]
     },
     "execution_count": 358,
     "metadata": {},
     "output_type": "execute_result"
    }
   ],
   "source": [
    "# посмотрим на пропущенные значения\n",
    "data.isna().sum()"
   ]
  },
  {
   "cell_type": "markdown",
   "id": "durable-director",
   "metadata": {
    "papermill": {
     "duration": 0.097548,
     "end_time": "2021-06-30T16:26:54.518566",
     "exception": false,
     "start_time": "2021-06-30T16:26:54.421018",
     "status": "completed"
    },
    "tags": []
   },
   "source": [
    "* app_date - date of request, time variable, requires processing.\n",
    "* education - level of education, categorical variable, requires processing and missing values correction.\n",
    "* sex - binary variable, requires processing.\n",
    "* age - continuous variable, requires processing.\n",
    "* car - car availability, binary variable, requires processing.\n",
    "* car_type - foreign-made car availability, binary variable, requires processing.\n",
    "* decline_app_cnt - number of rejected requests, continuous variable.\n",
    "* good_work - flag of a well-paid job, binary variable.\n",
    "* score_bki - BKI (credit reporting agency) internal score, continuous variable.\n",
    "* bki_request_cnt - number of requests to the BKI (credit reporting agency), continuous variable.\n",
    "* region_rating - rating of the region, categorical variable.\n",
    "* home_address - home address categorizer, categorical variable.\n",
    "* work_address - work address categorizer, categorical variable.\n",
    "* income - client's income level, continuous variable. \n",
    "* sna - level of connection with another clients, categorical variable.\n",
    "* first_time - how long the client has been in the database, categorical variable.\n",
    "* foreign_passport - passport availability, binary variable, requires processing.\n",
    "* default - default in the past, binary target variable.  "
   ]
  },
  {
   "cell_type": "code",
   "execution_count": 359,
   "id": "related-julian",
   "metadata": {
    "execution": {
     "iopub.execute_input": "2021-06-30T16:26:54.719162Z",
     "iopub.status.busy": "2021-06-30T16:26:54.718504Z",
     "iopub.status.idle": "2021-06-30T16:26:54.721922Z",
     "shell.execute_reply": "2021-06-30T16:26:54.721336Z",
     "shell.execute_reply.started": "2021-06-30T16:21:41.369929Z"
    },
    "papermill": {
     "duration": 0.106066,
     "end_time": "2021-06-30T16:26:54.722051",
     "exception": false,
     "start_time": "2021-06-30T16:26:54.615985",
     "status": "completed"
    },
    "tags": []
   },
   "outputs": [],
   "source": [
    "# сгруппируем признаки по типу признака, временной выделим отдельно от остальных\n",
    "time_cols = ['app_date']\n",
    "cat_cols = ['education', 'region_rating', 'home_address', 'work_address', 'sna', 'first_time']\n",
    "bin_cols = ['sex', 'car', 'car_type', 'good_work', 'foreign_passport']\n",
    "num_cols = ['age','decline_app_cnt','score_bki','bki_request_cnt','income']"
   ]
  },
  {
   "cell_type": "code",
   "execution_count": 360,
   "id": "immune-patio",
   "metadata": {
    "execution": {
     "iopub.execute_input": "2021-06-30T16:26:54.957934Z",
     "iopub.status.busy": "2021-06-30T16:26:54.955032Z",
     "iopub.status.idle": "2021-06-30T16:26:54.962415Z",
     "shell.execute_reply": "2021-06-30T16:26:54.961739Z",
     "shell.execute_reply.started": "2021-06-30T16:21:41.376694Z"
    },
    "papermill": {
     "duration": 0.139302,
     "end_time": "2021-06-30T16:26:54.962554",
     "exception": false,
     "start_time": "2021-06-30T16:26:54.823252",
     "status": "completed"
    },
    "tags": []
   },
   "outputs": [
    {
     "data": {
      "text/plain": [
       "SCH    57998\n",
       "GRD    34768\n",
       "UGR    14748\n",
       "PGR     1865\n",
       "NaN      478\n",
       "ACD      291\n",
       "Name: education, dtype: int64"
      ]
     },
     "execution_count": 360,
     "metadata": {},
     "output_type": "execute_result"
    }
   ],
   "source": [
    "# посмотрим на пропущенные значение  в признаке education\n",
    "data['education'].value_counts(dropna = False)"
   ]
  },
  {
   "cell_type": "code",
   "execution_count": 361,
   "id": "heavy-boutique",
   "metadata": {
    "execution": {
     "iopub.execute_input": "2021-06-30T16:26:55.376335Z",
     "iopub.status.busy": "2021-06-30T16:26:55.375288Z",
     "iopub.status.idle": "2021-06-30T16:26:55.379385Z",
     "shell.execute_reply": "2021-06-30T16:26:55.378706Z",
     "shell.execute_reply.started": "2021-06-30T16:21:41.423609Z"
    },
    "papermill": {
     "duration": 0.115593,
     "end_time": "2021-06-30T16:26:55.379538",
     "exception": false,
     "start_time": "2021-06-30T16:26:55.263945",
     "status": "completed"
    },
    "tags": []
   },
   "outputs": [],
   "source": [
    "# создадим бинарные переменные для пропущенных значений в признаке education\n",
    "data['education_nan'] = pd.isna(data['education']).astype('uint8')"
   ]
  },
  {
   "cell_type": "code",
   "execution_count": 362,
   "id": "sealed-chinese",
   "metadata": {
    "execution": {
     "iopub.execute_input": "2021-06-30T16:26:55.773558Z",
     "iopub.status.busy": "2021-06-30T16:26:55.772907Z",
     "iopub.status.idle": "2021-06-30T16:26:55.788277Z",
     "shell.execute_reply": "2021-06-30T16:26:55.788769Z",
     "shell.execute_reply.started": "2021-06-30T16:21:41.445308Z"
    },
    "papermill": {
     "duration": 0.118494,
     "end_time": "2021-06-30T16:26:55.788949",
     "exception": false,
     "start_time": "2021-06-30T16:26:55.670455",
     "status": "completed"
    },
    "tags": []
   },
   "outputs": [],
   "source": [
    "# поменяем пропуски на наиболее часто встречающееся значение\n",
    "data['education'] = data['education'].fillna('SCH')"
   ]
  },
  {
   "cell_type": "code",
   "execution_count": 363,
   "id": "excessive-strip",
   "metadata": {
    "execution": {
     "iopub.execute_input": "2021-06-30T16:26:56.181073Z",
     "iopub.status.busy": "2021-06-30T16:26:56.180513Z",
     "iopub.status.idle": "2021-06-30T16:26:56.332995Z",
     "shell.execute_reply": "2021-06-30T16:26:56.332347Z",
     "shell.execute_reply.started": "2021-06-30T16:21:41.468709Z"
    },
    "papermill": {
     "duration": 0.250962,
     "end_time": "2021-06-30T16:26:56.333123",
     "exception": false,
     "start_time": "2021-06-30T16:26:56.082161",
     "status": "completed"
    },
    "tags": []
   },
   "outputs": [],
   "source": [
    "# конвертируем бинарные переменные в числовой  формат с помощью LabelEncoder'а\n",
    "label_encoder = LabelEncoder()\n",
    "for column in bin_cols:\n",
    "    data[column] = label_encoder.fit_transform(data[column])"
   ]
  },
  {
   "cell_type": "code",
   "execution_count": 364,
   "id": "accomplished-horizon",
   "metadata": {
    "execution": {
     "iopub.execute_input": "2021-06-30T16:26:56.540653Z",
     "iopub.status.busy": "2021-06-30T16:26:56.533533Z",
     "iopub.status.idle": "2021-06-30T16:26:56.544033Z",
     "shell.execute_reply": "2021-06-30T16:26:56.544476Z",
     "shell.execute_reply.started": "2021-06-30T16:21:41.633966Z"
    },
    "papermill": {
     "duration": 0.115943,
     "end_time": "2021-06-30T16:26:56.544625",
     "exception": false,
     "start_time": "2021-06-30T16:26:56.428682",
     "status": "completed"
    },
    "tags": []
   },
   "outputs": [
    {
     "data": {
      "text/html": [
       "<div>\n",
       "<style scoped>\n",
       "    .dataframe tbody tr th:only-of-type {\n",
       "        vertical-align: middle;\n",
       "    }\n",
       "\n",
       "    .dataframe tbody tr th {\n",
       "        vertical-align: top;\n",
       "    }\n",
       "\n",
       "    .dataframe thead th {\n",
       "        text-align: right;\n",
       "    }\n",
       "</style>\n",
       "<table border=\"1\" class=\"dataframe\">\n",
       "  <thead>\n",
       "    <tr style=\"text-align: right;\">\n",
       "      <th></th>\n",
       "      <th>client_id</th>\n",
       "      <th>app_date</th>\n",
       "      <th>education</th>\n",
       "      <th>sex</th>\n",
       "      <th>age</th>\n",
       "      <th>car</th>\n",
       "      <th>car_type</th>\n",
       "      <th>decline_app_cnt</th>\n",
       "      <th>good_work</th>\n",
       "      <th>score_bki</th>\n",
       "      <th>bki_request_cnt</th>\n",
       "      <th>region_rating</th>\n",
       "      <th>home_address</th>\n",
       "      <th>work_address</th>\n",
       "      <th>income</th>\n",
       "      <th>sna</th>\n",
       "      <th>first_time</th>\n",
       "      <th>foreign_passport</th>\n",
       "      <th>default</th>\n",
       "      <th>sample</th>\n",
       "      <th>education_nan</th>\n",
       "    </tr>\n",
       "  </thead>\n",
       "  <tbody>\n",
       "    <tr>\n",
       "      <th>0</th>\n",
       "      <td>25905</td>\n",
       "      <td>01FEB2014</td>\n",
       "      <td>SCH</td>\n",
       "      <td>1</td>\n",
       "      <td>62</td>\n",
       "      <td>1</td>\n",
       "      <td>1</td>\n",
       "      <td>0</td>\n",
       "      <td>0</td>\n",
       "      <td>-2.008753</td>\n",
       "      <td>1</td>\n",
       "      <td>50</td>\n",
       "      <td>1</td>\n",
       "      <td>2</td>\n",
       "      <td>18000</td>\n",
       "      <td>4</td>\n",
       "      <td>1</td>\n",
       "      <td>0</td>\n",
       "      <td>0.0</td>\n",
       "      <td>1</td>\n",
       "      <td>0</td>\n",
       "    </tr>\n",
       "    <tr>\n",
       "      <th>1</th>\n",
       "      <td>63161</td>\n",
       "      <td>12MAR2014</td>\n",
       "      <td>SCH</td>\n",
       "      <td>0</td>\n",
       "      <td>59</td>\n",
       "      <td>0</td>\n",
       "      <td>0</td>\n",
       "      <td>0</td>\n",
       "      <td>0</td>\n",
       "      <td>-1.532276</td>\n",
       "      <td>3</td>\n",
       "      <td>50</td>\n",
       "      <td>2</td>\n",
       "      <td>3</td>\n",
       "      <td>19000</td>\n",
       "      <td>4</td>\n",
       "      <td>1</td>\n",
       "      <td>0</td>\n",
       "      <td>0.0</td>\n",
       "      <td>1</td>\n",
       "      <td>0</td>\n",
       "    </tr>\n",
       "    <tr>\n",
       "      <th>2</th>\n",
       "      <td>25887</td>\n",
       "      <td>01FEB2014</td>\n",
       "      <td>SCH</td>\n",
       "      <td>1</td>\n",
       "      <td>25</td>\n",
       "      <td>1</td>\n",
       "      <td>0</td>\n",
       "      <td>2</td>\n",
       "      <td>0</td>\n",
       "      <td>-1.408142</td>\n",
       "      <td>1</td>\n",
       "      <td>80</td>\n",
       "      <td>1</td>\n",
       "      <td>2</td>\n",
       "      <td>30000</td>\n",
       "      <td>1</td>\n",
       "      <td>4</td>\n",
       "      <td>1</td>\n",
       "      <td>0.0</td>\n",
       "      <td>1</td>\n",
       "      <td>0</td>\n",
       "    </tr>\n",
       "    <tr>\n",
       "      <th>3</th>\n",
       "      <td>16222</td>\n",
       "      <td>23JAN2014</td>\n",
       "      <td>SCH</td>\n",
       "      <td>0</td>\n",
       "      <td>53</td>\n",
       "      <td>0</td>\n",
       "      <td>0</td>\n",
       "      <td>0</td>\n",
       "      <td>0</td>\n",
       "      <td>-2.057471</td>\n",
       "      <td>2</td>\n",
       "      <td>50</td>\n",
       "      <td>2</td>\n",
       "      <td>3</td>\n",
       "      <td>10000</td>\n",
       "      <td>1</td>\n",
       "      <td>3</td>\n",
       "      <td>0</td>\n",
       "      <td>0.0</td>\n",
       "      <td>1</td>\n",
       "      <td>0</td>\n",
       "    </tr>\n",
       "    <tr>\n",
       "      <th>4</th>\n",
       "      <td>101655</td>\n",
       "      <td>18APR2014</td>\n",
       "      <td>GRD</td>\n",
       "      <td>1</td>\n",
       "      <td>48</td>\n",
       "      <td>0</td>\n",
       "      <td>0</td>\n",
       "      <td>0</td>\n",
       "      <td>1</td>\n",
       "      <td>-1.244723</td>\n",
       "      <td>1</td>\n",
       "      <td>60</td>\n",
       "      <td>2</td>\n",
       "      <td>3</td>\n",
       "      <td>30000</td>\n",
       "      <td>1</td>\n",
       "      <td>4</td>\n",
       "      <td>1</td>\n",
       "      <td>0.0</td>\n",
       "      <td>1</td>\n",
       "      <td>0</td>\n",
       "    </tr>\n",
       "  </tbody>\n",
       "</table>\n",
       "</div>"
      ],
      "text/plain": [
       "   client_id   app_date education  sex  age  car  car_type  decline_app_cnt  \\\n",
       "0      25905  01FEB2014       SCH    1   62    1         1                0   \n",
       "1      63161  12MAR2014       SCH    0   59    0         0                0   \n",
       "2      25887  01FEB2014       SCH    1   25    1         0                2   \n",
       "3      16222  23JAN2014       SCH    0   53    0         0                0   \n",
       "4     101655  18APR2014       GRD    1   48    0         0                0   \n",
       "\n",
       "   good_work  score_bki  bki_request_cnt  region_rating  home_address  \\\n",
       "0          0  -2.008753                1             50             1   \n",
       "1          0  -1.532276                3             50             2   \n",
       "2          0  -1.408142                1             80             1   \n",
       "3          0  -2.057471                2             50             2   \n",
       "4          1  -1.244723                1             60             2   \n",
       "\n",
       "   work_address  income  sna  first_time  foreign_passport  default  sample  \\\n",
       "0             2   18000    4           1                 0      0.0       1   \n",
       "1             3   19000    4           1                 0      0.0       1   \n",
       "2             2   30000    1           4                 1      0.0       1   \n",
       "3             3   10000    1           3                 0      0.0       1   \n",
       "4             3   30000    1           4                 1      0.0       1   \n",
       "\n",
       "   education_nan  \n",
       "0              0  \n",
       "1              0  \n",
       "2              0  \n",
       "3              0  \n",
       "4              0  "
      ]
     },
     "execution_count": 364,
     "metadata": {},
     "output_type": "execute_result"
    }
   ],
   "source": [
    "# и снова посмотрим на наши данные\n",
    "data.head()"
   ]
  },
  {
   "cell_type": "code",
   "execution_count": 365,
   "id": "spectacular-conservative",
   "metadata": {
    "execution": {
     "iopub.execute_input": "2021-06-30T16:26:57.126115Z",
     "iopub.status.busy": "2021-06-30T16:26:57.125301Z",
     "iopub.status.idle": "2021-06-30T16:26:57.153111Z",
     "shell.execute_reply": "2021-06-30T16:26:57.153558Z",
     "shell.execute_reply.started": "2021-06-30T16:21:41.657759Z"
    },
    "papermill": {
     "duration": 0.12562,
     "end_time": "2021-06-30T16:26:57.153725",
     "exception": false,
     "start_time": "2021-06-30T16:26:57.028105",
     "status": "completed"
    },
    "tags": []
   },
   "outputs": [],
   "source": [
    "# создадим новый признак timedelta\n",
    "# конвертируем дату\n",
    "data['app_date'] = pd.to_datetime(data['app_date'], format='%d%b%Y')"
   ]
  },
  {
   "cell_type": "code",
   "execution_count": 366,
   "id": "strong-collectible",
   "metadata": {
    "execution": {
     "iopub.execute_input": "2021-06-30T16:26:57.535091Z",
     "iopub.status.busy": "2021-06-30T16:26:57.534243Z",
     "iopub.status.idle": "2021-06-30T16:26:57.757468Z",
     "shell.execute_reply": "2021-06-30T16:26:57.757881Z",
     "shell.execute_reply.started": "2021-06-30T16:21:41.695816Z"
    },
    "papermill": {
     "duration": 0.321417,
     "end_time": "2021-06-30T16:26:57.758045",
     "exception": false,
     "start_time": "2021-06-30T16:26:57.436628",
     "status": "completed"
    },
    "tags": []
   },
   "outputs": [],
   "source": [
    "# найдем наиболее раннюю дату\n",
    "\n",
    "data_min = min(data['app_date'])"
   ]
  },
  {
   "cell_type": "code",
   "execution_count": 367,
   "id": "impressed-dictionary",
   "metadata": {
    "execution": {
     "iopub.execute_input": "2021-06-30T16:26:58.149314Z",
     "iopub.status.busy": "2021-06-30T16:26:58.148730Z",
     "iopub.status.idle": "2021-06-30T16:26:58.154289Z",
     "shell.execute_reply": "2021-06-30T16:26:58.154765Z",
     "shell.execute_reply.started": "2021-06-30T16:21:41.950786Z"
    },
    "papermill": {
     "duration": 0.104814,
     "end_time": "2021-06-30T16:26:58.154920",
     "exception": false,
     "start_time": "2021-06-30T16:26:58.050106",
     "status": "completed"
    },
    "tags": []
   },
   "outputs": [],
   "source": [
    "# создадим новый признак - разницу между датой запроса и минимальной.\n",
    "data['app_date_timedelta'] = (data['app_date'] - data_min).dt.days.astype('int')"
   ]
  },
  {
   "cell_type": "code",
   "execution_count": 368,
   "id": "classical-observation",
   "metadata": {
    "execution": {
     "iopub.execute_input": "2021-06-30T16:26:58.546974Z",
     "iopub.status.busy": "2021-06-30T16:26:58.545978Z",
     "iopub.status.idle": "2021-06-30T16:26:58.549515Z",
     "shell.execute_reply": "2021-06-30T16:26:58.550010Z",
     "shell.execute_reply.started": "2021-06-30T16:21:41.963252Z"
    },
    "papermill": {
     "duration": 0.106124,
     "end_time": "2021-06-30T16:26:58.550165",
     "exception": false,
     "start_time": "2021-06-30T16:26:58.444041",
     "status": "completed"
    },
    "tags": []
   },
   "outputs": [],
   "source": [
    "# добавим новый признак в список числовых\n",
    "num_cols.append('app_date_timedelta')"
   ]
  },
  {
   "cell_type": "code",
   "execution_count": 369,
   "id": "mexican-uruguay",
   "metadata": {
    "execution": {
     "iopub.execute_input": "2021-06-30T16:26:58.749217Z",
     "iopub.status.busy": "2021-06-30T16:26:58.748352Z",
     "iopub.status.idle": "2021-06-30T16:26:59.002465Z",
     "shell.execute_reply": "2021-06-30T16:26:59.002899Z",
     "shell.execute_reply.started": "2021-06-30T16:21:41.970822Z"
    },
    "papermill": {
     "duration": 0.353645,
     "end_time": "2021-06-30T16:26:59.003062",
     "exception": false,
     "start_time": "2021-06-30T16:26:58.649417",
     "status": "completed"
    },
    "tags": []
   },
   "outputs": [
    {
     "name": "stdout",
     "output_type": "stream",
     "text": [
      "Lower Range:\n",
      "-51.0\n",
      "Upper Range:\n",
      "173.0\n",
      "Lower Outliers:\n",
      "0\n",
      "Upper Outliers:\n",
      "0\n",
      "None\n"
     ]
    },
    {
     "data": {
      "image/png": "[encoded data removed]",
      "text/plain": [
       "<Figure size 432x288 with 2 Axes>"
      ]
     },
     "metadata": {
      "needs_background": "light"
     },
     "output_type": "display_data"
    }
   ],
   "source": [
    "# ну и поссмотрим на результат нашей работы \n",
    "f, (ax_box, ax_hist) = plt.subplots(2, sharex=True, gridspec_kw={\"height_ratios\": (.15, .85)})\n",
    "\n",
    "sns.boxplot(data = data, x = 'app_date_timedelta', ax=ax_box)\n",
    "sns.histplot(data = data, x = 'app_date_timedelta', ax=ax_hist)\n",
    " \n",
    "print(outlier_detect(data,data['app_date_timedelta']))"
   ]
  },
  {
   "cell_type": "markdown",
   "id": "romantic-racing",
   "metadata": {
    "papermill": {
     "duration": 0.104911,
     "end_time": "2021-06-30T16:26:59.960089",
     "exception": false,
     "start_time": "2021-06-30T16:26:59.855178",
     "status": "completed"
    },
    "tags": []
   },
   "source": [
    "### Education"
   ]
  },
  {
   "cell_type": "code",
   "execution_count": 370,
   "id": "floral-speed",
   "metadata": {
    "execution": {
     "iopub.execute_input": "2021-06-30T16:27:00.200954Z",
     "iopub.status.busy": "2021-06-30T16:27:00.184687Z",
     "iopub.status.idle": "2021-06-30T16:27:00.363573Z",
     "shell.execute_reply": "2021-06-30T16:27:00.363009Z",
     "shell.execute_reply.started": "2021-06-30T16:21:42.694370Z"
    },
    "papermill": {
     "duration": 0.304912,
     "end_time": "2021-06-30T16:27:00.363710",
     "exception": false,
     "start_time": "2021-06-30T16:27:00.058798",
     "status": "completed"
    },
    "tags": []
   },
   "outputs": [
    {
     "data": {
      "text/plain": [
       "<AxesSubplot:xlabel='education', ylabel='Count'>"
      ]
     },
     "execution_count": 370,
     "metadata": {},
     "output_type": "execute_result"
    },
    {
     "data": {
      "image/png": "[encoded data removed]",
      "text/plain": [
       "<Figure size 432x288 with 1 Axes>"
      ]
     },
     "metadata": {
      "needs_background": "light"
     },
     "output_type": "display_data"
    }
   ],
   "source": [
    "# посмотрим на распределение признака\n",
    "sns.histplot(data = data, x = 'education')"
   ]
  },
  {
   "cell_type": "markdown",
   "id": "casual-breeding",
   "metadata": {
    "papermill": {
     "duration": 0.099468,
     "end_time": "2021-06-30T16:27:00.562491",
     "exception": false,
     "start_time": "2021-06-30T16:27:00.463023",
     "status": "completed"
    },
    "tags": []
   },
   "source": [
    "Выглядит все достаточно логично, теперь давайте конвертируем всё в числа(ведь алгоритмы не могу работать с буквами)"
   ]
  },
  {
   "cell_type": "code",
   "execution_count": 371,
   "id": "local-generator",
   "metadata": {
    "execution": {
     "iopub.execute_input": "2021-06-30T16:27:00.785605Z",
     "iopub.status.busy": "2021-06-30T16:27:00.784766Z",
     "iopub.status.idle": "2021-06-30T16:27:00.788898Z",
     "shell.execute_reply": "2021-06-30T16:27:00.788382Z",
     "shell.execute_reply.started": "2021-06-30T16:21:42.904111Z"
    },
    "papermill": {
     "duration": 0.125358,
     "end_time": "2021-06-30T16:27:00.789028",
     "exception": false,
     "start_time": "2021-06-30T16:27:00.663670",
     "status": "completed"
    },
    "tags": []
   },
   "outputs": [],
   "source": [
    "education_dict = {'SCH': 1, 'GRD': 2, 'UGR': 3, 'PGR': 4, 'ACD': 5}\n",
    "\n",
    "data['education'] = data['education'].map(education_dict)"
   ]
  },
  {
   "cell_type": "markdown",
   "id": "academic-future",
   "metadata": {
    "papermill": {
     "duration": 0.097758,
     "end_time": "2021-06-30T16:27:00.984419",
     "exception": false,
     "start_time": "2021-06-30T16:27:00.886661",
     "status": "completed"
    },
    "tags": []
   },
   "source": [
    "### Gender"
   ]
  },
  {
   "cell_type": "code",
   "execution_count": 372,
   "id": "complimentary-dancing",
   "metadata": {
    "execution": {
     "iopub.execute_input": "2021-06-30T16:27:01.304644Z",
     "iopub.status.busy": "2021-06-30T16:27:01.303987Z",
     "iopub.status.idle": "2021-06-30T16:27:01.423782Z",
     "shell.execute_reply": "2021-06-30T16:27:01.423286Z",
     "shell.execute_reply.started": "2021-06-30T16:21:42.924431Z"
    },
    "papermill": {
     "duration": 0.340917,
     "end_time": "2021-06-30T16:27:01.423931",
     "exception": false,
     "start_time": "2021-06-30T16:27:01.083014",
     "status": "completed"
    },
    "tags": []
   },
   "outputs": [
    {
     "data": {
      "text/plain": [
       "<AxesSubplot:xlabel='sex', ylabel='Count'>"
      ]
     },
     "execution_count": 372,
     "metadata": {},
     "output_type": "execute_result"
    },
    {
     "data": {
      "image/png": "[encoded data removed]",
      "text/plain": [
       "<Figure size 432x288 with 1 Axes>"
      ]
     },
     "metadata": {
      "needs_background": "light"
     },
     "output_type": "display_data"
    }
   ],
   "source": [
    "# посмотрим на распределение признака\n",
    "sns.histplot(data = data, x = 'sex')"
   ]
  },
  {
   "cell_type": "markdown",
   "id": "intellectual-isolation",
   "metadata": {
    "papermill": {
     "duration": 0.108295,
     "end_time": "2021-06-30T16:27:01.845874",
     "exception": false,
     "start_time": "2021-06-30T16:27:01.737579",
     "status": "completed"
    },
    "tags": []
   },
   "source": [
    "### Age"
   ]
  },
  {
   "cell_type": "code",
   "execution_count": 373,
   "id": "characteristic-enzyme",
   "metadata": {
    "execution": {
     "iopub.execute_input": "2021-06-30T16:27:02.083327Z",
     "iopub.status.busy": "2021-06-30T16:27:02.077464Z",
     "iopub.status.idle": "2021-06-30T16:27:02.219092Z",
     "shell.execute_reply": "2021-06-30T16:27:02.218590Z",
     "shell.execute_reply.started": "2021-06-30T16:21:43.076896Z"
    },
    "papermill": {
     "duration": 0.270645,
     "end_time": "2021-06-30T16:27:02.219237",
     "exception": false,
     "start_time": "2021-06-30T16:27:01.948592",
     "status": "completed"
    },
    "tags": []
   },
   "outputs": [
    {
     "name": "stdout",
     "output_type": "stream",
     "text": [
      "Lower Range:\n",
      "3.0\n",
      "Upper Range:\n",
      "75.0\n",
      "Lower Outliers:\n",
      "0\n",
      "Upper Outliers:\n",
      "0\n",
      "None\n"
     ]
    },
    {
     "data": {
      "image/png": "[encoded data removed]",
      "text/plain": [
       "<Figure size 432x288 with 2 Axes>"
      ]
     },
     "metadata": {
      "needs_background": "light"
     },
     "output_type": "display_data"
    }
   ],
   "source": [
    "# посмотрим на распределение признака\n",
    "f, (ax_box, ax_hist) = plt.subplots(2, sharex=True, gridspec_kw={\"height_ratios\": (.15, .85)})\n",
    "\n",
    "sns.boxplot(data = data, x = 'age', ax=ax_box)\n",
    "sns.histplot(data = data, x = 'age', ax=ax_hist)\n",
    " \n",
    "print(outlier_detect(data,data['age']))"
   ]
  },
  {
   "cell_type": "markdown",
   "id": "married-mystery",
   "metadata": {
    "papermill": {
     "duration": 0.104132,
     "end_time": "2021-06-30T16:27:03.148844",
     "exception": false,
     "start_time": "2021-06-30T16:27:03.044712",
     "status": "completed"
    },
    "tags": []
   },
   "source": [
    "Так, это придется прологарфмировать, но исхдя из графика, люди 30 +/- наиболее охотно делают какие-либо крупные покупки"
   ]
  },
  {
   "cell_type": "code",
   "execution_count": 374,
   "id": "macro-lesson",
   "metadata": {
    "execution": {
     "iopub.execute_input": "2021-06-30T16:27:03.406174Z",
     "iopub.status.busy": "2021-06-30T16:27:03.405563Z",
     "iopub.status.idle": "2021-06-30T16:27:03.565921Z",
     "shell.execute_reply": "2021-06-30T16:27:03.565312Z",
     "shell.execute_reply.started": "2021-06-30T16:21:43.536442Z"
    },
    "papermill": {
     "duration": 0.315489,
     "end_time": "2021-06-30T16:27:03.566055",
     "exception": false,
     "start_time": "2021-06-30T16:27:03.250566",
     "status": "completed"
    },
    "tags": []
   },
   "outputs": [
    {
     "data": {
      "text/plain": [
       "<AxesSubplot:xlabel='age', ylabel='Count'>"
      ]
     },
     "execution_count": 374,
     "metadata": {},
     "output_type": "execute_result"
    },
    {
     "data": {
      "image/png": "[encoded data removed]",
      "text/plain": [
       "<Figure size 432x288 with 1 Axes>"
      ]
     },
     "metadata": {
      "needs_background": "light"
     },
     "output_type": "display_data"
    }
   ],
   "source": [
    "# логарифмируем\n",
    "\n",
    "sns.histplot(data = data, x = np.log(data['age'] + 1))"
   ]
  },
  {
   "cell_type": "markdown",
   "id": "spectacular-northeast",
   "metadata": {
    "papermill": {
     "duration": 0.108565,
     "end_time": "2021-06-30T16:27:03.786276",
     "exception": false,
     "start_time": "2021-06-30T16:27:03.677711",
     "status": "completed"
    },
    "tags": []
   },
   "source": [
    "Распределение выглядит нормально, тогда оставим логарифм"
   ]
  },
  {
   "cell_type": "code",
   "execution_count": 375,
   "id": "empty-stevens",
   "metadata": {
    "execution": {
     "iopub.execute_input": "2021-06-30T16:27:04.004357Z",
     "iopub.status.busy": "2021-06-30T16:27:04.003383Z",
     "iopub.status.idle": "2021-06-30T16:27:04.030971Z",
     "shell.execute_reply": "2021-06-30T16:27:04.030492Z",
     "shell.execute_reply.started": "2021-06-30T16:21:43.712756Z"
    },
    "papermill": {
     "duration": 0.136362,
     "end_time": "2021-06-30T16:27:04.031116",
     "exception": false,
     "start_time": "2021-06-30T16:27:03.894754",
     "status": "completed"
    },
    "tags": []
   },
   "outputs": [
    {
     "data": {
      "text/html": [
       "<div>\n",
       "<style scoped>\n",
       "    .dataframe tbody tr th:only-of-type {\n",
       "        vertical-align: middle;\n",
       "    }\n",
       "\n",
       "    .dataframe tbody tr th {\n",
       "        vertical-align: top;\n",
       "    }\n",
       "\n",
       "    .dataframe thead th {\n",
       "        text-align: right;\n",
       "    }\n",
       "</style>\n",
       "<table border=\"1\" class=\"dataframe\">\n",
       "  <thead>\n",
       "    <tr style=\"text-align: right;\">\n",
       "      <th></th>\n",
       "      <th>client_id</th>\n",
       "      <th>app_date</th>\n",
       "      <th>education</th>\n",
       "      <th>sex</th>\n",
       "      <th>age</th>\n",
       "      <th>car</th>\n",
       "      <th>car_type</th>\n",
       "      <th>decline_app_cnt</th>\n",
       "      <th>good_work</th>\n",
       "      <th>score_bki</th>\n",
       "      <th>bki_request_cnt</th>\n",
       "      <th>region_rating</th>\n",
       "      <th>home_address</th>\n",
       "      <th>work_address</th>\n",
       "      <th>income</th>\n",
       "      <th>sna</th>\n",
       "      <th>first_time</th>\n",
       "      <th>foreign_passport</th>\n",
       "      <th>default</th>\n",
       "      <th>sample</th>\n",
       "      <th>education_nan</th>\n",
       "      <th>app_date_timedelta</th>\n",
       "    </tr>\n",
       "  </thead>\n",
       "  <tbody>\n",
       "    <tr>\n",
       "      <th>0</th>\n",
       "      <td>25905</td>\n",
       "      <td>2014-02-01</td>\n",
       "      <td>1</td>\n",
       "      <td>1</td>\n",
       "      <td>4.143135</td>\n",
       "      <td>1</td>\n",
       "      <td>1</td>\n",
       "      <td>0</td>\n",
       "      <td>0</td>\n",
       "      <td>-2.008753</td>\n",
       "      <td>1</td>\n",
       "      <td>50</td>\n",
       "      <td>1</td>\n",
       "      <td>2</td>\n",
       "      <td>18000</td>\n",
       "      <td>4</td>\n",
       "      <td>1</td>\n",
       "      <td>0</td>\n",
       "      <td>0.0</td>\n",
       "      <td>1</td>\n",
       "      <td>0</td>\n",
       "      <td>31</td>\n",
       "    </tr>\n",
       "    <tr>\n",
       "      <th>1</th>\n",
       "      <td>63161</td>\n",
       "      <td>2014-03-12</td>\n",
       "      <td>1</td>\n",
       "      <td>0</td>\n",
       "      <td>4.094345</td>\n",
       "      <td>0</td>\n",
       "      <td>0</td>\n",
       "      <td>0</td>\n",
       "      <td>0</td>\n",
       "      <td>-1.532276</td>\n",
       "      <td>3</td>\n",
       "      <td>50</td>\n",
       "      <td>2</td>\n",
       "      <td>3</td>\n",
       "      <td>19000</td>\n",
       "      <td>4</td>\n",
       "      <td>1</td>\n",
       "      <td>0</td>\n",
       "      <td>0.0</td>\n",
       "      <td>1</td>\n",
       "      <td>0</td>\n",
       "      <td>70</td>\n",
       "    </tr>\n",
       "    <tr>\n",
       "      <th>2</th>\n",
       "      <td>25887</td>\n",
       "      <td>2014-02-01</td>\n",
       "      <td>1</td>\n",
       "      <td>1</td>\n",
       "      <td>3.258097</td>\n",
       "      <td>1</td>\n",
       "      <td>0</td>\n",
       "      <td>2</td>\n",
       "      <td>0</td>\n",
       "      <td>-1.408142</td>\n",
       "      <td>1</td>\n",
       "      <td>80</td>\n",
       "      <td>1</td>\n",
       "      <td>2</td>\n",
       "      <td>30000</td>\n",
       "      <td>1</td>\n",
       "      <td>4</td>\n",
       "      <td>1</td>\n",
       "      <td>0.0</td>\n",
       "      <td>1</td>\n",
       "      <td>0</td>\n",
       "      <td>31</td>\n",
       "    </tr>\n",
       "    <tr>\n",
       "      <th>3</th>\n",
       "      <td>16222</td>\n",
       "      <td>2014-01-23</td>\n",
       "      <td>1</td>\n",
       "      <td>0</td>\n",
       "      <td>3.988984</td>\n",
       "      <td>0</td>\n",
       "      <td>0</td>\n",
       "      <td>0</td>\n",
       "      <td>0</td>\n",
       "      <td>-2.057471</td>\n",
       "      <td>2</td>\n",
       "      <td>50</td>\n",
       "      <td>2</td>\n",
       "      <td>3</td>\n",
       "      <td>10000</td>\n",
       "      <td>1</td>\n",
       "      <td>3</td>\n",
       "      <td>0</td>\n",
       "      <td>0.0</td>\n",
       "      <td>1</td>\n",
       "      <td>0</td>\n",
       "      <td>22</td>\n",
       "    </tr>\n",
       "    <tr>\n",
       "      <th>4</th>\n",
       "      <td>101655</td>\n",
       "      <td>2014-04-18</td>\n",
       "      <td>2</td>\n",
       "      <td>1</td>\n",
       "      <td>3.891820</td>\n",
       "      <td>0</td>\n",
       "      <td>0</td>\n",
       "      <td>0</td>\n",
       "      <td>1</td>\n",
       "      <td>-1.244723</td>\n",
       "      <td>1</td>\n",
       "      <td>60</td>\n",
       "      <td>2</td>\n",
       "      <td>3</td>\n",
       "      <td>30000</td>\n",
       "      <td>1</td>\n",
       "      <td>4</td>\n",
       "      <td>1</td>\n",
       "      <td>0.0</td>\n",
       "      <td>1</td>\n",
       "      <td>0</td>\n",
       "      <td>107</td>\n",
       "    </tr>\n",
       "  </tbody>\n",
       "</table>\n",
       "</div>"
      ],
      "text/plain": [
       "   client_id   app_date  education  sex       age  car  car_type  \\\n",
       "0      25905 2014-02-01          1    1  4.143135    1         1   \n",
       "1      63161 2014-03-12          1    0  4.094345    0         0   \n",
       "2      25887 2014-02-01          1    1  3.258097    1         0   \n",
       "3      16222 2014-01-23          1    0  3.988984    0         0   \n",
       "4     101655 2014-04-18          2    1  3.891820    0         0   \n",
       "\n",
       "   decline_app_cnt  good_work  score_bki  bki_request_cnt  region_rating  \\\n",
       "0                0          0  -2.008753                1             50   \n",
       "1                0          0  -1.532276                3             50   \n",
       "2                2          0  -1.408142                1             80   \n",
       "3                0          0  -2.057471                2             50   \n",
       "4                0          1  -1.244723                1             60   \n",
       "\n",
       "   home_address  work_address  income  sna  first_time  foreign_passport  \\\n",
       "0             1             2   18000    4           1                 0   \n",
       "1             2             3   19000    4           1                 0   \n",
       "2             1             2   30000    1           4                 1   \n",
       "3             2             3   10000    1           3                 0   \n",
       "4             2             3   30000    1           4                 1   \n",
       "\n",
       "   default  sample  education_nan  app_date_timedelta  \n",
       "0      0.0       1              0                  31  \n",
       "1      0.0       1              0                  70  \n",
       "2      0.0       1              0                  31  \n",
       "3      0.0       1              0                  22  \n",
       "4      0.0       1              0                 107  "
      ]
     },
     "execution_count": 375,
     "metadata": {},
     "output_type": "execute_result"
    }
   ],
   "source": [
    "data['age'] = np.log(data['age'] + 1)\n",
    "data.head()"
   ]
  },
  {
   "cell_type": "code",
   "execution_count": 376,
   "id": "stupid-reply",
   "metadata": {
    "execution": {
     "iopub.execute_input": "2021-06-30T16:27:04.270062Z",
     "iopub.status.busy": "2021-06-30T16:27:04.269391Z",
     "iopub.status.idle": "2021-06-30T16:27:04.540974Z",
     "shell.execute_reply": "2021-06-30T16:27:04.540431Z",
     "shell.execute_reply.started": "2021-06-30T16:21:43.747328Z"
    },
    "papermill": {
     "duration": 0.402908,
     "end_time": "2021-06-30T16:27:04.541119",
     "exception": false,
     "start_time": "2021-06-30T16:27:04.138211",
     "status": "completed"
    },
    "tags": []
   },
   "outputs": [
    {
     "name": "stdout",
     "output_type": "stream",
     "text": [
      "Lower Range:\n",
      "2.7472375640469258\n",
      "Upper Range:\n",
      "4.5785699385488465\n",
      "Lower Outliers:\n",
      "0\n",
      "Upper Outliers:\n",
      "0\n"
     ]
    },
    {
     "data": {
      "image/png": "[encoded data removed]",
      "text/plain": [
       "<Figure size 432x288 with 1 Axes>"
      ]
     },
     "metadata": {
      "needs_background": "light"
     },
     "output_type": "display_data"
    }
   ],
   "source": [
    "# на всякий случай посотрим боксплот и поищем выбросы \n",
    "data.boxplot(column=['age'])\n",
    "outlier_detect(data,data['age'])"
   ]
  },
  {
   "cell_type": "markdown",
   "id": "extraordinary-ensemble",
   "metadata": {
    "papermill": {
     "duration": 0.111196,
     "end_time": "2021-06-30T16:27:04.990934",
     "exception": false,
     "start_time": "2021-06-30T16:27:04.879738",
     "status": "completed"
    },
    "tags": []
   },
   "source": [
    "### Car"
   ]
  },
  {
   "cell_type": "code",
   "execution_count": 377,
   "id": "oriented-drink",
   "metadata": {
    "execution": {
     "iopub.execute_input": "2021-06-30T16:27:05.238953Z",
     "iopub.status.busy": "2021-06-30T16:27:05.238249Z",
     "iopub.status.idle": "2021-06-30T16:27:05.359018Z",
     "shell.execute_reply": "2021-06-30T16:27:05.358388Z",
     "shell.execute_reply.started": "2021-06-30T16:21:44.045456Z"
    },
    "papermill": {
     "duration": 0.256085,
     "end_time": "2021-06-30T16:27:05.359153",
     "exception": false,
     "start_time": "2021-06-30T16:27:05.103068",
     "status": "completed"
    },
    "tags": []
   },
   "outputs": [
    {
     "data": {
      "text/plain": [
       "<AxesSubplot:xlabel='car', ylabel='Count'>"
      ]
     },
     "execution_count": 377,
     "metadata": {},
     "output_type": "execute_result"
    },
    {
     "data": {
      "image/png": "[encoded data removed]",
      "text/plain": [
       "<Figure size 432x288 with 1 Axes>"
      ]
     },
     "metadata": {
      "needs_background": "light"
     },
     "output_type": "display_data"
    }
   ],
   "source": [
    "# посмотрим на распределение признака\n",
    "sns.histplot(data = data, x = 'car')"
   ]
  },
  {
   "cell_type": "markdown",
   "id": "executed-valuable",
   "metadata": {
    "papermill": {
     "duration": 0.112431,
     "end_time": "2021-06-30T16:27:05.584918",
     "exception": false,
     "start_time": "2021-06-30T16:27:05.472487",
     "status": "completed"
    },
    "tags": []
   },
   "source": [
    "У большей части клиентов нет машины"
   ]
  },
  {
   "cell_type": "markdown",
   "id": "changing-productivity",
   "metadata": {
    "papermill": {
     "duration": 0.110017,
     "end_time": "2021-06-30T16:27:05.807136",
     "exception": false,
     "start_time": "2021-06-30T16:27:05.697119",
     "status": "completed"
    },
    "tags": []
   },
   "source": [
    "### Foreign-made car"
   ]
  },
  {
   "cell_type": "code",
   "execution_count": 378,
   "id": "defined-adrian",
   "metadata": {
    "execution": {
     "iopub.execute_input": "2021-06-30T16:27:06.049708Z",
     "iopub.status.busy": "2021-06-30T16:27:06.047178Z",
     "iopub.status.idle": "2021-06-30T16:27:06.150380Z",
     "shell.execute_reply": "2021-06-30T16:27:06.149782Z",
     "shell.execute_reply.started": "2021-06-30T16:21:44.201624Z"
    },
    "papermill": {
     "duration": 0.231812,
     "end_time": "2021-06-30T16:27:06.150525",
     "exception": false,
     "start_time": "2021-06-30T16:27:05.918713",
     "status": "completed"
    },
    "tags": []
   },
   "outputs": [
    {
     "data": {
      "text/plain": [
       "<AxesSubplot:xlabel='car_type', ylabel='Count'>"
      ]
     },
     "execution_count": 378,
     "metadata": {},
     "output_type": "execute_result"
    },
    {
     "data": {
      "image/png": "[encoded data removed]",
      "text/plain": [
       "<Figure size 432x288 with 1 Axes>"
      ]
     },
     "metadata": {
      "needs_background": "light"
     },
     "output_type": "display_data"
    }
   ],
   "source": [
    "# посмотрим на распределение признака\n",
    "sns.histplot(data = data, x = 'car_type')"
   ]
  },
  {
   "cell_type": "markdown",
   "id": "secondary-anchor",
   "metadata": {
    "papermill": {
     "duration": 0.117287,
     "end_time": "2021-06-30T16:27:06.381357",
     "exception": false,
     "start_time": "2021-06-30T16:27:06.264070",
     "status": "completed"
    },
    "tags": []
   },
   "source": [
    "У большинства автовладельцев из этого набора данных есть автомобили отечественного производства"
   ]
  },
  {
   "cell_type": "markdown",
   "id": "norwegian-florist",
   "metadata": {
    "papermill": {
     "duration": 0.117343,
     "end_time": "2021-06-30T16:27:06.616809",
     "exception": false,
     "start_time": "2021-06-30T16:27:06.499466",
     "status": "completed"
    },
    "tags": []
   },
   "source": [
    "### Declined applications"
   ]
  },
  {
   "cell_type": "code",
   "execution_count": 379,
   "id": "second-london",
   "metadata": {
    "execution": {
     "iopub.execute_input": "2021-06-30T16:27:06.872819Z",
     "iopub.status.busy": "2021-06-30T16:27:06.872163Z",
     "iopub.status.idle": "2021-06-30T16:27:06.999036Z",
     "shell.execute_reply": "2021-06-30T16:27:06.998454Z",
     "shell.execute_reply.started": "2021-06-30T16:21:44.343207Z"
    },
    "papermill": {
     "duration": 0.268743,
     "end_time": "2021-06-30T16:27:06.999181",
     "exception": false,
     "start_time": "2021-06-30T16:27:06.730438",
     "status": "completed"
    },
    "tags": []
   },
   "outputs": [
    {
     "name": "stdout",
     "output_type": "stream",
     "text": [
      "Lower Range:\n",
      "0.0\n",
      "Upper Range:\n",
      "0.0\n",
      "Lower Outliers:\n",
      "0\n",
      "Upper Outliers:\n",
      "18677\n",
      "None\n"
     ]
    },
    {
     "data": {
      "image/png": "[encoded data removed]",
      "text/plain": [
       "<Figure size 432x288 with 2 Axes>"
      ]
     },
     "metadata": {
      "needs_background": "light"
     },
     "output_type": "display_data"
    }
   ],
   "source": [
    "# посмотрим на распределение признака, и на наличие выбросов\n",
    "f, (ax_box, ax_hist) = plt.subplots(2, sharex=True, gridspec_kw={\"height_ratios\": (.15, .85)})\n",
    "\n",
    "sns.boxplot(data = data, x = 'decline_app_cnt', ax=ax_box)\n",
    "sns.histplot(data = data, x = 'decline_app_cnt', ax=ax_hist)\n",
    " \n",
    "print(outlier_detect(data,data['decline_app_cnt']))"
   ]
  },
  {
   "cell_type": "markdown",
   "id": "commercial-expression",
   "metadata": {
    "papermill": {
     "duration": 0.115056,
     "end_time": "2021-06-30T16:27:08.019014",
     "exception": false,
     "start_time": "2021-06-30T16:27:07.903958",
     "status": "completed"
    },
    "tags": []
   },
   "source": [
    "Подавляющее большинство заемщиков не отклонили заявки, поэтому наша функция рассматривает значительную часть результатов как выбросы. Попробуем исправить ситуацию, взяв логарифм столбца."
   ]
  },
  {
   "cell_type": "code",
   "execution_count": 380,
   "id": "thrown-venue",
   "metadata": {
    "execution": {
     "iopub.execute_input": "2021-06-30T16:27:08.668358Z",
     "iopub.status.busy": "2021-06-30T16:27:08.667721Z",
     "iopub.status.idle": "2021-06-30T16:27:08.678340Z",
     "shell.execute_reply": "2021-06-30T16:27:08.677829Z",
     "shell.execute_reply.started": "2021-06-30T16:21:44.969214Z"
    },
    "papermill": {
     "duration": 0.14021,
     "end_time": "2021-06-30T16:27:08.678464",
     "exception": false,
     "start_time": "2021-06-30T16:27:08.538254",
     "status": "completed"
    },
    "tags": []
   },
   "outputs": [
    {
     "name": "stdout",
     "output_type": "stream",
     "text": [
      "Lower Range:\n",
      "0.0\n",
      "Upper Range:\n",
      "0.0\n",
      "Lower Outliers:\n",
      "0\n",
      "Upper Outliers:\n",
      "18677\n",
      "None\n"
     ]
    },
    {
     "data": {
      "image/png": "[encoded data removed]",
      "text/plain": [
       "<Figure size 432x288 with 2 Axes>"
      ]
     },
     "metadata": {
      "needs_background": "light"
     },
     "output_type": "display_data"
    }
   ],
   "source": [
    "data['decline_app_cnt'] = np.log(data['decline_app_cnt'] + 1)\n",
    "\n",
    "f, (ax_box, ax_hist) = plt.subplots(2, sharex=True, gridspec_kw={\"height_ratios\": (.15, .85)})\n",
    "\n",
    "sns.boxplot(data = data, x = 'decline_app_cnt', ax=ax_box)\n",
    "sns.histplot(data = data, x = 'decline_app_cnt', ax=ax_hist)\n",
    " \n",
    "print(outlier_detect(data,data['decline_app_cnt']))"
   ]
  },
  {
   "cell_type": "markdown",
   "id": "excited-practice",
   "metadata": {
    "papermill": {
     "duration": 0.11582,
     "end_time": "2021-06-30T16:27:09.727241",
     "exception": false,
     "start_time": "2021-06-30T16:27:09.611421",
     "status": "completed"
    },
    "tags": []
   },
   "source": [
    "Ситуция лучше не стала :-("
   ]
  },
  {
   "cell_type": "markdown",
   "id": "aquatic-programmer",
   "metadata": {
    "papermill": {
     "duration": 0.125615,
     "end_time": "2021-06-30T16:27:09.970451",
     "exception": false,
     "start_time": "2021-06-30T16:27:09.844836",
     "status": "completed"
    },
    "tags": []
   },
   "source": [
    "### Good work"
   ]
  },
  {
   "cell_type": "code",
   "execution_count": 381,
   "id": "adjustable-tract",
   "metadata": {
    "execution": {
     "iopub.execute_input": "2021-06-30T16:27:10.224188Z",
     "iopub.status.busy": "2021-06-30T16:27:10.223457Z",
     "iopub.status.idle": "2021-06-30T16:27:10.337745Z",
     "shell.execute_reply": "2021-06-30T16:27:10.338273Z",
     "shell.execute_reply.started": "2021-06-30T16:21:45.314903Z"
    },
    "papermill": {
     "duration": 0.248266,
     "end_time": "2021-06-30T16:27:10.338452",
     "exception": false,
     "start_time": "2021-06-30T16:27:10.090186",
     "status": "completed"
    },
    "tags": []
   },
   "outputs": [
    {
     "data": {
      "text/plain": [
       "<AxesSubplot:xlabel='good_work', ylabel='Count'>"
      ]
     },
     "execution_count": 381,
     "metadata": {},
     "output_type": "execute_result"
    },
    {
     "data": {
      "image/png": "[encoded data removed]",
      "text/plain": [
       "<Figure size 432x288 with 1 Axes>"
      ]
     },
     "metadata": {
      "needs_background": "light"
     },
     "output_type": "display_data"
    }
   ],
   "source": [
    "# распределение признака\n",
    "sns.histplot(data = data, x = 'good_work')"
   ]
  },
  {
   "cell_type": "markdown",
   "id": "selected-animation",
   "metadata": {
    "papermill": {
     "duration": 0.11961,
     "end_time": "2021-06-30T16:27:10.576523",
     "exception": false,
     "start_time": "2021-06-30T16:27:10.456913",
     "status": "completed"
    },
    "tags": []
   },
   "source": [
    "У большей части клиентов из датасета хорошооплачиваемая работа"
   ]
  },
  {
   "cell_type": "markdown",
   "id": "extreme-shirt",
   "metadata": {
    "papermill": {
     "duration": 0.118312,
     "end_time": "2021-06-30T16:27:10.815049",
     "exception": false,
     "start_time": "2021-06-30T16:27:10.696737",
     "status": "completed"
    },
    "tags": []
   },
   "source": [
    "### BKI score"
   ]
  },
  {
   "cell_type": "code",
   "execution_count": 382,
   "id": "dramatic-weekly",
   "metadata": {
    "execution": {
     "iopub.execute_input": "2021-06-30T16:27:11.073086Z",
     "iopub.status.busy": "2021-06-30T16:27:11.071946Z",
     "iopub.status.idle": "2021-06-30T16:27:11.207523Z",
     "shell.execute_reply": "2021-06-30T16:27:11.208039Z",
     "shell.execute_reply.started": "2021-06-30T16:21:45.462226Z"
    },
    "papermill": {
     "duration": 0.275108,
     "end_time": "2021-06-30T16:27:11.208214",
     "exception": false,
     "start_time": "2021-06-30T16:27:10.933106",
     "status": "completed"
    },
    "tags": []
   },
   "outputs": [
    {
     "name": "stdout",
     "output_type": "stream",
     "text": [
      "Lower Range:\n",
      "-3.299251946250001\n",
      "Upper Range:\n",
      "-0.5290698762499992\n",
      "Lower Outliers:\n",
      "82\n",
      "Upper Outliers:\n",
      "436\n",
      "None\n"
     ]
    },
    {
     "data": {
      "image/png": "[encoded data removed]",
      "text/plain": [
       "<Figure size 432x288 with 2 Axes>"
      ]
     },
     "metadata": {
      "needs_background": "light"
     },
     "output_type": "display_data"
    }
   ],
   "source": [
    "# распределение\n",
    "f, (ax_box, ax_hist) = plt.subplots(2, sharex=True, gridspec_kw={\"height_ratios\": (.15, .85)})\n",
    " \n",
    "sns.boxplot(data = data, x = 'score_bki', ax=ax_box)\n",
    "sns.histplot(data = data, x = 'score_bki', ax=ax_hist)\n",
    "\n",
    "# наличие выбросов\n",
    "print(outlier_detect(data,data['score_bki']))"
   ]
  },
  {
   "cell_type": "markdown",
   "id": "changing-edmonton",
   "metadata": {
    "papermill": {
     "duration": 0.117297,
     "end_time": "2021-06-30T16:27:12.231791",
     "exception": false,
     "start_time": "2021-06-30T16:27:12.114494",
     "status": "completed"
    },
    "tags": []
   },
   "source": [
    "Распределение нормальное и не столь много выбросов"
   ]
  },
  {
   "cell_type": "markdown",
   "id": "revolutionary-apple",
   "metadata": {
    "papermill": {
     "duration": 0.118714,
     "end_time": "2021-06-30T16:27:12.467756",
     "exception": false,
     "start_time": "2021-06-30T16:27:12.349042",
     "status": "completed"
    },
    "tags": []
   },
   "source": [
    "### BKI requests"
   ]
  },
  {
   "cell_type": "code",
   "execution_count": 383,
   "id": "mighty-renewal",
   "metadata": {
    "execution": {
     "iopub.execute_input": "2021-06-30T16:27:12.711634Z",
     "iopub.status.busy": "2021-06-30T16:27:12.711013Z",
     "iopub.status.idle": "2021-06-30T16:27:12.856808Z",
     "shell.execute_reply": "2021-06-30T16:27:12.857240Z",
     "shell.execute_reply.started": "2021-06-30T16:21:45.958177Z"
    },
    "papermill": {
     "duration": 0.268471,
     "end_time": "2021-06-30T16:27:12.857398",
     "exception": false,
     "start_time": "2021-06-30T16:27:12.588927",
     "status": "completed"
    },
    "tags": []
   },
   "outputs": [
    {
     "name": "stdout",
     "output_type": "stream",
     "text": [
      "Lower Range:\n",
      "-4.5\n",
      "Upper Range:\n",
      "7.5\n",
      "Lower Outliers:\n",
      "0\n",
      "Upper Outliers:\n",
      "2636\n",
      "None\n"
     ]
    },
    {
     "data": {
      "image/png": "[encoded data removed]",
      "text/plain": [
       "<Figure size 432x288 with 2 Axes>"
      ]
     },
     "metadata": {
      "needs_background": "light"
     },
     "output_type": "display_data"
    }
   ],
   "source": [
    "# распределение\n",
    "f, (ax_box, ax_hist) = plt.subplots(2, sharex=True, gridspec_kw={\"height_ratios\": (.15, .85)})\n",
    " \n",
    "sns.boxplot(data = data, x = 'bki_request_cnt', ax=ax_box)\n",
    "sns.histplot(data = data, x = 'bki_request_cnt', ax=ax_hist)\n",
    "\n",
    "# выбросы\n",
    "print(outlier_detect(data,data['bki_request_cnt']))"
   ]
  },
  {
   "cell_type": "code",
   "execution_count": 384,
   "id": "sized-james",
   "metadata": {
    "execution": {
     "iopub.execute_input": "2021-06-30T16:27:13.873653Z",
     "iopub.status.busy": "2021-06-30T16:27:13.872820Z",
     "iopub.status.idle": "2021-06-30T16:27:14.041575Z",
     "shell.execute_reply": "2021-06-30T16:27:14.042032Z",
     "shell.execute_reply.started": "2021-06-30T16:21:46.525321Z"
    },
    "papermill": {
     "duration": 0.296882,
     "end_time": "2021-06-30T16:27:14.042202",
     "exception": false,
     "start_time": "2021-06-30T16:27:13.745320",
     "status": "completed"
    },
    "tags": []
   },
   "outputs": [
    {
     "data": {
      "text/plain": [
       "<AxesSubplot:>"
      ]
     },
     "execution_count": 384,
     "metadata": {},
     "output_type": "execute_result"
    },
    {
     "data": {
      "image/png": "[encoded data removed]",
      "text/plain": [
       "<Figure size 432x288 with 1 Axes>"
      ]
     },
     "metadata": {
      "needs_background": "light"
     },
     "output_type": "display_data"
    }
   ],
   "source": [
    "# прологарифмируем\n",
    "np.log(data['bki_request_cnt'] + 1).hist()"
   ]
  },
  {
   "cell_type": "code",
   "execution_count": 385,
   "id": "economic-worry",
   "metadata": {
    "execution": {
     "iopub.execute_input": "2021-06-30T16:27:14.293070Z",
     "iopub.status.busy": "2021-06-30T16:27:14.292236Z",
     "iopub.status.idle": "2021-06-30T16:27:14.305071Z",
     "shell.execute_reply": "2021-06-30T16:27:14.304546Z",
     "shell.execute_reply.started": "2021-06-30T16:21:46.716056Z"
    },
    "papermill": {
     "duration": 0.138817,
     "end_time": "2021-06-30T16:27:14.305210",
     "exception": false,
     "start_time": "2021-06-30T16:27:14.166393",
     "status": "completed"
    },
    "tags": []
   },
   "outputs": [
    {
     "name": "stdout",
     "output_type": "stream",
     "text": [
      "Lower Range:\n",
      "-2.0794415416798357\n",
      "Upper Range:\n",
      "3.465735902799726\n",
      "Lower Outliers:\n",
      "0\n",
      "Upper Outliers:\n",
      "15\n",
      "None\n"
     ]
    },
    {
     "data": {
      "image/png": "[encoded data removed]",
      "text/plain": [
       "<Figure size 432x288 with 2 Axes>"
      ]
     },
     "metadata": {
      "needs_background": "light"
     },
     "output_type": "display_data"
    }
   ],
   "source": [
    "# оставим логарифм\n",
    "data['bki_request_cnt'] = np.log(data['bki_request_cnt'] + 1)\n",
    "# проверим распределение\n",
    "f, (ax_box, ax_hist) = plt.subplots(2, sharex=True, gridspec_kw={\"height_ratios\": (.15, .85)})\n",
    " \n",
    "sns.boxplot(data = data, x = 'bki_request_cnt', ax=ax_box)\n",
    "sns.histplot(data = data, x = 'bki_request_cnt', ax=ax_hist)\n",
    "# выбросы\n",
    "print(outlier_detect(data,data['bki_request_cnt']))"
   ]
  },
  {
   "cell_type": "markdown",
   "id": "increasing-saskatchewan",
   "metadata": {
    "papermill": {
     "duration": 0.141757,
     "end_time": "2021-06-30T16:27:15.501112",
     "exception": false,
     "start_time": "2021-06-30T16:27:15.359355",
     "status": "completed"
    },
    "tags": []
   },
   "source": [
    "Количество выбросов упало с 2636 до 15"
   ]
  },
  {
   "cell_type": "markdown",
   "id": "cordless-static",
   "metadata": {
    "papermill": {
     "duration": 0.123664,
     "end_time": "2021-06-30T16:27:15.747533",
     "exception": false,
     "start_time": "2021-06-30T16:27:15.623869",
     "status": "completed"
    },
    "tags": []
   },
   "source": [
    "### Region rating"
   ]
  },
  {
   "cell_type": "code",
   "execution_count": 386,
   "id": "radio-villa",
   "metadata": {
    "execution": {
     "iopub.execute_input": "2021-06-30T16:27:15.998536Z",
     "iopub.status.busy": "2021-06-30T16:27:15.997979Z",
     "iopub.status.idle": "2021-06-30T16:27:16.156752Z",
     "shell.execute_reply": "2021-06-30T16:27:16.157265Z",
     "shell.execute_reply.started": "2021-06-30T16:21:47.064073Z"
    },
    "papermill": {
     "duration": 0.28619,
     "end_time": "2021-06-30T16:27:16.157431",
     "exception": false,
     "start_time": "2021-06-30T16:27:15.871241",
     "status": "completed"
    },
    "tags": []
   },
   "outputs": [
    {
     "data": {
      "text/plain": [
       "<AxesSubplot:xlabel='region_rating', ylabel='Count'>"
      ]
     },
     "execution_count": 386,
     "metadata": {},
     "output_type": "execute_result"
    },
    {
     "data": {
      "image/png": "[encoded data removed]",
      "text/plain": [
       "<Figure size 432x288 with 1 Axes>"
      ]
     },
     "metadata": {
      "needs_background": "light"
     },
     "output_type": "display_data"
    }
   ],
   "source": [
    "# распределение\n",
    "\n",
    "sns.histplot(data = data, x = 'region_rating')"
   ]
  },
  {
   "cell_type": "markdown",
   "id": "incident-vampire",
   "metadata": {
    "papermill": {
     "duration": 0.123442,
     "end_time": "2021-06-30T16:27:16.404744",
     "exception": false,
     "start_time": "2021-06-30T16:27:16.281302",
     "status": "completed"
    },
    "tags": []
   },
   "source": [
    "### Home address"
   ]
  },
  {
   "cell_type": "code",
   "execution_count": 387,
   "id": "prerequisite-syndrome",
   "metadata": {
    "execution": {
     "iopub.execute_input": "2021-06-30T16:27:16.653092Z",
     "iopub.status.busy": "2021-06-30T16:27:16.652429Z",
     "iopub.status.idle": "2021-06-30T16:27:16.804824Z",
     "shell.execute_reply": "2021-06-30T16:27:16.804340Z",
     "shell.execute_reply.started": "2021-06-30T16:21:47.252909Z"
    },
    "papermill": {
     "duration": 0.277484,
     "end_time": "2021-06-30T16:27:16.804991",
     "exception": false,
     "start_time": "2021-06-30T16:27:16.527507",
     "status": "completed"
    },
    "tags": []
   },
   "outputs": [
    {
     "data": {
      "text/plain": [
       "<AxesSubplot:xlabel='home_address', ylabel='Count'>"
      ]
     },
     "execution_count": 387,
     "metadata": {},
     "output_type": "execute_result"
    },
    {
     "data": {
      "image/png": "[encoded data removed]",
      "text/plain": [
       "<Figure size 432x288 with 1 Axes>"
      ]
     },
     "metadata": {
      "needs_background": "light"
     },
     "output_type": "display_data"
    }
   ],
   "source": [
    "# распределение\n",
    "sns.histplot(data = data, x = 'home_address')"
   ]
  },
  {
   "cell_type": "markdown",
   "id": "abandoned-dealer",
   "metadata": {
    "papermill": {
     "duration": 0.126152,
     "end_time": "2021-06-30T16:27:17.058304",
     "exception": false,
     "start_time": "2021-06-30T16:27:16.932152",
     "status": "completed"
    },
    "tags": []
   },
   "source": [
    "### Work address"
   ]
  },
  {
   "cell_type": "code",
   "execution_count": 388,
   "id": "backed-contract",
   "metadata": {
    "execution": {
     "iopub.execute_input": "2021-06-30T16:27:17.330831Z",
     "iopub.status.busy": "2021-06-30T16:27:17.329670Z",
     "iopub.status.idle": "2021-06-30T16:27:17.465512Z",
     "shell.execute_reply": "2021-06-30T16:27:17.465993Z",
     "shell.execute_reply.started": "2021-06-30T16:21:47.427679Z"
    },
    "papermill": {
     "duration": 0.286621,
     "end_time": "2021-06-30T16:27:17.466165",
     "exception": false,
     "start_time": "2021-06-30T16:27:17.179544",
     "status": "completed"
    },
    "tags": []
   },
   "outputs": [
    {
     "data": {
      "text/plain": [
       "<AxesSubplot:xlabel='work_address', ylabel='Count'>"
      ]
     },
     "execution_count": 388,
     "metadata": {},
     "output_type": "execute_result"
    },
    {
     "data": {
      "image/png": "[encoded data removed]",
      "text/plain": [
       "<Figure size 432x288 with 1 Axes>"
      ]
     },
     "metadata": {
      "needs_background": "light"
     },
     "output_type": "display_data"
    }
   ],
   "source": [
    "# распределение\n",
    "\n",
    "sns.histplot(data = data, x = 'work_address')"
   ]
  },
  {
   "cell_type": "markdown",
   "id": "duplicate-anxiety",
   "metadata": {
    "papermill": {
     "duration": 0.127295,
     "end_time": "2021-06-30T16:27:17.720983",
     "exception": false,
     "start_time": "2021-06-30T16:27:17.593688",
     "status": "completed"
    },
    "tags": []
   },
   "source": [
    "## 3.14 Income"
   ]
  },
  {
   "cell_type": "code",
   "execution_count": 389,
   "id": "after-geography",
   "metadata": {
    "execution": {
     "iopub.execute_input": "2021-06-30T16:27:17.984310Z",
     "iopub.status.busy": "2021-06-30T16:27:17.983385Z",
     "iopub.status.idle": "2021-06-30T16:27:18.287327Z",
     "shell.execute_reply": "2021-06-30T16:27:18.287781Z",
     "shell.execute_reply.started": "2021-06-30T16:21:47.600409Z"
    },
    "papermill": {
     "duration": 0.436625,
     "end_time": "2021-06-30T16:27:18.287966",
     "exception": false,
     "start_time": "2021-06-30T16:27:17.851341",
     "status": "completed"
    },
    "tags": []
   },
   "outputs": [
    {
     "name": "stdout",
     "output_type": "stream",
     "text": [
      "Lower Range:\n",
      "-22000.0\n",
      "Upper Range:\n",
      "90000.0\n",
      "Lower Outliers:\n",
      "0\n",
      "Upper Outliers:\n",
      "7000\n",
      "None\n"
     ]
    },
    {
     "data": {
      "image/png": "[encoded data removed]",
      "text/plain": [
       "<Figure size 432x288 with 2 Axes>"
      ]
     },
     "metadata": {
      "needs_background": "light"
     },
     "output_type": "display_data"
    }
   ],
   "source": [
    "# распределение\n",
    "f, (ax_box, ax_hist) = plt.subplots(2, sharex=True, gridspec_kw={\"height_ratios\": (.15, .85)})\n",
    " \n",
    "sns.boxplot(data = data, x = 'income', ax=ax_box)\n",
    "sns.histplot(data = data, x = 'income', ax=ax_hist)\n",
    "\n",
    "# выбросы\n",
    "print(outlier_detect(data,data['income']))"
   ]
  },
  {
   "cell_type": "code",
   "execution_count": 390,
   "id": "lesbian-arnold",
   "metadata": {
    "execution": {
     "iopub.execute_input": "2021-06-30T16:27:19.371665Z",
     "iopub.status.busy": "2021-06-30T16:27:19.370731Z",
     "iopub.status.idle": "2021-06-30T16:27:19.690520Z",
     "shell.execute_reply": "2021-06-30T16:27:19.690998Z",
     "shell.execute_reply.started": "2021-06-30T16:21:48.221621Z"
    },
    "papermill": {
     "duration": 0.454753,
     "end_time": "2021-06-30T16:27:19.691161",
     "exception": false,
     "start_time": "2021-06-30T16:27:19.236408",
     "status": "completed"
    },
    "tags": []
   },
   "outputs": [
    {
     "name": "stdout",
     "output_type": "stream",
     "text": [
      "Lower Range:\n",
      "8.590378193705899\n",
      "Upper Range:\n",
      "12.092136480586621\n",
      "Lower Outliers:\n",
      "875\n",
      "Upper Outliers:\n",
      "1734\n",
      "None\n"
     ]
    },
    {
     "data": {
      "image/png": "[encoded data removed]",
      "text/plain": [
       "<Figure size 432x288 with 2 Axes>"
      ]
     },
     "metadata": {
      "needs_background": "light"
     },
     "output_type": "display_data"
    }
   ],
   "source": [
    "# логарифмируем\n",
    "data['income'] = np.log(data['income'] + 1)\n",
    "# распределение\n",
    "f, (ax_box, ax_hist) = plt.subplots(2, sharex=True, gridspec_kw={\"height_ratios\": (.15, .85)})\n",
    "\n",
    "sns.boxplot(data = data, x = 'income', ax=ax_box)\n",
    "sns.histplot(data = data, x = 'income', ax=ax_hist)\n",
    " \n",
    "print(outlier_detect(data,data['income']))"
   ]
  },
  {
   "cell_type": "markdown",
   "id": "coated-child",
   "metadata": {
    "papermill": {
     "duration": 0.131507,
     "end_time": "2021-06-30T16:27:21.085552",
     "exception": false,
     "start_time": "2021-06-30T16:27:20.954045",
     "status": "completed"
    },
    "tags": []
   },
   "source": [
    "Количество выбросов упалос с 7000 до 2609, да и в целом логарифмизация поправила и нормализовала ситуацию"
   ]
  },
  {
   "cell_type": "markdown",
   "id": "cutting-reason",
   "metadata": {
    "papermill": {
     "duration": 0.138388,
     "end_time": "2021-06-30T16:27:21.357696",
     "exception": false,
     "start_time": "2021-06-30T16:27:21.219308",
     "status": "completed"
    },
    "tags": []
   },
   "source": [
    "### SNA"
   ]
  },
  {
   "cell_type": "code",
   "execution_count": 391,
   "id": "focal-bread",
   "metadata": {
    "execution": {
     "iopub.execute_input": "2021-06-30T16:27:21.629995Z",
     "iopub.status.busy": "2021-06-30T16:27:21.629427Z",
     "iopub.status.idle": "2021-06-30T16:27:21.780702Z",
     "shell.execute_reply": "2021-06-30T16:27:21.781244Z",
     "shell.execute_reply.started": "2021-06-30T16:21:48.901760Z"
    },
    "papermill": {
     "duration": 0.289405,
     "end_time": "2021-06-30T16:27:21.781411",
     "exception": false,
     "start_time": "2021-06-30T16:27:21.492006",
     "status": "completed"
    },
    "tags": []
   },
   "outputs": [
    {
     "data": {
      "text/plain": [
       "<AxesSubplot:xlabel='sna', ylabel='Count'>"
      ]
     },
     "execution_count": 391,
     "metadata": {},
     "output_type": "execute_result"
    },
    {
     "data": {
      "image/png": "[encoded data removed]",
      "text/plain": [
       "<Figure size 432x288 with 1 Axes>"
      ]
     },
     "metadata": {
      "needs_background": "light"
     },
     "output_type": "display_data"
    }
   ],
   "source": [
    "# распределение\n",
    "\n",
    "sns.histplot(data = data, x = 'sna')"
   ]
  },
  {
   "cell_type": "markdown",
   "id": "boolean-sauce",
   "metadata": {
    "papermill": {
     "duration": 0.131119,
     "end_time": "2021-06-30T16:27:22.039736",
     "exception": false,
     "start_time": "2021-06-30T16:27:21.908617",
     "status": "completed"
    },
    "tags": []
   },
   "source": [
    "### First time"
   ]
  },
  {
   "cell_type": "code",
   "execution_count": 392,
   "id": "oriented-victim",
   "metadata": {
    "execution": {
     "iopub.execute_input": "2021-06-30T16:27:22.307143Z",
     "iopub.status.busy": "2021-06-30T16:27:22.306504Z",
     "iopub.status.idle": "2021-06-30T16:27:22.446486Z",
     "shell.execute_reply": "2021-06-30T16:27:22.446983Z",
     "shell.execute_reply.started": "2021-06-30T16:21:49.084803Z"
    },
    "papermill": {
     "duration": 0.276335,
     "end_time": "2021-06-30T16:27:22.447150",
     "exception": false,
     "start_time": "2021-06-30T16:27:22.170815",
     "status": "completed"
    },
    "tags": []
   },
   "outputs": [
    {
     "data": {
      "text/plain": [
       "<AxesSubplot:xlabel='first_time', ylabel='Count'>"
      ]
     },
     "execution_count": 392,
     "metadata": {},
     "output_type": "execute_result"
    },
    {
     "data": {
      "image/png": "[encoded data removed]",
      "text/plain": [
       "<Figure size 432x288 with 1 Axes>"
      ]
     },
     "metadata": {
      "needs_background": "light"
     },
     "output_type": "display_data"
    }
   ],
   "source": [
    "# распределение\n",
    "\n",
    "sns.histplot(data = data, x = 'first_time')"
   ]
  },
  {
   "cell_type": "markdown",
   "id": "retired-opposition",
   "metadata": {
    "papermill": {
     "duration": 0.138817,
     "end_time": "2021-06-30T16:27:22.753908",
     "exception": false,
     "start_time": "2021-06-30T16:27:22.615091",
     "status": "completed"
    },
    "tags": []
   },
   "source": [
    "### Foreign passport"
   ]
  },
  {
   "cell_type": "code",
   "execution_count": 393,
   "id": "complete-terrorist",
   "metadata": {
    "execution": {
     "iopub.execute_input": "2021-06-30T16:27:23.026240Z",
     "iopub.status.busy": "2021-06-30T16:27:23.025683Z",
     "iopub.status.idle": "2021-06-30T16:27:23.147560Z",
     "shell.execute_reply": "2021-06-30T16:27:23.146963Z",
     "shell.execute_reply.started": "2021-06-30T16:21:49.251985Z"
    },
    "papermill": {
     "duration": 0.25871,
     "end_time": "2021-06-30T16:27:23.147700",
     "exception": false,
     "start_time": "2021-06-30T16:27:22.888990",
     "status": "completed"
    },
    "tags": []
   },
   "outputs": [
    {
     "data": {
      "text/plain": [
       "<AxesSubplot:xlabel='foreign_passport', ylabel='Count'>"
      ]
     },
     "execution_count": 393,
     "metadata": {},
     "output_type": "execute_result"
    },
    {
     "data": {
      "image/png": "[encoded data removed]",
      "text/plain": [
       "<Figure size 432x288 with 1 Axes>"
      ]
     },
     "metadata": {
      "needs_background": "light"
     },
     "output_type": "display_data"
    }
   ],
   "source": [
    "# распределение\n",
    "\n",
    "sns.histplot(data = data, x = 'foreign_passport')"
   ]
  },
  {
   "cell_type": "markdown",
   "id": "faced-container",
   "metadata": {
    "papermill": {
     "duration": 0.137182,
     "end_time": "2021-06-30T16:27:23.421697",
     "exception": false,
     "start_time": "2021-06-30T16:27:23.284515",
     "status": "completed"
    },
    "tags": []
   },
   "source": [
    "Большая часть клиентов не имеет загранпаспорта"
   ]
  },
  {
   "cell_type": "markdown",
   "id": "trained-nature",
   "metadata": {
    "papermill": {
     "duration": 0.135255,
     "end_time": "2021-06-30T16:27:23.693633",
     "exception": false,
     "start_time": "2021-06-30T16:27:23.558378",
     "status": "completed"
    },
    "tags": []
   },
   "source": [
    "### Default"
   ]
  },
  {
   "cell_type": "code",
   "execution_count": 394,
   "id": "cellular-windsor",
   "metadata": {
    "execution": {
     "iopub.execute_input": "2021-06-30T16:27:23.981030Z",
     "iopub.status.busy": "2021-06-30T16:27:23.980372Z",
     "iopub.status.idle": "2021-06-30T16:27:24.090527Z",
     "shell.execute_reply": "2021-06-30T16:27:24.090036Z",
     "shell.execute_reply.started": "2021-06-30T16:21:49.396113Z"
    },
    "papermill": {
     "duration": 0.265149,
     "end_time": "2021-06-30T16:27:24.090652",
     "exception": false,
     "start_time": "2021-06-30T16:27:23.825503",
     "status": "completed"
    },
    "tags": []
   },
   "outputs": [
    {
     "data": {
      "text/plain": [
       "<AxesSubplot:xlabel='default', ylabel='Count'>"
      ]
     },
     "execution_count": 394,
     "metadata": {},
     "output_type": "execute_result"
    },
    {
     "data": {
      "image/png": "[encoded data removed]",
      "text/plain": [
       "<Figure size 432x288 with 1 Axes>"
      ]
     },
     "metadata": {
      "needs_background": "light"
     },
     "output_type": "display_data"
    }
   ],
   "source": [
    "# распределение\n",
    "sns.histplot(data = data, x = 'default')"
   ]
  },
  {
   "cell_type": "markdown",
   "id": "aquatic-gabriel",
   "metadata": {
    "papermill": {
     "duration": 0.135626,
     "end_time": "2021-06-30T16:27:24.360417",
     "exception": false,
     "start_time": "2021-06-30T16:27:24.224791",
     "status": "completed"
    },
    "tags": []
   },
   "source": [
    "Распределение в нашем наборе данных сильно смещено в сторону клиентов, у которых не было дефолта"
   ]
  },
  {
   "cell_type": "markdown",
   "id": "wrong-president",
   "metadata": {
    "papermill": {
     "duration": 0.135489,
     "end_time": "2021-06-30T16:27:24.634188",
     "exception": false,
     "start_time": "2021-06-30T16:27:24.498699",
     "status": "completed"
    },
    "tags": []
   },
   "source": [
    "## Feature importance"
   ]
  },
  {
   "cell_type": "code",
   "execution_count": 395,
   "id": "selective-poverty",
   "metadata": {
    "execution": {
     "iopub.execute_input": "2021-06-30T16:27:24.912049Z",
     "iopub.status.busy": "2021-06-30T16:27:24.911110Z",
     "iopub.status.idle": "2021-06-30T16:27:25.156724Z",
     "shell.execute_reply": "2021-06-30T16:27:25.157322Z",
     "shell.execute_reply.started": "2021-06-30T16:21:49.546802Z"
    },
    "papermill": {
     "duration": 0.387825,
     "end_time": "2021-06-30T16:27:25.157481",
     "exception": false,
     "start_time": "2021-06-30T16:27:24.769656",
     "status": "completed"
    },
    "tags": []
   },
   "outputs": [
    {
     "data": {
      "text/plain": [
       "<AxesSubplot:>"
      ]
     },
     "execution_count": 395,
     "metadata": {},
     "output_type": "execute_result"
    },
    {
     "data": {
      "image/png": "[encoded data removed]",
      "text/plain": [
       "<Figure size 432x288 with 2 Axes>"
      ]
     },
     "metadata": {
      "needs_background": "light"
     },
     "output_type": "display_data"
    }
   ],
   "source": [
    "# помотрим на матрицу корреляций\n",
    "data_train_temp = data[data['sample']==1]\n",
    "sns.heatmap(data_train_temp[num_cols].corr().abs(), vmin=0, vmax=1)"
   ]
  },
  {
   "cell_type": "code",
   "execution_count": 396,
   "id": "blessed-produce",
   "metadata": {
    "execution": {
     "iopub.execute_input": "2021-06-30T16:27:25.429553Z",
     "iopub.status.busy": "2021-06-30T16:27:25.428696Z",
     "iopub.status.idle": "2021-06-30T16:27:25.454451Z",
     "shell.execute_reply": "2021-06-30T16:27:25.453999Z",
     "shell.execute_reply.started": "2021-06-30T16:21:49.818483Z"
    },
    "papermill": {
     "duration": 0.166672,
     "end_time": "2021-06-30T16:27:25.454580",
     "exception": false,
     "start_time": "2021-06-30T16:27:25.287908",
     "status": "completed"
    },
    "tags": []
   },
   "outputs": [
    {
     "data": {
      "text/html": [
       "<div>\n",
       "<style scoped>\n",
       "    .dataframe tbody tr th:only-of-type {\n",
       "        vertical-align: middle;\n",
       "    }\n",
       "\n",
       "    .dataframe tbody tr th {\n",
       "        vertical-align: top;\n",
       "    }\n",
       "\n",
       "    .dataframe thead th {\n",
       "        text-align: right;\n",
       "    }\n",
       "</style>\n",
       "<table border=\"1\" class=\"dataframe\">\n",
       "  <thead>\n",
       "    <tr style=\"text-align: right;\">\n",
       "      <th></th>\n",
       "      <th>age</th>\n",
       "      <th>decline_app_cnt</th>\n",
       "      <th>score_bki</th>\n",
       "      <th>bki_request_cnt</th>\n",
       "      <th>income</th>\n",
       "      <th>app_date_timedelta</th>\n",
       "    </tr>\n",
       "  </thead>\n",
       "  <tbody>\n",
       "    <tr>\n",
       "      <th>decline_app_cnt</th>\n",
       "      <td>0.127734</td>\n",
       "      <td>1.000000</td>\n",
       "      <td>0.210090</td>\n",
       "      <td>0.125163</td>\n",
       "      <td>0.013868</td>\n",
       "      <td>0.022662</td>\n",
       "    </tr>\n",
       "    <tr>\n",
       "      <th>score_bki</th>\n",
       "      <td>0.109971</td>\n",
       "      <td>0.210090</td>\n",
       "      <td>1.000000</td>\n",
       "      <td>0.139622</td>\n",
       "      <td>0.002860</td>\n",
       "      <td>0.063605</td>\n",
       "    </tr>\n",
       "    <tr>\n",
       "      <th>age</th>\n",
       "      <td>1.000000</td>\n",
       "      <td>0.127734</td>\n",
       "      <td>0.109971</td>\n",
       "      <td>0.049327</td>\n",
       "      <td>0.092586</td>\n",
       "      <td>0.017071</td>\n",
       "    </tr>\n",
       "    <tr>\n",
       "      <th>bki_request_cnt</th>\n",
       "      <td>0.049327</td>\n",
       "      <td>0.125163</td>\n",
       "      <td>0.139622</td>\n",
       "      <td>1.000000</td>\n",
       "      <td>0.081019</td>\n",
       "      <td>0.009758</td>\n",
       "    </tr>\n",
       "    <tr>\n",
       "      <th>app_date_timedelta</th>\n",
       "      <td>0.017071</td>\n",
       "      <td>0.022662</td>\n",
       "      <td>0.063605</td>\n",
       "      <td>0.009758</td>\n",
       "      <td>0.005197</td>\n",
       "      <td>1.000000</td>\n",
       "    </tr>\n",
       "    <tr>\n",
       "      <th>income</th>\n",
       "      <td>0.092586</td>\n",
       "      <td>0.013868</td>\n",
       "      <td>0.002860</td>\n",
       "      <td>0.081019</td>\n",
       "      <td>1.000000</td>\n",
       "      <td>0.005197</td>\n",
       "    </tr>\n",
       "  </tbody>\n",
       "</table>\n",
       "</div>"
      ],
      "text/plain": [
       "                         age  decline_app_cnt  score_bki  bki_request_cnt  \\\n",
       "decline_app_cnt     0.127734         1.000000   0.210090         0.125163   \n",
       "score_bki           0.109971         0.210090   1.000000         0.139622   \n",
       "age                 1.000000         0.127734   0.109971         0.049327   \n",
       "bki_request_cnt     0.049327         0.125163   0.139622         1.000000   \n",
       "app_date_timedelta  0.017071         0.022662   0.063605         0.009758   \n",
       "income              0.092586         0.013868   0.002860         0.081019   \n",
       "\n",
       "                      income  app_date_timedelta  \n",
       "decline_app_cnt     0.013868            0.022662  \n",
       "score_bki           0.002860            0.063605  \n",
       "age                 0.092586            0.017071  \n",
       "bki_request_cnt     0.081019            0.009758  \n",
       "app_date_timedelta  0.005197            1.000000  \n",
       "income              1.000000            0.005197  "
      ]
     },
     "execution_count": 396,
     "metadata": {},
     "output_type": "execute_result"
    }
   ],
   "source": [
    "data_train_temp[num_cols].corr().abs().sort_values(by='decline_app_cnt', ascending=False)"
   ]
  },
  {
   "cell_type": "markdown",
   "id": "responsible-flood",
   "metadata": {
    "papermill": {
     "duration": 0.136884,
     "end_time": "2021-06-30T16:27:25.726600",
     "exception": false,
     "start_time": "2021-06-30T16:27:25.589716",
     "status": "completed"
    },
    "tags": []
   },
   "source": [
    "Между признаками нет особо сильной корреляции, кроме количества отклоненных заявок и показателем BKI. Да и там она не такая уж и большая"
   ]
  },
  {
   "cell_type": "code",
   "execution_count": 397,
   "id": "traditional-montreal",
   "metadata": {
    "execution": {
     "iopub.execute_input": "2021-06-30T16:27:25.999668Z",
     "iopub.status.busy": "2021-06-30T16:27:25.998904Z",
     "iopub.status.idle": "2021-06-30T16:27:26.941832Z",
     "shell.execute_reply": "2021-06-30T16:27:26.942356Z",
     "shell.execute_reply.started": "2021-06-30T16:21:49.849234Z"
    },
    "papermill": {
     "duration": 1.080942,
     "end_time": "2021-06-30T16:27:26.942506",
     "exception": false,
     "start_time": "2021-06-30T16:27:25.861564",
     "status": "completed"
    },
    "tags": []
   },
   "outputs": [
    {
     "data": {
      "image/png": "[encoded data removed]",
      "text/plain": [
       "<Figure size 1080x1080 with 6 Axes>"
      ]
     },
     "metadata": {
      "needs_background": "light"
     },
     "output_type": "display_data"
    }
   ],
   "source": [
    "# распределение\n",
    "fig, axes = plt.subplots(2, 3, figsize=(15, 15))\n",
    "axes = axes.flatten()\n",
    "for i in range(len(num_cols)):\n",
    "    sns.boxplot(x=\"default\", y=num_cols[i], data=data_train_temp, ax=axes[i])"
   ]
  },
  {
   "cell_type": "markdown",
   "id": "nominated-expert",
   "metadata": {
    "papermill": {
     "duration": 0.132925,
     "end_time": "2021-06-30T16:27:27.213359",
     "exception": false,
     "start_time": "2021-06-30T16:27:27.080434",
     "status": "completed"
    },
    "tags": []
   },
   "source": [
    "Дефолтные клиенты в среднем моложе и меньше зарабатывают, имеют больше заявок и отказов от банка, но при этом имеют более высокий рейтинг BKI."
   ]
  },
  {
   "cell_type": "code",
   "execution_count": 398,
   "id": "tutorial-south",
   "metadata": {
    "execution": {
     "iopub.execute_input": "2021-06-30T16:27:27.488096Z",
     "iopub.status.busy": "2021-06-30T16:27:27.487206Z",
     "iopub.status.idle": "2021-06-30T16:27:27.639089Z",
     "shell.execute_reply": "2021-06-30T16:27:27.639569Z",
     "shell.execute_reply.started": "2021-06-30T16:21:50.864780Z"
    },
    "papermill": {
     "duration": 0.291643,
     "end_time": "2021-06-30T16:27:27.639736",
     "exception": false,
     "start_time": "2021-06-30T16:27:27.348093",
     "status": "completed"
    },
    "tags": []
   },
   "outputs": [
    {
     "data": {
      "text/plain": [
       "<AxesSubplot:>"
      ]
     },
     "execution_count": 398,
     "metadata": {},
     "output_type": "execute_result"
    },
    {
     "data": {
      "image/png": "[encoded data removed]",
      "text/plain": [
       "<Figure size 432x288 with 1 Axes>"
      ]
     },
     "metadata": {
      "needs_background": "light"
     },
     "output_type": "display_data"
    }
   ],
   "source": [
    "# поищем наиболее важные признаки\n",
    "imp_num = Series(f_classif(data_train_temp[num_cols], \n",
    "                           data_train_temp['default'])[0], index = num_cols)\n",
    "imp_num.sort_values(inplace = True)\n",
    "imp_num.plot(kind = 'barh')"
   ]
  },
  {
   "cell_type": "code",
   "execution_count": 399,
   "id": "checked-sigma",
   "metadata": {
    "execution": {
     "iopub.execute_input": "2021-06-30T16:27:27.921714Z",
     "iopub.status.busy": "2021-06-30T16:27:27.920822Z",
     "iopub.status.idle": "2021-06-30T16:27:28.230755Z",
     "shell.execute_reply": "2021-06-30T16:27:28.230194Z",
     "shell.execute_reply.started": "2021-06-30T16:21:51.040947Z"
    },
    "papermill": {
     "duration": 0.453662,
     "end_time": "2021-06-30T16:27:28.230896",
     "exception": false,
     "start_time": "2021-06-30T16:27:27.777234",
     "status": "completed"
    },
    "tags": []
   },
   "outputs": [
    {
     "data": {
      "text/plain": [
       "<AxesSubplot:>"
      ]
     },
     "execution_count": 399,
     "metadata": {},
     "output_type": "execute_result"
    },
    {
     "data": {
      "image/png": "[encoded data removed]",
      "text/plain": [
       "<Figure size 432x288 with 1 Axes>"
      ]
     },
     "metadata": {
      "needs_background": "light"
     },
     "output_type": "display_data"
    }
   ],
   "source": [
    "# поищем наиболее важные признаки\n",
    "imp_cat = Series(mutual_info_classif(\n",
    "    data_train_temp[bin_cols + cat_cols], data_train_temp['default'], \n",
    "    discrete_features =True\n",
    "), index = bin_cols + cat_cols)\n",
    "\n",
    "imp_cat.sort_values(inplace = True)\n",
    "imp_cat.plot(kind = 'barh')"
   ]
  },
  {
   "cell_type": "markdown",
   "id": "continuing-lingerie",
   "metadata": {
    "papermill": {
     "duration": 0.141529,
     "end_time": "2021-06-30T16:27:28.511896",
     "exception": false,
     "start_time": "2021-06-30T16:27:28.370367",
     "status": "completed"
    },
    "tags": []
   },
   "source": [
    "Из числовых переменных наиболее важной является количество отказов и BKI-рейтинг. Из категорийных и бинарных наиболее важной является уровень связи с другими клиентами"
   ]
  },
  {
   "cell_type": "markdown",
   "id": "buried-operation",
   "metadata": {
    "papermill": {
     "duration": 0.141947,
     "end_time": "2021-06-30T16:27:28.793960",
     "exception": false,
     "start_time": "2021-06-30T16:27:28.652013",
     "status": "completed"
    },
    "tags": []
   },
   "source": [
    "# Data preprocessing"
   ]
  },
  {
   "cell_type": "markdown",
   "id": "subject-religious",
   "metadata": {
    "papermill": {
     "duration": 0.137664,
     "end_time": "2021-06-30T16:27:29.068221",
     "exception": false,
     "start_time": "2021-06-30T16:27:28.930557",
     "status": "completed"
    },
    "tags": []
   },
   "source": [
    "## Standardization"
   ]
  },
  {
   "cell_type": "code",
   "execution_count": 400,
   "id": "neural-easter",
   "metadata": {
    "execution": {
     "iopub.execute_input": "2021-06-30T16:27:29.349630Z",
     "iopub.status.busy": "2021-06-30T16:27:29.349029Z",
     "iopub.status.idle": "2021-06-30T16:27:29.378013Z",
     "shell.execute_reply": "2021-06-30T16:27:29.378526Z",
     "shell.execute_reply.started": "2021-06-30T16:21:51.384647Z"
    },
    "papermill": {
     "duration": 0.172665,
     "end_time": "2021-06-30T16:27:29.378693",
     "exception": false,
     "start_time": "2021-06-30T16:27:29.206028",
     "status": "completed"
    },
    "tags": []
   },
   "outputs": [],
   "source": [
    "# стандартизируем данные\n",
    "ss = StandardScaler()\n",
    "data[num_cols] = pd.DataFrame(ss.fit_transform(data[num_cols]),columns = data[num_cols].columns)"
   ]
  },
  {
   "cell_type": "code",
   "execution_count": 401,
   "id": "median-crest",
   "metadata": {
    "execution": {
     "iopub.execute_input": "2021-06-30T16:27:29.673426Z",
     "iopub.status.busy": "2021-06-30T16:27:29.672771Z",
     "iopub.status.idle": "2021-06-30T16:27:29.707002Z",
     "shell.execute_reply": "2021-06-30T16:27:29.707553Z",
     "shell.execute_reply.started": "2021-06-30T16:21:51.426924Z"
    },
    "papermill": {
     "duration": 0.181838,
     "end_time": "2021-06-30T16:27:29.707705",
     "exception": false,
     "start_time": "2021-06-30T16:27:29.525867",
     "status": "completed"
    },
    "tags": []
   },
   "outputs": [
    {
     "name": "stdout",
     "output_type": "stream",
     "text": [
      "<class 'pandas.core.frame.DataFrame'>\n",
      "RangeIndex: 110148 entries, 0 to 110147\n",
      "Data columns (total 22 columns):\n",
      " #   Column              Non-Null Count   Dtype         \n",
      "---  ------              --------------   -----         \n",
      " 0   client_id           110148 non-null  int64         \n",
      " 1   app_date            110148 non-null  datetime64[ns]\n",
      " 2   education           110148 non-null  int64         \n",
      " 3   sex                 110148 non-null  int32         \n",
      " 4   age                 110148 non-null  float64       \n",
      " 5   car                 110148 non-null  int32         \n",
      " 6   car_type            110148 non-null  int32         \n",
      " 7   decline_app_cnt     110148 non-null  float64       \n",
      " 8   good_work           110148 non-null  int64         \n",
      " 9   score_bki           110148 non-null  float64       \n",
      " 10  bki_request_cnt     110148 non-null  float64       \n",
      " 11  region_rating       110148 non-null  int64         \n",
      " 12  home_address        110148 non-null  int64         \n",
      " 13  work_address        110148 non-null  int64         \n",
      " 14  income              110148 non-null  float64       \n",
      " 15  sna                 110148 non-null  int64         \n",
      " 16  first_time          110148 non-null  int64         \n",
      " 17  foreign_passport    110148 non-null  int32         \n",
      " 18  default             73799 non-null   float64       \n",
      " 19  sample              110148 non-null  int64         \n",
      " 20  education_nan       110148 non-null  uint8         \n",
      " 21  app_date_timedelta  110148 non-null  float64       \n",
      "dtypes: datetime64[ns](1), float64(7), int32(4), int64(9), uint8(1)\n",
      "memory usage: 16.1 MB\n"
     ]
    },
    {
     "data": {
      "text/html": [
       "<div>\n",
       "<style scoped>\n",
       "    .dataframe tbody tr th:only-of-type {\n",
       "        vertical-align: middle;\n",
       "    }\n",
       "\n",
       "    .dataframe tbody tr th {\n",
       "        vertical-align: top;\n",
       "    }\n",
       "\n",
       "    .dataframe thead th {\n",
       "        text-align: right;\n",
       "    }\n",
       "</style>\n",
       "<table border=\"1\" class=\"dataframe\">\n",
       "  <thead>\n",
       "    <tr style=\"text-align: right;\">\n",
       "      <th></th>\n",
       "      <th>client_id</th>\n",
       "      <th>app_date</th>\n",
       "      <th>education</th>\n",
       "      <th>sex</th>\n",
       "      <th>age</th>\n",
       "      <th>car</th>\n",
       "      <th>car_type</th>\n",
       "      <th>decline_app_cnt</th>\n",
       "      <th>good_work</th>\n",
       "      <th>score_bki</th>\n",
       "      <th>bki_request_cnt</th>\n",
       "      <th>region_rating</th>\n",
       "      <th>home_address</th>\n",
       "      <th>work_address</th>\n",
       "      <th>income</th>\n",
       "      <th>sna</th>\n",
       "      <th>first_time</th>\n",
       "      <th>foreign_passport</th>\n",
       "      <th>default</th>\n",
       "      <th>sample</th>\n",
       "      <th>education_nan</th>\n",
       "      <th>app_date_timedelta</th>\n",
       "    </tr>\n",
       "  </thead>\n",
       "  <tbody>\n",
       "    <tr>\n",
       "      <th>0</th>\n",
       "      <td>25905</td>\n",
       "      <td>2014-02-01</td>\n",
       "      <td>1</td>\n",
       "      <td>1</td>\n",
       "      <td>1.714029</td>\n",
       "      <td>1</td>\n",
       "      <td>1</td>\n",
       "      <td>-0.418815</td>\n",
       "      <td>0</td>\n",
       "      <td>-0.208688</td>\n",
       "      <td>-0.281790</td>\n",
       "      <td>50</td>\n",
       "      <td>1</td>\n",
       "      <td>2</td>\n",
       "      <td>-0.786080</td>\n",
       "      <td>4</td>\n",
       "      <td>1</td>\n",
       "      <td>0</td>\n",
       "      <td>0.0</td>\n",
       "      <td>1</td>\n",
       "      <td>0</td>\n",
       "      <td>-0.934391</td>\n",
       "    </tr>\n",
       "    <tr>\n",
       "      <th>1</th>\n",
       "      <td>63161</td>\n",
       "      <td>2014-03-12</td>\n",
       "      <td>1</td>\n",
       "      <td>0</td>\n",
       "      <td>1.542867</td>\n",
       "      <td>0</td>\n",
       "      <td>0</td>\n",
       "      <td>-0.418815</td>\n",
       "      <td>0</td>\n",
       "      <td>0.745419</td>\n",
       "      <td>0.770563</td>\n",
       "      <td>50</td>\n",
       "      <td>2</td>\n",
       "      <td>3</td>\n",
       "      <td>-0.708472</td>\n",
       "      <td>4</td>\n",
       "      <td>1</td>\n",
       "      <td>0</td>\n",
       "      <td>0.0</td>\n",
       "      <td>1</td>\n",
       "      <td>0</td>\n",
       "      <td>0.281474</td>\n",
       "    </tr>\n",
       "    <tr>\n",
       "      <th>2</th>\n",
       "      <td>25887</td>\n",
       "      <td>2014-02-01</td>\n",
       "      <td>1</td>\n",
       "      <td>1</td>\n",
       "      <td>-1.390791</td>\n",
       "      <td>1</td>\n",
       "      <td>0</td>\n",
       "      <td>2.621662</td>\n",
       "      <td>0</td>\n",
       "      <td>0.993988</td>\n",
       "      <td>-0.281790</td>\n",
       "      <td>80</td>\n",
       "      <td>1</td>\n",
       "      <td>2</td>\n",
       "      <td>-0.052834</td>\n",
       "      <td>1</td>\n",
       "      <td>4</td>\n",
       "      <td>1</td>\n",
       "      <td>0.0</td>\n",
       "      <td>1</td>\n",
       "      <td>0</td>\n",
       "      <td>-0.934391</td>\n",
       "    </tr>\n",
       "    <tr>\n",
       "      <th>3</th>\n",
       "      <td>16222</td>\n",
       "      <td>2014-01-23</td>\n",
       "      <td>1</td>\n",
       "      <td>0</td>\n",
       "      <td>1.173250</td>\n",
       "      <td>0</td>\n",
       "      <td>0</td>\n",
       "      <td>-0.418815</td>\n",
       "      <td>0</td>\n",
       "      <td>-0.306243</td>\n",
       "      <td>0.333797</td>\n",
       "      <td>50</td>\n",
       "      <td>2</td>\n",
       "      <td>3</td>\n",
       "      <td>-1.629771</td>\n",
       "      <td>1</td>\n",
       "      <td>3</td>\n",
       "      <td>0</td>\n",
       "      <td>0.0</td>\n",
       "      <td>1</td>\n",
       "      <td>0</td>\n",
       "      <td>-1.214975</td>\n",
       "    </tr>\n",
       "    <tr>\n",
       "      <th>4</th>\n",
       "      <td>101655</td>\n",
       "      <td>2014-04-18</td>\n",
       "      <td>2</td>\n",
       "      <td>1</td>\n",
       "      <td>0.832388</td>\n",
       "      <td>0</td>\n",
       "      <td>0</td>\n",
       "      <td>-0.418815</td>\n",
       "      <td>1</td>\n",
       "      <td>1.321223</td>\n",
       "      <td>-0.281790</td>\n",
       "      <td>60</td>\n",
       "      <td>2</td>\n",
       "      <td>3</td>\n",
       "      <td>-0.052834</td>\n",
       "      <td>1</td>\n",
       "      <td>4</td>\n",
       "      <td>1</td>\n",
       "      <td>0.0</td>\n",
       "      <td>1</td>\n",
       "      <td>0</td>\n",
       "      <td>1.434987</td>\n",
       "    </tr>\n",
       "  </tbody>\n",
       "</table>\n",
       "</div>"
      ],
      "text/plain": [
       "   client_id   app_date  education  sex       age  car  car_type  \\\n",
       "0      25905 2014-02-01          1    1  1.714029    1         1   \n",
       "1      63161 2014-03-12          1    0  1.542867    0         0   \n",
       "2      25887 2014-02-01          1    1 -1.390791    1         0   \n",
       "3      16222 2014-01-23          1    0  1.173250    0         0   \n",
       "4     101655 2014-04-18          2    1  0.832388    0         0   \n",
       "\n",
       "   decline_app_cnt  good_work  score_bki  bki_request_cnt  region_rating  \\\n",
       "0        -0.418815          0  -0.208688        -0.281790             50   \n",
       "1        -0.418815          0   0.745419         0.770563             50   \n",
       "2         2.621662          0   0.993988        -0.281790             80   \n",
       "3        -0.418815          0  -0.306243         0.333797             50   \n",
       "4        -0.418815          1   1.321223        -0.281790             60   \n",
       "\n",
       "   home_address  work_address    income  sna  first_time  foreign_passport  \\\n",
       "0             1             2 -0.786080    4           1                 0   \n",
       "1             2             3 -0.708472    4           1                 0   \n",
       "2             1             2 -0.052834    1           4                 1   \n",
       "3             2             3 -1.629771    1           3                 0   \n",
       "4             2             3 -0.052834    1           4                 1   \n",
       "\n",
       "   default  sample  education_nan  app_date_timedelta  \n",
       "0      0.0       1              0           -0.934391  \n",
       "1      0.0       1              0            0.281474  \n",
       "2      0.0       1              0           -0.934391  \n",
       "3      0.0       1              0           -1.214975  \n",
       "4      0.0       1              0            1.434987  "
      ]
     },
     "execution_count": 401,
     "metadata": {},
     "output_type": "execute_result"
    }
   ],
   "source": [
    "# посмотрим на данные\n",
    "data.info()\n",
    "data.head(5)"
   ]
  },
  {
   "cell_type": "markdown",
   "id": "continuous-childhood",
   "metadata": {
    "papermill": {
     "duration": 0.141146,
     "end_time": "2021-06-30T16:27:29.990141",
     "exception": false,
     "start_time": "2021-06-30T16:27:29.848995",
     "status": "completed"
    },
    "tags": []
   },
   "source": [
    "## Используем RandomForestRegressor чтобы заполнить пропущенные значения в признаке education"
   ]
  },
  {
   "cell_type": "code",
   "execution_count": 402,
   "id": "appreciated-embassy",
   "metadata": {
    "execution": {
     "iopub.execute_input": "2021-06-30T16:27:30.275566Z",
     "iopub.status.busy": "2021-06-30T16:27:30.274913Z",
     "iopub.status.idle": "2021-06-30T16:27:47.034809Z",
     "shell.execute_reply": "2021-06-30T16:27:47.034313Z",
     "shell.execute_reply.started": "2021-06-30T16:21:51.466952Z"
    },
    "papermill": {
     "duration": 16.903335,
     "end_time": "2021-06-30T16:27:47.034962",
     "exception": false,
     "start_time": "2021-06-30T16:27:30.131627",
     "status": "completed"
    },
    "tags": []
   },
   "outputs": [
    {
     "name": "stderr",
     "output_type": "stream",
     "text": [
      "[Parallel(n_jobs=-1)]: Using backend ThreadingBackend with 12 concurrent workers.\n",
      "[Parallel(n_jobs=-1)]: Done  26 tasks      | elapsed:    1.7s\n",
      "[Parallel(n_jobs=-1)]: Done 100 out of 100 | elapsed:    5.3s finished\n",
      "[Parallel(n_jobs=12)]: Using backend ThreadingBackend with 12 concurrent workers.\n",
      "[Parallel(n_jobs=12)]: Done  26 tasks      | elapsed:    0.0s\n",
      "[Parallel(n_jobs=12)]: Done 100 out of 100 | elapsed:    0.0s finished\n"
     ]
    }
   ],
   "source": [
    "# подготовка данных и обучение модели\n",
    "data_temp = data.drop(['sample', 'client_id', 'app_date', 'default'], axis=1)\n",
    "data_education_nan = data_temp[data_temp['education_nan']==1]\n",
    "data_no_nan = data_temp[data_temp['education_nan']==0]\n",
    "y = data_no_nan['education'].values\n",
    "X = data_no_nan.drop(['education'], axis=1)\n",
    "X_train, X_test, y_train, y_test = train_test_split(X, y, test_size=0.2, random_state = random_seed)\n",
    "model = RandomForestRegressor(n_estimators=100, verbose=1, n_jobs=-1, random_state = random_seed)\n",
    "model.fit(X_train, y_train)\n",
    "y_pred = np.round(model.predict(X_test))"
   ]
  },
  {
   "cell_type": "code",
   "execution_count": 403,
   "id": "turkish-royal",
   "metadata": {
    "execution": {
     "iopub.execute_input": "2021-06-30T16:27:47.330171Z",
     "iopub.status.busy": "2021-06-30T16:27:47.329519Z",
     "iopub.status.idle": "2021-06-30T16:27:47.436667Z",
     "shell.execute_reply": "2021-06-30T16:27:47.435834Z",
     "shell.execute_reply.started": "2021-06-30T16:22:09.447028Z"
    },
    "papermill": {
     "duration": 0.258912,
     "end_time": "2021-06-30T16:27:47.436878",
     "exception": false,
     "start_time": "2021-06-30T16:27:47.177966",
     "status": "completed"
    },
    "tags": []
   },
   "outputs": [
    {
     "name": "stderr",
     "output_type": "stream",
     "text": [
      "[Parallel(n_jobs=12)]: Using backend ThreadingBackend with 12 concurrent workers.\n",
      "[Parallel(n_jobs=12)]: Done  26 tasks      | elapsed:    0.0s\n",
      "[Parallel(n_jobs=12)]: Done 100 out of 100 | elapsed:    0.0s finished\n"
     ]
    }
   ],
   "source": [
    "# предсказание значений\n",
    "predict = np.round(model.predict(data_education_nan.drop(['education'], axis=1)))"
   ]
  },
  {
   "cell_type": "code",
   "execution_count": 404,
   "id": "greater-microphone",
   "metadata": {
    "execution": {
     "iopub.execute_input": "2021-06-30T16:27:47.742742Z",
     "iopub.status.busy": "2021-06-30T16:27:47.742088Z",
     "iopub.status.idle": "2021-06-30T16:27:47.753788Z",
     "shell.execute_reply": "2021-06-30T16:27:47.753266Z",
     "shell.execute_reply.started": "2021-06-30T16:22:09.561415Z"
    },
    "papermill": {
     "duration": 0.166494,
     "end_time": "2021-06-30T16:27:47.753944",
     "exception": false,
     "start_time": "2021-06-30T16:27:47.587450",
     "status": "completed"
    },
    "tags": []
   },
   "outputs": [],
   "source": [
    "# добавление предсказанных значений в датасет\n",
    "index_education_nan = data[data['education_nan']==1].index\n",
    "data.loc[index_education_nan,'education'] = predict"
   ]
  },
  {
   "cell_type": "markdown",
   "id": "5c7ed5d3",
   "metadata": {
    "papermill": {
     "duration": 0.148306,
     "end_time": "2021-06-30T16:27:48.050577",
     "exception": false,
     "start_time": "2021-06-30T16:27:47.902271",
     "status": "completed"
    },
    "tags": []
   },
   "source": [
    "## One-hot encoding"
   ]
  },
  {
   "cell_type": "code",
   "execution_count": 405,
   "id": "soviet-accordance",
   "metadata": {
    "execution": {
     "iopub.execute_input": "2021-06-30T16:27:48.350010Z",
     "iopub.status.busy": "2021-06-30T16:27:48.349013Z",
     "iopub.status.idle": "2021-06-30T16:27:48.443537Z",
     "shell.execute_reply": "2021-06-30T16:27:48.444464Z",
     "shell.execute_reply.started": "2021-06-30T16:22:09.581734Z"
    },
    "papermill": {
     "duration": 0.248165,
     "end_time": "2021-06-30T16:27:48.444817",
     "exception": false,
     "start_time": "2021-06-30T16:27:48.196652",
     "status": "completed"
    },
    "tags": []
   },
   "outputs": [
    {
     "name": "stdout",
     "output_type": "stream",
     "text": [
      "<class 'pandas.core.frame.DataFrame'>\n",
      "RangeIndex: 110148 entries, 0 to 110147\n",
      "Data columns (total 42 columns):\n",
      " #   Column              Non-Null Count   Dtype         \n",
      "---  ------              --------------   -----         \n",
      " 0   client_id           110148 non-null  int64         \n",
      " 1   app_date            110148 non-null  datetime64[ns]\n",
      " 2   sex                 110148 non-null  int32         \n",
      " 3   age                 110148 non-null  float64       \n",
      " 4   car                 110148 non-null  int32         \n",
      " 5   car_type            110148 non-null  int32         \n",
      " 6   decline_app_cnt     110148 non-null  float64       \n",
      " 7   good_work           110148 non-null  int64         \n",
      " 8   score_bki           110148 non-null  float64       \n",
      " 9   bki_request_cnt     110148 non-null  float64       \n",
      " 10  income              110148 non-null  float64       \n",
      " 11  foreign_passport    110148 non-null  int32         \n",
      " 12  default             73799 non-null   float64       \n",
      " 13  sample              110148 non-null  int64         \n",
      " 14  education_nan       110148 non-null  uint8         \n",
      " 15  app_date_timedelta  110148 non-null  float64       \n",
      " 16  education_1.0       110148 non-null  uint8         \n",
      " 17  education_2.0       110148 non-null  uint8         \n",
      " 18  education_3.0       110148 non-null  uint8         \n",
      " 19  education_4.0       110148 non-null  uint8         \n",
      " 20  education_5.0       110148 non-null  uint8         \n",
      " 21  region_rating_20    110148 non-null  uint8         \n",
      " 22  region_rating_30    110148 non-null  uint8         \n",
      " 23  region_rating_40    110148 non-null  uint8         \n",
      " 24  region_rating_50    110148 non-null  uint8         \n",
      " 25  region_rating_60    110148 non-null  uint8         \n",
      " 26  region_rating_70    110148 non-null  uint8         \n",
      " 27  region_rating_80    110148 non-null  uint8         \n",
      " 28  home_address_1      110148 non-null  uint8         \n",
      " 29  home_address_2      110148 non-null  uint8         \n",
      " 30  home_address_3      110148 non-null  uint8         \n",
      " 31  work_address_1      110148 non-null  uint8         \n",
      " 32  work_address_2      110148 non-null  uint8         \n",
      " 33  work_address_3      110148 non-null  uint8         \n",
      " 34  sna_1               110148 non-null  uint8         \n",
      " 35  sna_2               110148 non-null  uint8         \n",
      " 36  sna_3               110148 non-null  uint8         \n",
      " 37  sna_4               110148 non-null  uint8         \n",
      " 38  first_time_1        110148 non-null  uint8         \n",
      " 39  first_time_2        110148 non-null  uint8         \n",
      " 40  first_time_3        110148 non-null  uint8         \n",
      " 41  first_time_4        110148 non-null  uint8         \n",
      "dtypes: datetime64[ns](1), float64(7), int32(4), int64(3), uint8(27)\n",
      "memory usage: 13.8 MB\n"
     ]
    }
   ],
   "source": [
    "# перекодируем в dummy-переменные\n",
    "data = pd.get_dummies(data, prefix=cat_cols, columns=cat_cols)\n",
    "data.info()"
   ]
  },
  {
   "cell_type": "code",
   "execution_count": 406,
   "id": "weird-suspension",
   "metadata": {
    "execution": {
     "iopub.execute_input": "2021-06-30T16:27:48.746780Z",
     "iopub.status.busy": "2021-06-30T16:27:48.746198Z",
     "iopub.status.idle": "2021-06-30T16:27:48.772886Z",
     "shell.execute_reply": "2021-06-30T16:27:48.773372Z",
     "shell.execute_reply.started": "2021-06-30T16:22:09.663025Z"
    },
    "papermill": {
     "duration": 0.179912,
     "end_time": "2021-06-30T16:27:48.773539",
     "exception": false,
     "start_time": "2021-06-30T16:27:48.593627",
     "status": "completed"
    },
    "tags": []
   },
   "outputs": [
    {
     "data": {
      "text/html": [
       "<div>\n",
       "<style scoped>\n",
       "    .dataframe tbody tr th:only-of-type {\n",
       "        vertical-align: middle;\n",
       "    }\n",
       "\n",
       "    .dataframe tbody tr th {\n",
       "        vertical-align: top;\n",
       "    }\n",
       "\n",
       "    .dataframe thead th {\n",
       "        text-align: right;\n",
       "    }\n",
       "</style>\n",
       "<table border=\"1\" class=\"dataframe\">\n",
       "  <thead>\n",
       "    <tr style=\"text-align: right;\">\n",
       "      <th></th>\n",
       "      <th>client_id</th>\n",
       "      <th>app_date</th>\n",
       "      <th>sex</th>\n",
       "      <th>age</th>\n",
       "      <th>car</th>\n",
       "      <th>car_type</th>\n",
       "      <th>decline_app_cnt</th>\n",
       "      <th>good_work</th>\n",
       "      <th>score_bki</th>\n",
       "      <th>bki_request_cnt</th>\n",
       "      <th>income</th>\n",
       "      <th>foreign_passport</th>\n",
       "      <th>default</th>\n",
       "      <th>sample</th>\n",
       "      <th>education_nan</th>\n",
       "      <th>app_date_timedelta</th>\n",
       "      <th>education_1.0</th>\n",
       "      <th>education_2.0</th>\n",
       "      <th>education_3.0</th>\n",
       "      <th>education_4.0</th>\n",
       "      <th>education_5.0</th>\n",
       "      <th>region_rating_20</th>\n",
       "      <th>region_rating_30</th>\n",
       "      <th>region_rating_40</th>\n",
       "      <th>region_rating_50</th>\n",
       "      <th>region_rating_60</th>\n",
       "      <th>region_rating_70</th>\n",
       "      <th>region_rating_80</th>\n",
       "      <th>home_address_1</th>\n",
       "      <th>home_address_2</th>\n",
       "      <th>home_address_3</th>\n",
       "      <th>work_address_1</th>\n",
       "      <th>work_address_2</th>\n",
       "      <th>work_address_3</th>\n",
       "      <th>sna_1</th>\n",
       "      <th>sna_2</th>\n",
       "      <th>sna_3</th>\n",
       "      <th>sna_4</th>\n",
       "      <th>first_time_1</th>\n",
       "      <th>first_time_2</th>\n",
       "      <th>first_time_3</th>\n",
       "      <th>first_time_4</th>\n",
       "    </tr>\n",
       "  </thead>\n",
       "  <tbody>\n",
       "    <tr>\n",
       "      <th>0</th>\n",
       "      <td>25905</td>\n",
       "      <td>2014-02-01</td>\n",
       "      <td>1</td>\n",
       "      <td>1.714029</td>\n",
       "      <td>1</td>\n",
       "      <td>1</td>\n",
       "      <td>-0.418815</td>\n",
       "      <td>0</td>\n",
       "      <td>-0.208688</td>\n",
       "      <td>-0.281790</td>\n",
       "      <td>-0.786080</td>\n",
       "      <td>0</td>\n",
       "      <td>0.0</td>\n",
       "      <td>1</td>\n",
       "      <td>0</td>\n",
       "      <td>-0.934391</td>\n",
       "      <td>1</td>\n",
       "      <td>0</td>\n",
       "      <td>0</td>\n",
       "      <td>0</td>\n",
       "      <td>0</td>\n",
       "      <td>0</td>\n",
       "      <td>0</td>\n",
       "      <td>0</td>\n",
       "      <td>1</td>\n",
       "      <td>0</td>\n",
       "      <td>0</td>\n",
       "      <td>0</td>\n",
       "      <td>1</td>\n",
       "      <td>0</td>\n",
       "      <td>0</td>\n",
       "      <td>0</td>\n",
       "      <td>1</td>\n",
       "      <td>0</td>\n",
       "      <td>0</td>\n",
       "      <td>0</td>\n",
       "      <td>0</td>\n",
       "      <td>1</td>\n",
       "      <td>1</td>\n",
       "      <td>0</td>\n",
       "      <td>0</td>\n",
       "      <td>0</td>\n",
       "    </tr>\n",
       "    <tr>\n",
       "      <th>1</th>\n",
       "      <td>63161</td>\n",
       "      <td>2014-03-12</td>\n",
       "      <td>0</td>\n",
       "      <td>1.542867</td>\n",
       "      <td>0</td>\n",
       "      <td>0</td>\n",
       "      <td>-0.418815</td>\n",
       "      <td>0</td>\n",
       "      <td>0.745419</td>\n",
       "      <td>0.770563</td>\n",
       "      <td>-0.708472</td>\n",
       "      <td>0</td>\n",
       "      <td>0.0</td>\n",
       "      <td>1</td>\n",
       "      <td>0</td>\n",
       "      <td>0.281474</td>\n",
       "      <td>1</td>\n",
       "      <td>0</td>\n",
       "      <td>0</td>\n",
       "      <td>0</td>\n",
       "      <td>0</td>\n",
       "      <td>0</td>\n",
       "      <td>0</td>\n",
       "      <td>0</td>\n",
       "      <td>1</td>\n",
       "      <td>0</td>\n",
       "      <td>0</td>\n",
       "      <td>0</td>\n",
       "      <td>0</td>\n",
       "      <td>1</td>\n",
       "      <td>0</td>\n",
       "      <td>0</td>\n",
       "      <td>0</td>\n",
       "      <td>1</td>\n",
       "      <td>0</td>\n",
       "      <td>0</td>\n",
       "      <td>0</td>\n",
       "      <td>1</td>\n",
       "      <td>1</td>\n",
       "      <td>0</td>\n",
       "      <td>0</td>\n",
       "      <td>0</td>\n",
       "    </tr>\n",
       "    <tr>\n",
       "      <th>2</th>\n",
       "      <td>25887</td>\n",
       "      <td>2014-02-01</td>\n",
       "      <td>1</td>\n",
       "      <td>-1.390791</td>\n",
       "      <td>1</td>\n",
       "      <td>0</td>\n",
       "      <td>2.621662</td>\n",
       "      <td>0</td>\n",
       "      <td>0.993988</td>\n",
       "      <td>-0.281790</td>\n",
       "      <td>-0.052834</td>\n",
       "      <td>1</td>\n",
       "      <td>0.0</td>\n",
       "      <td>1</td>\n",
       "      <td>0</td>\n",
       "      <td>-0.934391</td>\n",
       "      <td>1</td>\n",
       "      <td>0</td>\n",
       "      <td>0</td>\n",
       "      <td>0</td>\n",
       "      <td>0</td>\n",
       "      <td>0</td>\n",
       "      <td>0</td>\n",
       "      <td>0</td>\n",
       "      <td>0</td>\n",
       "      <td>0</td>\n",
       "      <td>0</td>\n",
       "      <td>1</td>\n",
       "      <td>1</td>\n",
       "      <td>0</td>\n",
       "      <td>0</td>\n",
       "      <td>0</td>\n",
       "      <td>1</td>\n",
       "      <td>0</td>\n",
       "      <td>1</td>\n",
       "      <td>0</td>\n",
       "      <td>0</td>\n",
       "      <td>0</td>\n",
       "      <td>0</td>\n",
       "      <td>0</td>\n",
       "      <td>0</td>\n",
       "      <td>1</td>\n",
       "    </tr>\n",
       "    <tr>\n",
       "      <th>3</th>\n",
       "      <td>16222</td>\n",
       "      <td>2014-01-23</td>\n",
       "      <td>0</td>\n",
       "      <td>1.173250</td>\n",
       "      <td>0</td>\n",
       "      <td>0</td>\n",
       "      <td>-0.418815</td>\n",
       "      <td>0</td>\n",
       "      <td>-0.306243</td>\n",
       "      <td>0.333797</td>\n",
       "      <td>-1.629771</td>\n",
       "      <td>0</td>\n",
       "      <td>0.0</td>\n",
       "      <td>1</td>\n",
       "      <td>0</td>\n",
       "      <td>-1.214975</td>\n",
       "      <td>1</td>\n",
       "      <td>0</td>\n",
       "      <td>0</td>\n",
       "      <td>0</td>\n",
       "      <td>0</td>\n",
       "      <td>0</td>\n",
       "      <td>0</td>\n",
       "      <td>0</td>\n",
       "      <td>1</td>\n",
       "      <td>0</td>\n",
       "      <td>0</td>\n",
       "      <td>0</td>\n",
       "      <td>0</td>\n",
       "      <td>1</td>\n",
       "      <td>0</td>\n",
       "      <td>0</td>\n",
       "      <td>0</td>\n",
       "      <td>1</td>\n",
       "      <td>1</td>\n",
       "      <td>0</td>\n",
       "      <td>0</td>\n",
       "      <td>0</td>\n",
       "      <td>0</td>\n",
       "      <td>0</td>\n",
       "      <td>1</td>\n",
       "      <td>0</td>\n",
       "    </tr>\n",
       "    <tr>\n",
       "      <th>4</th>\n",
       "      <td>101655</td>\n",
       "      <td>2014-04-18</td>\n",
       "      <td>1</td>\n",
       "      <td>0.832388</td>\n",
       "      <td>0</td>\n",
       "      <td>0</td>\n",
       "      <td>-0.418815</td>\n",
       "      <td>1</td>\n",
       "      <td>1.321223</td>\n",
       "      <td>-0.281790</td>\n",
       "      <td>-0.052834</td>\n",
       "      <td>1</td>\n",
       "      <td>0.0</td>\n",
       "      <td>1</td>\n",
       "      <td>0</td>\n",
       "      <td>1.434987</td>\n",
       "      <td>0</td>\n",
       "      <td>1</td>\n",
       "      <td>0</td>\n",
       "      <td>0</td>\n",
       "      <td>0</td>\n",
       "      <td>0</td>\n",
       "      <td>0</td>\n",
       "      <td>0</td>\n",
       "      <td>0</td>\n",
       "      <td>1</td>\n",
       "      <td>0</td>\n",
       "      <td>0</td>\n",
       "      <td>0</td>\n",
       "      <td>1</td>\n",
       "      <td>0</td>\n",
       "      <td>0</td>\n",
       "      <td>0</td>\n",
       "      <td>1</td>\n",
       "      <td>1</td>\n",
       "      <td>0</td>\n",
       "      <td>0</td>\n",
       "      <td>0</td>\n",
       "      <td>0</td>\n",
       "      <td>0</td>\n",
       "      <td>0</td>\n",
       "      <td>1</td>\n",
       "    </tr>\n",
       "  </tbody>\n",
       "</table>\n",
       "</div>"
      ],
      "text/plain": [
       "   client_id   app_date  sex       age  car  car_type  decline_app_cnt  \\\n",
       "0      25905 2014-02-01    1  1.714029    1         1        -0.418815   \n",
       "1      63161 2014-03-12    0  1.542867    0         0        -0.418815   \n",
       "2      25887 2014-02-01    1 -1.390791    1         0         2.621662   \n",
       "3      16222 2014-01-23    0  1.173250    0         0        -0.418815   \n",
       "4     101655 2014-04-18    1  0.832388    0         0        -0.418815   \n",
       "\n",
       "   good_work  score_bki  bki_request_cnt    income  foreign_passport  default  \\\n",
       "0          0  -0.208688        -0.281790 -0.786080                 0      0.0   \n",
       "1          0   0.745419         0.770563 -0.708472                 0      0.0   \n",
       "2          0   0.993988        -0.281790 -0.052834                 1      0.0   \n",
       "3          0  -0.306243         0.333797 -1.629771                 0      0.0   \n",
       "4          1   1.321223        -0.281790 -0.052834                 1      0.0   \n",
       "\n",
       "   sample  education_nan  app_date_timedelta  education_1.0  education_2.0  \\\n",
       "0       1              0           -0.934391              1              0   \n",
       "1       1              0            0.281474              1              0   \n",
       "2       1              0           -0.934391              1              0   \n",
       "3       1              0           -1.214975              1              0   \n",
       "4       1              0            1.434987              0              1   \n",
       "\n",
       "   education_3.0  education_4.0  education_5.0  region_rating_20  \\\n",
       "0              0              0              0                 0   \n",
       "1              0              0              0                 0   \n",
       "2              0              0              0                 0   \n",
       "3              0              0              0                 0   \n",
       "4              0              0              0                 0   \n",
       "\n",
       "   region_rating_30  region_rating_40  region_rating_50  region_rating_60  \\\n",
       "0                 0                 0                 1                 0   \n",
       "1                 0                 0                 1                 0   \n",
       "2                 0                 0                 0                 0   \n",
       "3                 0                 0                 1                 0   \n",
       "4                 0                 0                 0                 1   \n",
       "\n",
       "   region_rating_70  region_rating_80  home_address_1  home_address_2  \\\n",
       "0                 0                 0               1               0   \n",
       "1                 0                 0               0               1   \n",
       "2                 0                 1               1               0   \n",
       "3                 0                 0               0               1   \n",
       "4                 0                 0               0               1   \n",
       "\n",
       "   home_address_3  work_address_1  work_address_2  work_address_3  sna_1  \\\n",
       "0               0               0               1               0      0   \n",
       "1               0               0               0               1      0   \n",
       "2               0               0               1               0      1   \n",
       "3               0               0               0               1      1   \n",
       "4               0               0               0               1      1   \n",
       "\n",
       "   sna_2  sna_3  sna_4  first_time_1  first_time_2  first_time_3  first_time_4  \n",
       "0      0      0      1             1             0             0             0  \n",
       "1      0      0      1             1             0             0             0  \n",
       "2      0      0      0             0             0             0             1  \n",
       "3      0      0      0             0             0             1             0  \n",
       "4      0      0      0             0             0             0             1  "
      ]
     },
     "execution_count": 406,
     "metadata": {},
     "output_type": "execute_result"
    }
   ],
   "source": [
    "# посмотрим на данные\n",
    "data.head()"
   ]
  },
  {
   "cell_type": "markdown",
   "id": "hispanic-confusion",
   "metadata": {
    "papermill": {
     "duration": 0.145674,
     "end_time": "2021-06-30T16:27:49.068343",
     "exception": false,
     "start_time": "2021-06-30T16:27:48.922669",
     "status": "completed"
    },
    "tags": []
   },
   "source": [
    "# Model"
   ]
  },
  {
   "cell_type": "code",
   "execution_count": 407,
   "id": "fossil-waste",
   "metadata": {
    "execution": {
     "iopub.execute_input": "2021-06-30T16:27:49.352740Z",
     "iopub.status.busy": "2021-06-30T16:27:49.352118Z",
     "iopub.status.idle": "2021-06-30T16:27:49.400051Z",
     "shell.execute_reply": "2021-06-30T16:27:49.400513Z",
     "shell.execute_reply.started": "2021-06-30T16:22:09.701153Z"
    },
    "papermill": {
     "duration": 0.192143,
     "end_time": "2021-06-30T16:27:49.400721",
     "exception": false,
     "start_time": "2021-06-30T16:27:49.208578",
     "status": "completed"
    },
    "tags": []
   },
   "outputs": [],
   "source": [
    "# разделим датасет\n",
    "data_train = data.query('sample == 1').drop(['sample', 'client_id', 'app_date'], axis=1)\n",
    "data_test = data.query('sample == 0').drop(['sample', 'client_id', 'app_date'], axis=1)"
   ]
  },
  {
   "cell_type": "code",
   "execution_count": 408,
   "id": "favorite-morrison",
   "metadata": {
    "execution": {
     "iopub.execute_input": "2021-06-30T16:27:49.696768Z",
     "iopub.status.busy": "2021-06-30T16:27:49.696166Z",
     "iopub.status.idle": "2021-06-30T16:27:50.885792Z",
     "shell.execute_reply": "2021-06-30T16:27:50.886678Z",
     "shell.execute_reply.started": "2021-06-30T16:22:09.760177Z"
    },
    "papermill": {
     "duration": 1.338877,
     "end_time": "2021-06-30T16:27:50.886931",
     "exception": false,
     "start_time": "2021-06-30T16:27:49.548054",
     "status": "completed"
    },
    "tags": []
   },
   "outputs": [
    {
     "name": "stderr",
     "output_type": "stream",
     "text": [
      "C:\\Users\\rebvj\\anaconda3\\lib\\site-packages\\sklearn\\linear_model\\_logistic.py:763: ConvergenceWarning: lbfgs failed to converge (status=1):\n",
      "STOP: TOTAL NO. of ITERATIONS REACHED LIMIT.\n",
      "\n",
      "Increase the number of iterations (max_iter) or scale the data as shown in:\n",
      "    https://scikit-learn.org/stable/modules/preprocessing.html\n",
      "Please also refer to the documentation for alternative solver options:\n",
      "    https://scikit-learn.org/stable/modules/linear_model.html#logistic-regression\n",
      "  n_iter_i = _check_optimize_result(\n"
     ]
    }
   ],
   "source": [
    "# тренировка и приедсказание\n",
    "X = data_train.drop(['default'], axis=1)\n",
    "y = data_train['default'].values\n",
    "\n",
    "X_train, X_test, y_train, y_test = train_test_split(X, y, test_size=0.20, random_state=random_seed)\n",
    "\n",
    "model = LogisticRegression()\n",
    "model.fit(X_train, y_train)\n",
    "\n",
    "y_pred_prob = model.predict_proba(X_test)[:,1]\n",
    "y_pred = model.predict(X_test)"
   ]
  },
  {
   "cell_type": "markdown",
   "id": "intended-founder",
   "metadata": {
    "papermill": {
     "duration": 0.145369,
     "end_time": "2021-06-30T16:27:51.228047",
     "exception": false,
     "start_time": "2021-06-30T16:27:51.082678",
     "status": "completed"
    },
    "tags": []
   },
   "source": [
    "# Оценка модели"
   ]
  },
  {
   "cell_type": "code",
   "execution_count": 409,
   "id": "placed-comparison",
   "metadata": {
    "execution": {
     "iopub.execute_input": "2021-06-30T16:27:51.533774Z",
     "iopub.status.busy": "2021-06-30T16:27:51.532619Z",
     "iopub.status.idle": "2021-06-30T16:27:51.745071Z",
     "shell.execute_reply": "2021-06-30T16:27:51.744445Z",
     "shell.execute_reply.started": "2021-06-30T16:22:11.171394Z"
    },
    "papermill": {
     "duration": 0.368546,
     "end_time": "2021-06-30T16:27:51.745211",
     "exception": false,
     "start_time": "2021-06-30T16:27:51.376665",
     "status": "completed"
    },
    "tags": []
   },
   "outputs": [
    {
     "data": {
      "image/png": "[encoded data removed]",
      "text/plain": [
       "<Figure size 432x288 with 1 Axes>"
      ]
     },
     "metadata": {
      "needs_background": "light"
     },
     "output_type": "display_data"
    }
   ],
   "source": [
    "# построим кривую ROC-показателя\n",
    "probs = model.predict_proba(X_test)\n",
    "probs = probs[:,1]\n",
    "\n",
    "fpr, tpr, threshold = roc_curve(y_test, probs)\n",
    "roc_auc = roc_auc_score(y_test, probs)\n",
    "\n",
    "plt.figure()\n",
    "plt.plot([0, 1], label='Baseline', linestyle='--')\n",
    "plt.plot(fpr, tpr, label = 'Regression')\n",
    "plt.title('Logistic Regression ROC AUC = %0.3f' % roc_auc)\n",
    "plt.ylabel('True Positive Rate')\n",
    "plt.xlabel('False Positive Rate')\n",
    "plt.legend(loc = 'lower right')\n",
    "plt.show()"
   ]
  },
  {
   "cell_type": "code",
   "execution_count": 410,
   "id": "secret-insured",
   "metadata": {
    "execution": {
     "iopub.execute_input": "2021-06-30T16:27:52.039594Z",
     "iopub.status.busy": "2021-06-30T16:27:52.038751Z",
     "iopub.status.idle": "2021-06-30T16:27:52.279618Z",
     "shell.execute_reply": "2021-06-30T16:27:52.280076Z",
     "shell.execute_reply.started": "2021-06-30T16:22:11.417571Z"
    },
    "papermill": {
     "duration": 0.390537,
     "end_time": "2021-06-30T16:27:52.280246",
     "exception": false,
     "start_time": "2021-06-30T16:27:51.889709",
     "status": "completed"
    },
    "tags": []
   },
   "outputs": [
    {
     "data": {
      "image/png": "[encoded data removed]",
      "text/plain": [
       "<Figure size 432x432 with 2 Axes>"
      ]
     },
     "metadata": {
      "needs_background": "light"
     },
     "output_type": "display_data"
    }
   ],
   "source": [
    "# посмотрим на матрицу ошибок\n",
    "show_confusion_matrix(y_test, y_pred)"
   ]
  },
  {
   "cell_type": "code",
   "execution_count": 411,
   "id": "above-gossip",
   "metadata": {
    "execution": {
     "iopub.execute_input": "2021-06-30T16:27:52.590601Z",
     "iopub.status.busy": "2021-06-30T16:27:52.589644Z",
     "iopub.status.idle": "2021-06-30T16:27:52.629944Z",
     "shell.execute_reply": "2021-06-30T16:27:52.629439Z",
     "shell.execute_reply.started": "2021-06-30T16:22:11.690387Z"
    },
    "papermill": {
     "duration": 0.198966,
     "end_time": "2021-06-30T16:27:52.630081",
     "exception": false,
     "start_time": "2021-06-30T16:27:52.431115",
     "status": "completed"
    },
    "tags": []
   },
   "outputs": [
    {
     "data": {
      "text/html": [
       "<div>\n",
       "<style scoped>\n",
       "    .dataframe tbody tr th:only-of-type {\n",
       "        vertical-align: middle;\n",
       "    }\n",
       "\n",
       "    .dataframe tbody tr th {\n",
       "        vertical-align: top;\n",
       "    }\n",
       "\n",
       "    .dataframe thead th {\n",
       "        text-align: right;\n",
       "    }\n",
       "</style>\n",
       "<table border=\"1\" class=\"dataframe\">\n",
       "  <thead>\n",
       "    <tr style=\"text-align: right;\">\n",
       "      <th></th>\n",
       "      <th>Value</th>\n",
       "      <th>Description</th>\n",
       "    </tr>\n",
       "  </thead>\n",
       "  <tbody>\n",
       "    <tr>\n",
       "      <th>Positive, P</th>\n",
       "      <td>1827.000000</td>\n",
       "      <td>default</td>\n",
       "    </tr>\n",
       "    <tr>\n",
       "      <th>Negative, N</th>\n",
       "      <td>12933.000000</td>\n",
       "      <td>non-default</td>\n",
       "    </tr>\n",
       "    <tr>\n",
       "      <th>True Positive, TP</th>\n",
       "      <td>40.000000</td>\n",
       "      <td>correctly identified default</td>\n",
       "    </tr>\n",
       "    <tr>\n",
       "      <th>True Negative, TN</th>\n",
       "      <td>12872.000000</td>\n",
       "      <td>correctly identified non-default</td>\n",
       "    </tr>\n",
       "    <tr>\n",
       "      <th>False Positive, FP</th>\n",
       "      <td>61.000000</td>\n",
       "      <td>incorrectly identified default</td>\n",
       "    </tr>\n",
       "    <tr>\n",
       "      <th>False Negative, FN</th>\n",
       "      <td>1787.000000</td>\n",
       "      <td>incorrectly identified non-default</td>\n",
       "    </tr>\n",
       "    <tr>\n",
       "      <th>Accuracy</th>\n",
       "      <td>0.874797</td>\n",
       "      <td>Accuracy=(TP+TN)/(P+N)</td>\n",
       "    </tr>\n",
       "    <tr>\n",
       "      <th>Precision</th>\n",
       "      <td>0.396040</td>\n",
       "      <td>Precision = TP/(TP+FP)</td>\n",
       "    </tr>\n",
       "    <tr>\n",
       "      <th>Recall</th>\n",
       "      <td>0.021894</td>\n",
       "      <td>Recall = TP/P</td>\n",
       "    </tr>\n",
       "    <tr>\n",
       "      <th>F1-score</th>\n",
       "      <td>0.041494</td>\n",
       "      <td>Harmonical mean of Precision и Recall</td>\n",
       "    </tr>\n",
       "    <tr>\n",
       "      <th>ROC_AUC</th>\n",
       "      <td>0.744606</td>\n",
       "      <td>ROC AUC Score</td>\n",
       "    </tr>\n",
       "  </tbody>\n",
       "</table>\n",
       "</div>"
      ],
      "text/plain": [
       "                           Value                            Description\n",
       "Positive, P          1827.000000                                default\n",
       "Negative, N         12933.000000                            non-default\n",
       "True Positive, TP      40.000000           correctly identified default\n",
       "True Negative, TN   12872.000000       correctly identified non-default\n",
       "False Positive, FP     61.000000         incorrectly identified default\n",
       "False Negative, FN   1787.000000     incorrectly identified non-default\n",
       "Accuracy                0.874797                 Accuracy=(TP+TN)/(P+N)\n",
       "Precision               0.396040                 Precision = TP/(TP+FP)\n",
       "Recall                  0.021894                          Recall = TP/P\n",
       "F1-score                0.041494  Harmonical mean of Precision и Recall\n",
       "ROC_AUC                 0.744606                          ROC AUC Score"
      ]
     },
     "metadata": {},
     "output_type": "display_data"
    }
   ],
   "source": [
    "# проверим наши метрики\n",
    "all_metrics(y_test, y_pred, y_pred_prob)"
   ]
  },
  {
   "cell_type": "markdown",
   "id": "aggressive-humanity",
   "metadata": {
    "papermill": {
     "duration": 0.154172,
     "end_time": "2021-06-30T16:27:52.937054",
     "exception": false,
     "start_time": "2021-06-30T16:27:52.782882",
     "status": "completed"
    },
    "tags": []
   },
   "source": [
    "ROC/AUC - показатели достаточно хороши, но матрица ошибок показывает что модель предсказывает дефолт очень плохо. Из 1827 дефолтов только 40 были корректно предсказаны, они же ~2.2%(очень низкий Recall - показатель). Тогда поиграемся с гиперпараметрами."
   ]
  },
  {
   "cell_type": "markdown",
   "id": "physical-moral",
   "metadata": {
    "papermill": {
     "duration": 0.149779,
     "end_time": "2021-06-30T16:27:53.241985",
     "exception": false,
     "start_time": "2021-06-30T16:27:53.092206",
     "status": "completed"
    },
    "tags": []
   },
   "source": [
    "# Regularization"
   ]
  },
  {
   "cell_type": "code",
   "execution_count": 412,
   "id": "taken-endorsement",
   "metadata": {
    "execution": {
     "iopub.execute_input": "2021-06-30T16:27:53.555372Z",
     "iopub.status.busy": "2021-06-30T16:27:53.554454Z",
     "iopub.status.idle": "2021-06-30T16:29:13.593894Z",
     "shell.execute_reply": "2021-06-30T16:29:13.595429Z",
     "shell.execute_reply.started": "2021-06-30T16:22:11.733915Z"
    },
    "papermill": {
     "duration": 80.204036,
     "end_time": "2021-06-30T16:29:13.595915",
     "exception": false,
     "start_time": "2021-06-30T16:27:53.391879",
     "status": "completed"
    },
    "tags": []
   },
   "outputs": [
    {
     "name": "stderr",
     "output_type": "stream",
     "text": [
      "C:\\Users\\rebvj\\anaconda3\\lib\\site-packages\\sklearn\\model_selection\\_search.py:922: UserWarning: One or more of the test scores are non-finite: [       nan        nan        nan        nan 0.34026848        nan\n",
      " 0.34026848        nan 0.05540439 0.05541069        nan 0.05516422\n",
      " 0.05516422 0.05540439 0.05541069        nan 0.05516422 0.05516422\n",
      " 0.34019134 0.34011218 0.34012411 0.3402254  0.34021312 0.34019134\n",
      " 0.34011218 0.34012411 0.3402254  0.34021312 0.05540439 0.05539689\n",
      " 0.05540439 0.05540439 0.05540439 0.05539689 0.05540439 0.05540439\n",
      " 0.34017932 0.34016906 0.3401334  0.3402006  0.34017932 0.34016906\n",
      " 0.3401334  0.3402006 ]\n",
      "  warnings.warn(\n"
     ]
    },
    {
     "name": "stdout",
     "output_type": "stream",
     "text": [
      "\tC: 1.0\n",
      "\tclass_weight: 'balanced'\n",
      "\tdual: False\n",
      "\tfit_intercept: True\n",
      "\tintercept_scaling: 1\n",
      "\tl1_ratio: None\n",
      "\tmax_iter: 50\n",
      "\tmulti_class: 'auto'\n",
      "\tn_jobs: None\n",
      "\tpenalty: 'l1'\n",
      "\trandom_state: 42\n",
      "\tsolver: 'liblinear'\n",
      "\ttol: 0.001\n",
      "\tverbose: 0\n",
      "\twarm_start: False\n",
      "Accuracy: 0.6711\n",
      "Precision: 0.2265\n",
      "Recall: 0.6864\n",
      "F1: 0.3406\n"
     ]
    }
   ],
   "source": [
    "model = LogisticRegression(random_state=random_seed)\n",
    "\n",
    "iter_ = 50\n",
    "epsilon_stop = 1e-3\n",
    "\n",
    "param_grid = [\n",
    "    {'penalty': ['l1'], \n",
    "     'solver': ['liblinear', 'lbfgs'], \n",
    "     'class_weight':['none', 'balanced'], \n",
    "     'multi_class': ['auto','ovr'], \n",
    "     'max_iter':[iter_],\n",
    "     'tol':[epsilon_stop]},\n",
    "    {'penalty': ['l2'], \n",
    "     'solver': ['newton-cg', 'lbfgs', 'liblinear', 'sag', 'saga'], \n",
    "     'class_weight':['none', 'balanced'], \n",
    "     'multi_class': ['auto','ovr'], \n",
    "     'max_iter':[iter_],\n",
    "     'tol':[epsilon_stop]},\n",
    "    {'penalty': ['none'], \n",
    "     'solver': ['newton-cg', 'lbfgs', 'sag', 'saga'], \n",
    "     'class_weight':['none', 'balanced'], \n",
    "     'multi_class': ['auto','ovr'], \n",
    "     'max_iter':[iter_],\n",
    "     'tol':[epsilon_stop]},\n",
    "]\n",
    "\n",
    "gridsearch = GridSearchCV(model, param_grid, scoring='f1', n_jobs=-1, cv=5)\n",
    "gridsearch.fit(X_train, y_train)\n",
    "model = gridsearch.best_estimator_\n",
    "\n",
    "best_parameters = model.get_params()\n",
    "for param_name in sorted(best_parameters.keys()):\n",
    "        print('\\t%s: %r' % (param_name, best_parameters[param_name]))\n",
    "\n",
    "preds = model.predict(X_test)\n",
    "print('Accuracy: %.4f' % accuracy_score(y_test, preds))\n",
    "print('Precision: %.4f' % precision_score(y_test, preds))\n",
    "print('Recall: %.4f' % recall_score(y_test, preds))\n",
    "print('F1: %.4f' % f1_score(y_test, preds))"
   ]
  },
  {
   "cell_type": "markdown",
   "id": "spread-astrology",
   "metadata": {
    "papermill": {
     "duration": 0.152001,
     "end_time": "2021-06-30T16:29:13.935703",
     "exception": false,
     "start_time": "2021-06-30T16:29:13.783702",
     "status": "completed"
    },
    "tags": []
   },
   "source": [
    "Обучим модель на наших гиперпараметрах"
   ]
  },
  {
   "cell_type": "code",
   "execution_count": 413,
   "id": "descending-oakland",
   "metadata": {
    "execution": {
     "iopub.execute_input": "2021-06-30T16:29:14.251297Z",
     "iopub.status.busy": "2021-06-30T16:29:14.250627Z",
     "iopub.status.idle": "2021-06-30T16:29:18.570702Z",
     "shell.execute_reply": "2021-06-30T16:29:18.571564Z",
     "shell.execute_reply.started": "2021-06-30T16:23:40.692454Z"
    },
    "papermill": {
     "duration": 4.483325,
     "end_time": "2021-06-30T16:29:18.571841",
     "exception": false,
     "start_time": "2021-06-30T16:29:14.088516",
     "status": "completed"
    },
    "tags": []
   },
   "outputs": [],
   "source": [
    "# Обучение и предсказание\n",
    "model = LogisticRegression(random_state=random_seed, \n",
    "                           C=1, \n",
    "                           class_weight='balanced', \n",
    "                           dual=False, \n",
    "                           fit_intercept=True, \n",
    "                           intercept_scaling=1, \n",
    "                           l1_ratio=None, \n",
    "                           multi_class='auto', \n",
    "                           n_jobs=None, \n",
    "                           penalty='l1', \n",
    "                           solver='liblinear', \n",
    "                           verbose=0, \n",
    "                           warm_start=False)\n",
    "\n",
    "model.fit(X_train, y_train)\n",
    "\n",
    "y_pred_prob = model.predict_proba(X_test)[:,1]\n",
    "y_pred = model.predict(X_test)"
   ]
  },
  {
   "cell_type": "code",
   "execution_count": 414,
   "id": "grave-training",
   "metadata": {
    "execution": {
     "iopub.execute_input": "2021-06-30T16:29:18.957509Z",
     "iopub.status.busy": "2021-06-30T16:29:18.956551Z",
     "iopub.status.idle": "2021-06-30T16:29:19.218310Z",
     "shell.execute_reply": "2021-06-30T16:29:19.217736Z",
     "shell.execute_reply.started": "2021-06-30T16:23:45.786551Z"
    },
    "papermill": {
     "duration": 0.442482,
     "end_time": "2021-06-30T16:29:19.218456",
     "exception": false,
     "start_time": "2021-06-30T16:29:18.775974",
     "status": "completed"
    },
    "tags": []
   },
   "outputs": [
    {
     "data": {
      "image/png": "[encoded data removed]",
      "text/plain": [
       "<Figure size 432x288 with 1 Axes>"
      ]
     },
     "metadata": {
      "needs_background": "light"
     },
     "output_type": "display_data"
    }
   ],
   "source": [
    "# построим ROC - кривую\n",
    "probs = model.predict_proba(X_test)\n",
    "probs = probs[:,1]\n",
    "\n",
    "fpr, tpr, threshold = roc_curve(y_test, probs)\n",
    "roc_auc = roc_auc_score(y_test, probs)\n",
    "\n",
    "plt.figure()\n",
    "plt.plot([0, 1], label='Baseline', linestyle='--')\n",
    "plt.plot(fpr, tpr, label = 'Regression')\n",
    "plt.title('Logistic Regression ROC AUC = %0.3f' % roc_auc)\n",
    "plt.ylabel('True Positive Rate')\n",
    "plt.xlabel('False Positive Rate')\n",
    "plt.legend(loc = 'lower right')\n",
    "plt.show()"
   ]
  },
  {
   "cell_type": "code",
   "execution_count": 415,
   "id": "amino-lincoln",
   "metadata": {
    "execution": {
     "iopub.execute_input": "2021-06-30T16:29:19.533174Z",
     "iopub.status.busy": "2021-06-30T16:29:19.532216Z",
     "iopub.status.idle": "2021-06-30T16:29:19.870726Z",
     "shell.execute_reply": "2021-06-30T16:29:19.870251Z",
     "shell.execute_reply.started": "2021-06-30T16:23:46.033081Z"
    },
    "papermill": {
     "duration": 0.494851,
     "end_time": "2021-06-30T16:29:19.870846",
     "exception": false,
     "start_time": "2021-06-30T16:29:19.375995",
     "status": "completed"
    },
    "tags": []
   },
   "outputs": [
    {
     "data": {
      "image/png": "[encoded data removed]",
      "text/plain": [
       "<Figure size 432x432 with 2 Axes>"
      ]
     },
     "metadata": {
      "needs_background": "light"
     },
     "output_type": "display_data"
    }
   ],
   "source": [
    "# проверим матрицу оштбок\n",
    "show_confusion_matrix(y_test, y_pred)"
   ]
  },
  {
   "cell_type": "code",
   "execution_count": 416,
   "id": "sapphire-pocket",
   "metadata": {
    "execution": {
     "iopub.execute_input": "2021-06-30T16:29:20.174660Z",
     "iopub.status.busy": "2021-06-30T16:29:20.173804Z",
     "iopub.status.idle": "2021-06-30T16:29:20.214397Z",
     "shell.execute_reply": "2021-06-30T16:29:20.213816Z",
     "shell.execute_reply.started": "2021-06-30T16:23:46.327676Z"
    },
    "papermill": {
     "duration": 0.194562,
     "end_time": "2021-06-30T16:29:20.214538",
     "exception": false,
     "start_time": "2021-06-30T16:29:20.019976",
     "status": "completed"
    },
    "tags": []
   },
   "outputs": [
    {
     "data": {
      "text/html": [
       "<div>\n",
       "<style scoped>\n",
       "    .dataframe tbody tr th:only-of-type {\n",
       "        vertical-align: middle;\n",
       "    }\n",
       "\n",
       "    .dataframe tbody tr th {\n",
       "        vertical-align: top;\n",
       "    }\n",
       "\n",
       "    .dataframe thead th {\n",
       "        text-align: right;\n",
       "    }\n",
       "</style>\n",
       "<table border=\"1\" class=\"dataframe\">\n",
       "  <thead>\n",
       "    <tr style=\"text-align: right;\">\n",
       "      <th></th>\n",
       "      <th>Value</th>\n",
       "      <th>Description</th>\n",
       "    </tr>\n",
       "  </thead>\n",
       "  <tbody>\n",
       "    <tr>\n",
       "      <th>Positive, P</th>\n",
       "      <td>1827.000000</td>\n",
       "      <td>default</td>\n",
       "    </tr>\n",
       "    <tr>\n",
       "      <th>Negative, N</th>\n",
       "      <td>12933.000000</td>\n",
       "      <td>non-default</td>\n",
       "    </tr>\n",
       "    <tr>\n",
       "      <th>True Positive, TP</th>\n",
       "      <td>1254.000000</td>\n",
       "      <td>correctly identified default</td>\n",
       "    </tr>\n",
       "    <tr>\n",
       "      <th>True Negative, TN</th>\n",
       "      <td>8651.000000</td>\n",
       "      <td>correctly identified non-default</td>\n",
       "    </tr>\n",
       "    <tr>\n",
       "      <th>False Positive, FP</th>\n",
       "      <td>4282.000000</td>\n",
       "      <td>incorrectly identified default</td>\n",
       "    </tr>\n",
       "    <tr>\n",
       "      <th>False Negative, FN</th>\n",
       "      <td>573.000000</td>\n",
       "      <td>incorrectly identified non-default</td>\n",
       "    </tr>\n",
       "    <tr>\n",
       "      <th>Accuracy</th>\n",
       "      <td>0.671070</td>\n",
       "      <td>Accuracy=(TP+TN)/(P+N)</td>\n",
       "    </tr>\n",
       "    <tr>\n",
       "      <th>Precision</th>\n",
       "      <td>0.226517</td>\n",
       "      <td>Precision = TP/(TP+FP)</td>\n",
       "    </tr>\n",
       "    <tr>\n",
       "      <th>Recall</th>\n",
       "      <td>0.686371</td>\n",
       "      <td>Recall = TP/P</td>\n",
       "    </tr>\n",
       "    <tr>\n",
       "      <th>F1-score</th>\n",
       "      <td>0.340622</td>\n",
       "      <td>Harmonical mean of Precision и Recall</td>\n",
       "    </tr>\n",
       "    <tr>\n",
       "      <th>ROC_AUC</th>\n",
       "      <td>0.744142</td>\n",
       "      <td>ROC AUC Score</td>\n",
       "    </tr>\n",
       "  </tbody>\n",
       "</table>\n",
       "</div>"
      ],
      "text/plain": [
       "                           Value                            Description\n",
       "Positive, P          1827.000000                                default\n",
       "Negative, N         12933.000000                            non-default\n",
       "True Positive, TP    1254.000000           correctly identified default\n",
       "True Negative, TN    8651.000000       correctly identified non-default\n",
       "False Positive, FP   4282.000000         incorrectly identified default\n",
       "False Negative, FN    573.000000     incorrectly identified non-default\n",
       "Accuracy                0.671070                 Accuracy=(TP+TN)/(P+N)\n",
       "Precision               0.226517                 Precision = TP/(TP+FP)\n",
       "Recall                  0.686371                          Recall = TP/P\n",
       "F1-score                0.340622  Harmonical mean of Precision и Recall\n",
       "ROC_AUC                 0.744142                          ROC AUC Score"
      ]
     },
     "metadata": {},
     "output_type": "display_data"
    }
   ],
   "source": [
    "# и проверим наши метрики\n",
    "all_metrics(y_test, y_pred, y_pred_prob)"
   ]
  },
  {
   "cell_type": "markdown",
   "id": "varying-spelling",
   "metadata": {
    "papermill": {
     "duration": 0.151169,
     "end_time": "2021-06-30T16:29:20.515830",
     "exception": false,
     "start_time": "2021-06-30T16:29:20.364661",
     "status": "completed"
    },
    "tags": []
   },
   "source": [
    "Recall повысился с 2 до 68%. Precision стал ниже, потому что теперь наш алгоритм обнаруживает дефолты с большей вероятностью, даже если их нет. F1 - score между отзывами и точностью тоже снизился. Тем не менее, качество модели с точки зрения банка, повысилось.\n",
    "Отзыв увеличился с 2 до 68 процентов. К сожалению, точность снизилась, потому что теперь наш алгоритм с большей вероятностью обнаруживает значения по умолчанию, даже если их нет. Среднее гармоническое значение между отзывами и точностью (оценка F1) также снизилось. Однако с точки зрения потребителя, то есть банка, можно сказать, что качество модели повысилось. Однако есть еще кое-что для улучшения."
   ]
  },
  {
   "cell_type": "markdown",
   "id": "concrete-privilege",
   "metadata": {
    "papermill": {
     "duration": 0.149214,
     "end_time": "2021-06-30T16:29:20.816519",
     "exception": false,
     "start_time": "2021-06-30T16:29:20.667305",
     "status": "completed"
    },
    "tags": []
   },
   "source": [
    "# Submission"
   ]
  },
  {
   "cell_type": "code",
   "execution_count": 417,
   "id": "mineral-necklace",
   "metadata": {
    "execution": {
     "iopub.execute_input": "2021-06-30T16:29:21.122816Z",
     "iopub.status.busy": "2021-06-30T16:29:21.121912Z",
     "iopub.status.idle": "2021-06-30T16:29:21.164400Z",
     "shell.execute_reply": "2021-06-30T16:29:21.163782Z",
     "shell.execute_reply.started": "2021-06-30T16:23:46.375748Z"
    },
    "papermill": {
     "duration": 0.197492,
     "end_time": "2021-06-30T16:29:21.164527",
     "exception": false,
     "start_time": "2021-06-30T16:29:20.967035",
     "status": "completed"
    },
    "tags": []
   },
   "outputs": [],
   "source": [
    "data_train = data.query('sample == 1').drop(['sample', 'client_id', 'app_date'], axis=1)\n",
    "data_test = data.query('sample == 0').drop(['sample', 'client_id', 'app_date'], axis=1)"
   ]
  },
  {
   "cell_type": "code",
   "execution_count": 418,
   "id": "orange-passing",
   "metadata": {
    "execution": {
     "iopub.execute_input": "2021-06-30T16:29:21.485478Z",
     "iopub.status.busy": "2021-06-30T16:29:21.484436Z",
     "iopub.status.idle": "2021-06-30T16:29:21.490989Z",
     "shell.execute_reply": "2021-06-30T16:29:21.490432Z",
     "shell.execute_reply.started": "2021-06-30T16:23:46.420216Z"
    },
    "papermill": {
     "duration": 0.175351,
     "end_time": "2021-06-30T16:29:21.491124",
     "exception": false,
     "start_time": "2021-06-30T16:29:21.315773",
     "status": "completed"
    },
    "tags": []
   },
   "outputs": [],
   "source": [
    "X_train = data_train.drop(['default'], axis=1)\n",
    "y_train = data_train['default'].values\n",
    "X_test = data_test.drop(['default'], axis=1)"
   ]
  },
  {
   "cell_type": "code",
   "execution_count": 419,
   "id": "turned-hazard",
   "metadata": {
    "execution": {
     "iopub.execute_input": "2021-06-30T16:29:21.813576Z",
     "iopub.status.busy": "2021-06-30T16:29:21.812882Z",
     "iopub.status.idle": "2021-06-30T16:29:29.053674Z",
     "shell.execute_reply": "2021-06-30T16:29:29.053060Z",
     "shell.execute_reply.started": "2021-06-30T16:23:46.434554Z"
    },
    "papermill": {
     "duration": 7.40575,
     "end_time": "2021-06-30T16:29:29.053802",
     "exception": false,
     "start_time": "2021-06-30T16:29:21.648052",
     "status": "completed"
    },
    "tags": []
   },
   "outputs": [
    {
     "data": {
      "text/plain": [
       "LogisticRegression(C=1, class_weight='balanced', max_iter=1000, penalty='l1',\n",
       "                   random_state=42, solver='liblinear')"
      ]
     },
     "execution_count": 419,
     "metadata": {},
     "output_type": "execute_result"
    }
   ],
   "source": [
    "model = LogisticRegression(random_state=random_seed, \n",
    "                           C=1, \n",
    "                           class_weight='balanced', \n",
    "                           dual=False, \n",
    "                           fit_intercept=True, \n",
    "                           intercept_scaling=1, \n",
    "                           l1_ratio=None, \n",
    "                           multi_class='auto', \n",
    "                           n_jobs=None, \n",
    "                           penalty='l1', \n",
    "                           solver='liblinear', \n",
    "                           verbose=0, \n",
    "                           warm_start=False,\n",
    "                           max_iter=1000)\n",
    "\n",
    "model.fit(X_train, y_train)"
   ]
  },
  {
   "cell_type": "code",
   "execution_count": 420,
   "id": "perfect-turner",
   "metadata": {
    "execution": {
     "iopub.execute_input": "2021-06-30T16:29:29.369428Z",
     "iopub.status.busy": "2021-06-30T16:29:29.368178Z",
     "iopub.status.idle": "2021-06-30T16:29:29.382770Z",
     "shell.execute_reply": "2021-06-30T16:29:29.381804Z",
     "shell.execute_reply.started": "2021-06-30T16:23:54.879723Z"
    },
    "papermill": {
     "duration": 0.176676,
     "end_time": "2021-06-30T16:29:29.383000",
     "exception": false,
     "start_time": "2021-06-30T16:29:29.206324",
     "status": "completed"
    },
    "tags": []
   },
   "outputs": [],
   "source": [
    "y_pred_prob = model.predict_proba(X_test)[:,1]"
   ]
  },
  {
   "cell_type": "code",
   "execution_count": 421,
   "id": "short-period",
   "metadata": {
    "execution": {
     "iopub.execute_input": "2021-06-30T16:29:29.748305Z",
     "iopub.status.busy": "2021-06-30T16:29:29.747659Z",
     "iopub.status.idle": "2021-06-30T16:29:29.901304Z",
     "shell.execute_reply": "2021-06-30T16:29:29.900700Z",
     "shell.execute_reply.started": "2021-06-30T16:23:54.899112Z"
    },
    "papermill": {
     "duration": 0.31417,
     "end_time": "2021-06-30T16:29:29.901446",
     "exception": false,
     "start_time": "2021-06-30T16:29:29.587276",
     "status": "completed"
    },
    "tags": []
   },
   "outputs": [],
   "source": [
    "submit = pd.DataFrame(data.query('sample == 0')['client_id'])\n",
    "submit['default'] = y_pred_prob\n",
    "submit.to_csv('submission3.csv', index=False)"
   ]
  },
  {
   "cell_type": "code",
   "execution_count": 422,
   "id": "insured-synthesis",
   "metadata": {
    "papermill": {
     "duration": 0.15728,
     "end_time": "2021-06-30T16:29:30.214489",
     "exception": false,
     "start_time": "2021-06-30T16:29:30.057209",
     "status": "completed"
    },
    "tags": []
   },
   "outputs": [
    {
     "data": {
      "text/html": [
       "<div>\n",
       "<style scoped>\n",
       "    .dataframe tbody tr th:only-of-type {\n",
       "        vertical-align: middle;\n",
       "    }\n",
       "\n",
       "    .dataframe tbody tr th {\n",
       "        vertical-align: top;\n",
       "    }\n",
       "\n",
       "    .dataframe thead th {\n",
       "        text-align: right;\n",
       "    }\n",
       "</style>\n",
       "<table border=\"1\" class=\"dataframe\">\n",
       "  <thead>\n",
       "    <tr style=\"text-align: right;\">\n",
       "      <th></th>\n",
       "      <th>client_id</th>\n",
       "      <th>default</th>\n",
       "    </tr>\n",
       "  </thead>\n",
       "  <tbody>\n",
       "    <tr>\n",
       "      <th>73799</th>\n",
       "      <td>74835</td>\n",
       "      <td>0.201623</td>\n",
       "    </tr>\n",
       "    <tr>\n",
       "      <th>73800</th>\n",
       "      <td>17527</td>\n",
       "      <td>0.793670</td>\n",
       "    </tr>\n",
       "    <tr>\n",
       "      <th>73801</th>\n",
       "      <td>75683</td>\n",
       "      <td>0.306250</td>\n",
       "    </tr>\n",
       "    <tr>\n",
       "      <th>73802</th>\n",
       "      <td>26883</td>\n",
       "      <td>0.407681</td>\n",
       "    </tr>\n",
       "    <tr>\n",
       "      <th>73803</th>\n",
       "      <td>28862</td>\n",
       "      <td>0.136402</td>\n",
       "    </tr>\n",
       "  </tbody>\n",
       "</table>\n",
       "</div>"
      ],
      "text/plain": [
       "       client_id   default\n",
       "73799      74835  0.201623\n",
       "73800      17527  0.793670\n",
       "73801      75683  0.306250\n",
       "73802      26883  0.407681\n",
       "73803      28862  0.136402"
      ]
     },
     "execution_count": 422,
     "metadata": {},
     "output_type": "execute_result"
    }
   ],
   "source": [
    "submit.head()"
   ]
  },
  {
   "cell_type": "code",
   "execution_count": null,
   "id": "c23db286",
   "metadata": {},
   "outputs": [],
   "source": []
  }
 ],
 "metadata": {
  "kernelspec": {
   "display_name": "Python 3",
   "language": "python",
   "name": "python3"
  },
  "language_info": {
   "codemirror_mode": {
    "name": "ipython",
    "version": 3
   },
   "file_extension": ".py",
   "mimetype": "text/x-python",
   "name": "python",
   "nbconvert_exporter": "python",
   "pygments_lexer": "ipython3",
   "version": "3.8.10"
  },
  "papermill": {
   "default_parameters": {},
   "duration": 167.491097,
   "end_time": "2021-06-30T16:29:31.481121",
   "environment_variables": {},
   "exception": null,
   "input_path": "__notebook__.ipynb",
   "output_path": "__notebook__.ipynb",
   "parameters": {},
   "start_time": "2021-06-30T16:26:43.990024",
   "version": "2.3.2"
  }
 },
 "nbformat": 4,
 "nbformat_minor": 5
}
