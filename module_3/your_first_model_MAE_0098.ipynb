{
 "cells": [
  {
   "cell_type": "markdown",
   "metadata": {},
   "source": [
    "# Загрузка Pandas и очистка данных"
   ]
  },
  {
   "cell_type": "code",
   "execution_count": 1,
   "metadata": {},
   "outputs": [],
   "source": [
    "import pandas as pd\n",
    "import re\n",
    "import numpy as np\n",
    "import math"
   ]
  },
  {
   "cell_type": "code",
   "execution_count": 2,
   "metadata": {},
   "outputs": [],
   "source": [
    "df = pd.read_csv('main_task.xls')"
   ]
  },
  {
   "cell_type": "code",
   "execution_count": 3,
   "metadata": {},
   "outputs": [],
   "source": [
    "# Ваш код по очистке данных и генерации новых признаков\n",
    "# При необходимости добавьте ячейки"
   ]
  },
  {
   "cell_type": "code",
   "execution_count": 4,
   "metadata": {},
   "outputs": [],
   "source": [
    "# Также создадим колонку является ли город столицей или нет\n",
    "\n",
    "def capital(City):\n",
    "    \n",
    "    capital = ['Paris', 'Stockholm', 'London', 'Berlin',\n",
    "           'Bratislava', 'Vienna', 'Rome', 'Madrid',\n",
    "           'Dublin', 'Brussels', 'Warsaw', 'Budapest',\n",
    "           'Copenhagen', 'Amsterdam', 'Lisbon', 'Prague',\n",
    "           'Oslo', 'Helsinki', 'Edinburgh', 'Ljubljana',\n",
    "           'Athens', 'Luxembourg']\n",
    "    \n",
    "    if City in capital:\n",
    "        return 1\n",
    "    else:\n",
    "        return 0\n",
    "\n",
    "\n",
    "df['Capital'] = df['City'].apply(capital)"
   ]
  },
  {
   "cell_type": "code",
   "execution_count": 5,
   "metadata": {},
   "outputs": [],
   "source": [
    "# Сразу же создадим dummy признак по городоам\n",
    "df = pd.concat([df.drop('City', axis=1), pd.get_dummies(df['City'])], axis=1)\n",
    "\n",
    "# И заменим NaN значение в признаке Number of Reviews\n",
    "df['Number of Reviews'] = df['Number of Reviews'].fillna(df['Number of Reviews'].mean())"
   ]
  },
  {
   "cell_type": "code",
   "execution_count": 6,
   "metadata": {},
   "outputs": [],
   "source": [
    "#Заменим также значения в колокне Price Range\n",
    "\n",
    "def price(x):\n",
    "    if x == '$':\n",
    "        return 1\n",
    "    elif x == '$$ - $$$':\n",
    "        return 2\n",
    "    elif x == '$$$$':\n",
    "        return 3\n",
    "\n",
    "df['Price Range'] = df['Price Range'].apply(price)\n",
    "df['Price Range'] = df['Price Range'].fillna(2)"
   ]
  },
  {
   "cell_type": "code",
   "execution_count": 7,
   "metadata": {},
   "outputs": [],
   "source": [
    "# Напимшем функцию по обработке ячеек, где есть не одно значение\n",
    "\n",
    "def splitting_row(str_val):\n",
    "    if pd.isna(str_val):\n",
    "        return [\"Unknown\"]\n",
    "    str_val = str_val.strip('[]')\n",
    "    str_val = str_val.replace(\"\\'\",'')\n",
    "    str_val = str_val.split(\",\")\n",
    "    return str_val\n",
    "\n",
    "def counter(row):\n",
    "    for i in row:\n",
    "        if i=='Unknown':\n",
    "            return 1\n",
    "        else:\n",
    "            return len(i)"
   ]
  },
  {
   "cell_type": "code",
   "execution_count": 8,
   "metadata": {},
   "outputs": [],
   "source": [
    "# Применим функцию\n",
    "\n",
    "df['Cuisine Style'] = df['Cuisine Style'].apply(splitting_row)\n",
    "\n",
    "# И сразу же приведем колонку в порядок, разбив значения и приведя к общему виду\n",
    "\n",
    "df = df.explode('Cuisine Style')\n",
    "df['Cuisine Style'] = df['Cuisine Style'].apply(lambda x: x.lower().lstrip())\n",
    "\n",
    "#df['Cuisine Style']= df['Cuisine Style'].apply(counter)"
   ]
  },
  {
   "cell_type": "code",
   "execution_count": 9,
   "metadata": {},
   "outputs": [],
   "source": [
    "# И также создадим dummy признак по кухням\n",
    "\n",
    "df = pd.concat([df.drop('Cuisine Style', axis=1), pd.get_dummies(df['Cuisine Style'])], axis=1)"
   ]
  },
  {
   "cell_type": "code",
   "execution_count": 10,
   "metadata": {},
   "outputs": [],
   "source": [
    "# Теперь поработаем над датами через паттерн\n",
    "\n",
    "pattern = re.compile('\\d+\\/\\d+\\/\\d+')\n",
    "\n",
    "df['Reviews'] = df['Reviews'].apply(pattern.findall)\n",
    "\n",
    "df['Reviews'] =df['Reviews'].apply(lambda x:[x[-2], x[-1]] if len(x)>=3\n",
    "                                  else x)\n",
    "\n",
    "# Так как для модели нам нужны исключительно числа, то создадим колонку с разницей оставленных отзывов в днях, переведем их\n",
    "# в формат integer\n",
    "\n",
    "df['Reviews1'] = df['Reviews'].apply(lambda x: x[0] if len(x)>=1 else None)\n",
    "df['Reviews2'] = df['Reviews'].apply(lambda x: x[1] if len(x)==2 else None)\n",
    "\n",
    "df['Reviews1'] = pd.to_datetime(df['Reviews1'])\n",
    "df['Reviews2'] = pd.to_datetime(df['Reviews2'])\n",
    "df['Reviews_Dif'] = df['Reviews1'] - df['Reviews2']\n",
    "df['Reviews_Dif'] = pd.to_numeric(df['Reviews_Dif'].dt.days, downcast='integer')"
   ]
  },
  {
   "cell_type": "code",
   "execution_count": 11,
   "metadata": {},
   "outputs": [],
   "source": [
    "# Заменим NaN значения на среднее\n",
    "\n",
    "df['Reviews_Dif'] = df['Reviews_Dif'].fillna(df['Reviews_Dif'].mean())"
   ]
  },
  {
   "cell_type": "code",
   "execution_count": 12,
   "metadata": {},
   "outputs": [],
   "source": [
    "# Удалим ненформативнык колонки, в том числе и \"Price Range\"\n",
    "\n",
    "df = df.drop(['Reviews', \n",
    "              'URL_TA', 'ID_TA', 'Reviews1',\n",
    "             'Reviews2'], axis=1)"
   ]
  },
  {
   "cell_type": "code",
   "execution_count": 13,
   "metadata": {},
   "outputs": [
    {
     "data": {
      "text/html": [
       "<div>\n",
       "<style scoped>\n",
       "    .dataframe tbody tr th:only-of-type {\n",
       "        vertical-align: middle;\n",
       "    }\n",
       "\n",
       "    .dataframe tbody tr th {\n",
       "        vertical-align: top;\n",
       "    }\n",
       "\n",
       "    .dataframe thead th {\n",
       "        text-align: right;\n",
       "    }\n",
       "</style>\n",
       "<table border=\"1\" class=\"dataframe\">\n",
       "  <thead>\n",
       "    <tr style=\"text-align: right;\">\n",
       "      <th></th>\n",
       "      <th>Restaurant_id</th>\n",
       "      <th>Ranking</th>\n",
       "      <th>Rating</th>\n",
       "      <th>Price Range</th>\n",
       "      <th>Number of Reviews</th>\n",
       "      <th>Capital</th>\n",
       "      <th>Amsterdam</th>\n",
       "      <th>Athens</th>\n",
       "      <th>Barcelona</th>\n",
       "      <th>Berlin</th>\n",
       "      <th>...</th>\n",
       "      <th>uzbek</th>\n",
       "      <th>vegan options</th>\n",
       "      <th>vegetarian friendly</th>\n",
       "      <th>venezuelan</th>\n",
       "      <th>vietnamese</th>\n",
       "      <th>welsh</th>\n",
       "      <th>wine bar</th>\n",
       "      <th>xinjiang</th>\n",
       "      <th>yunnan</th>\n",
       "      <th>Reviews_Dif</th>\n",
       "    </tr>\n",
       "  </thead>\n",
       "  <tbody>\n",
       "    <tr>\n",
       "      <th>0</th>\n",
       "      <td>id_5569</td>\n",
       "      <td>5570.0</td>\n",
       "      <td>3.5</td>\n",
       "      <td>2.0</td>\n",
       "      <td>194.0</td>\n",
       "      <td>1</td>\n",
       "      <td>0</td>\n",
       "      <td>0</td>\n",
       "      <td>0</td>\n",
       "      <td>0</td>\n",
       "      <td>...</td>\n",
       "      <td>0</td>\n",
       "      <td>0</td>\n",
       "      <td>0</td>\n",
       "      <td>0</td>\n",
       "      <td>0</td>\n",
       "      <td>0</td>\n",
       "      <td>0</td>\n",
       "      <td>0</td>\n",
       "      <td>0</td>\n",
       "      <td>41.0</td>\n",
       "    </tr>\n",
       "    <tr>\n",
       "      <th>0</th>\n",
       "      <td>id_5569</td>\n",
       "      <td>5570.0</td>\n",
       "      <td>3.5</td>\n",
       "      <td>2.0</td>\n",
       "      <td>194.0</td>\n",
       "      <td>1</td>\n",
       "      <td>0</td>\n",
       "      <td>0</td>\n",
       "      <td>0</td>\n",
       "      <td>0</td>\n",
       "      <td>...</td>\n",
       "      <td>0</td>\n",
       "      <td>0</td>\n",
       "      <td>0</td>\n",
       "      <td>0</td>\n",
       "      <td>0</td>\n",
       "      <td>0</td>\n",
       "      <td>0</td>\n",
       "      <td>0</td>\n",
       "      <td>0</td>\n",
       "      <td>41.0</td>\n",
       "    </tr>\n",
       "    <tr>\n",
       "      <th>0</th>\n",
       "      <td>id_5569</td>\n",
       "      <td>5570.0</td>\n",
       "      <td>3.5</td>\n",
       "      <td>2.0</td>\n",
       "      <td>194.0</td>\n",
       "      <td>1</td>\n",
       "      <td>0</td>\n",
       "      <td>0</td>\n",
       "      <td>0</td>\n",
       "      <td>0</td>\n",
       "      <td>...</td>\n",
       "      <td>0</td>\n",
       "      <td>0</td>\n",
       "      <td>0</td>\n",
       "      <td>0</td>\n",
       "      <td>0</td>\n",
       "      <td>0</td>\n",
       "      <td>0</td>\n",
       "      <td>0</td>\n",
       "      <td>0</td>\n",
       "      <td>41.0</td>\n",
       "    </tr>\n",
       "    <tr>\n",
       "      <th>1</th>\n",
       "      <td>id_1535</td>\n",
       "      <td>1537.0</td>\n",
       "      <td>4.0</td>\n",
       "      <td>2.0</td>\n",
       "      <td>10.0</td>\n",
       "      <td>1</td>\n",
       "      <td>0</td>\n",
       "      <td>0</td>\n",
       "      <td>0</td>\n",
       "      <td>0</td>\n",
       "      <td>...</td>\n",
       "      <td>0</td>\n",
       "      <td>0</td>\n",
       "      <td>0</td>\n",
       "      <td>0</td>\n",
       "      <td>0</td>\n",
       "      <td>0</td>\n",
       "      <td>0</td>\n",
       "      <td>0</td>\n",
       "      <td>0</td>\n",
       "      <td>382.0</td>\n",
       "    </tr>\n",
       "    <tr>\n",
       "      <th>2</th>\n",
       "      <td>id_352</td>\n",
       "      <td>353.0</td>\n",
       "      <td>4.5</td>\n",
       "      <td>3.0</td>\n",
       "      <td>688.0</td>\n",
       "      <td>1</td>\n",
       "      <td>0</td>\n",
       "      <td>0</td>\n",
       "      <td>0</td>\n",
       "      <td>0</td>\n",
       "      <td>...</td>\n",
       "      <td>0</td>\n",
       "      <td>0</td>\n",
       "      <td>0</td>\n",
       "      <td>0</td>\n",
       "      <td>0</td>\n",
       "      <td>0</td>\n",
       "      <td>0</td>\n",
       "      <td>0</td>\n",
       "      <td>0</td>\n",
       "      <td>2.0</td>\n",
       "    </tr>\n",
       "  </tbody>\n",
       "</table>\n",
       "<p>5 rows × 164 columns</p>\n",
       "</div>"
      ],
      "text/plain": [
       "  Restaurant_id  Ranking  Rating  Price Range  Number of Reviews  Capital  \\\n",
       "0       id_5569   5570.0     3.5          2.0              194.0        1   \n",
       "0       id_5569   5570.0     3.5          2.0              194.0        1   \n",
       "0       id_5569   5570.0     3.5          2.0              194.0        1   \n",
       "1       id_1535   1537.0     4.0          2.0               10.0        1   \n",
       "2        id_352    353.0     4.5          3.0              688.0        1   \n",
       "\n",
       "   Amsterdam  Athens  Barcelona  Berlin  ...  uzbek  vegan options  \\\n",
       "0          0       0          0       0  ...      0              0   \n",
       "0          0       0          0       0  ...      0              0   \n",
       "0          0       0          0       0  ...      0              0   \n",
       "1          0       0          0       0  ...      0              0   \n",
       "2          0       0          0       0  ...      0              0   \n",
       "\n",
       "   vegetarian friendly  venezuelan  vietnamese  welsh  wine bar  xinjiang  \\\n",
       "0                    0           0           0      0         0         0   \n",
       "0                    0           0           0      0         0         0   \n",
       "0                    0           0           0      0         0         0   \n",
       "1                    0           0           0      0         0         0   \n",
       "2                    0           0           0      0         0         0   \n",
       "\n",
       "   yunnan  Reviews_Dif  \n",
       "0       0         41.0  \n",
       "0       0         41.0  \n",
       "0       0         41.0  \n",
       "1       0        382.0  \n",
       "2       0          2.0  \n",
       "\n",
       "[5 rows x 164 columns]"
      ]
     },
     "execution_count": 13,
     "metadata": {},
     "output_type": "execute_result"
    }
   ],
   "source": [
    "df.head()"
   ]
  },
  {
   "cell_type": "code",
   "execution_count": 14,
   "metadata": {},
   "outputs": [
    {
     "name": "stdout",
     "output_type": "stream",
     "text": [
      "<class 'pandas.core.frame.DataFrame'>\n",
      "Int64Index: 104896 entries, 0 to 39999\n",
      "Columns: 164 entries, Restaurant_id to Reviews_Dif\n",
      "dtypes: float64(5), int64(1), object(1), uint8(157)\n",
      "memory usage: 22.1+ MB\n"
     ]
    }
   ],
   "source": [
    "df.info()"
   ]
  },
  {
   "cell_type": "markdown",
   "metadata": {},
   "source": [
    "# Разбиваем датафрейм на части, необходимые для обучения и тестирования модели"
   ]
  },
  {
   "cell_type": "code",
   "execution_count": 15,
   "metadata": {},
   "outputs": [],
   "source": [
    "# Х - данные с информацией о ресторанах, у - целевая переменная (рейтинги ресторанов)\n",
    "X = df.drop(['Restaurant_id', 'Rating'], axis = 1)\n",
    "y = df['Rating']"
   ]
  },
  {
   "cell_type": "code",
   "execution_count": 16,
   "metadata": {},
   "outputs": [],
   "source": [
    "# Загружаем специальный инструмент для разбивки:\n",
    "from sklearn.model_selection import train_test_split"
   ]
  },
  {
   "cell_type": "code",
   "execution_count": 17,
   "metadata": {},
   "outputs": [],
   "source": [
    "# Наборы данных с меткой \"train\" будут использоваться для обучения модели, \"test\" - для тестирования.\n",
    "# Для тестирования мы будем использовать 25% от исходного датасета.\n",
    "X_train, X_test, y_train, y_test = train_test_split(X, y, test_size=0.25)"
   ]
  },
  {
   "cell_type": "code",
   "execution_count": 18,
   "metadata": {},
   "outputs": [
    {
     "name": "stdout",
     "output_type": "stream",
     "text": [
      "<class 'pandas.core.frame.DataFrame'>\n",
      "Int64Index: 104896 entries, 0 to 39999\n",
      "Columns: 162 entries, Ranking to Reviews_Dif\n",
      "dtypes: float64(4), int64(1), uint8(157)\n",
      "memory usage: 20.5 MB\n"
     ]
    }
   ],
   "source": [
    "X.info()"
   ]
  },
  {
   "cell_type": "markdown",
   "metadata": {},
   "source": [
    "# Создаём, обучаем и тестируем модель"
   ]
  },
  {
   "cell_type": "code",
   "execution_count": 19,
   "metadata": {},
   "outputs": [],
   "source": [
    "# Импортируем необходимые библиотеки:\n",
    "from sklearn.ensemble import RandomForestRegressor # инструмент для создания и обучения модели\n",
    "from sklearn import metrics # инструменты для оценки точности модели"
   ]
  },
  {
   "cell_type": "code",
   "execution_count": 20,
   "metadata": {},
   "outputs": [],
   "source": [
    "# Создаём модель\n",
    "regr = RandomForestRegressor(n_estimators=100)\n",
    "\n",
    "# Обучаем модель на тестовом наборе данных\n",
    "regr.fit(X_train, y_train)\n",
    "\n",
    "# Используем обученную модель для предсказания рейтинга ресторанов в тестовой выборке.\n",
    "# Предсказанные значения записываем в переменную y_pred\n",
    "y_pred = regr.predict(X_test)"
   ]
  },
  {
   "cell_type": "code",
   "execution_count": 21,
   "metadata": {},
   "outputs": [
    {
     "name": "stdout",
     "output_type": "stream",
     "text": [
      "MAE: 0.09769600366076871\n"
     ]
    }
   ],
   "source": [
    "# Сравниваем предсказанные значения (y_pred) с реальными (y_test), и смотрим насколько они в среднем отличаются\n",
    "# Метрика называется Mean Absolute Error (MAE) и показывает среднее отклонение предсказанных значений от фактических.\n",
    "print('MAE:', metrics.mean_absolute_error(y_test, y_pred))"
   ]
  },
  {
   "cell_type": "code",
   "execution_count": null,
   "metadata": {},
   "outputs": [],
   "source": []
  }
 ],
 "metadata": {
  "kernelspec": {
   "display_name": "Python 3",
   "language": "python",
   "name": "python3"
  },
  "language_info": {
   "codemirror_mode": {
    "name": "ipython",
    "version": 3
   },
   "file_extension": ".py",
   "mimetype": "text/x-python",
   "name": "python",
   "nbconvert_exporter": "python",
   "pygments_lexer": "ipython3",
   "version": "3.8.5"
  }
 },
 "nbformat": 4,
 "nbformat_minor": 2
}
